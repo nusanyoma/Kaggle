{
 "cells": [
  {
   "cell_type": "code",
   "execution_count": 2,
   "metadata": {},
   "outputs": [],
   "source": [
    "import math\n",
    "import numpy as np\n",
    "import pandas as pd\n",
    "import matplotlib.pyplot as plt\n",
    "import seaborn as sns\n",
    "from sklearn.model_selection import TimeSeriesSplit\n",
    "from tqdm import tqdm_notebook\n",
    "from sklearn.preprocessing import LabelEncoder\n",
    "from sklearn.metrics import roc_auc_score\n",
    "%matplotlib inline\n",
    "\n",
    "import lightgbm as lgb\n",
    "import gc\n",
    "import datetime\n",
    "import warnings\n",
    "warnings.filterwarnings('ignore')"
   ]
  },
  {
   "cell_type": "code",
   "execution_count": 3,
   "metadata": {},
   "outputs": [],
   "source": [
    "def reduce_mem_usage(df, verbose=True):\n",
    "    numerics = ['int16', 'int32', 'int64', 'float16', 'float32', 'float64']\n",
    "    \n",
    "    # 初期状態のメモリ消費量確認 （=value.nbytes)\n",
    "    start_mem = df.memory_usage().sum() / 1024**2    \n",
    "    \n",
    "    # 各列について\n",
    "    for col in df.columns:\n",
    "        col_type = df[col].dtypes\n",
    "        # 列のタイプがint16~64 or float16~64なら\n",
    "        if col_type in numerics:\n",
    "            c_min = df[col].min()\n",
    "            c_max = df[col].max()\n",
    "            # int型なら\n",
    "            if str(col_type)[:3] == 'int':\n",
    "                # 列の全値がint8型の範囲に収まるなら列の値をint8型に変換\n",
    "                if c_min > np.iinfo(np.int8).min and c_max < np.iinfo(np.int8).max:\n",
    "                    df[col] = df[col].astype(np.int8)\n",
    "                # 列の全値がint16型の範囲に収まるなら...\n",
    "                elif c_min > np.iinfo(np.int16).min and c_max < np.iinfo(np.int16).max:\n",
    "                    df[col] = df[col].astype(np.int16)\n",
    "                # 列の全値がint32型の範囲に収まるなら...\n",
    "                elif c_min > np.iinfo(np.int32).min and c_max < np.iinfo(np.int32).max:\n",
    "                    df[col] = df[col].astype(np.int32)\n",
    "                # 列の全値がint64型の範囲に収まるなら...\n",
    "                elif c_min > np.iinfo(np.int64).min and c_max < np.iinfo(np.int64).max:\n",
    "                    df[col] = df[col].astype(np.int64)  \n",
    "            # float型なら\n",
    "            else:\n",
    "                # 列の全値がfloat32型の範囲に収まるなら列の値をfloat32型に変換\n",
    "                if c_min > np.finfo(np.float32).min and c_max < np.finfo(np.float32).max:\n",
    "                    df[col] = df[col].astype(np.float32)\n",
    "                # 列の値をfloat64型に\n",
    "                else:\n",
    "                    df[col] = df[col].astype(np.float64)\n",
    "    # 型変換の後のメモリ消費量を確認\n",
    "    end_mem = df.memory_usage().sum() / 1024**2\n",
    "    if verbose: print('Mem. usage decreased to {:5.2f} Mb ({:.1f}% reduction)'.format(end_mem, 100 * (start_mem - end_mem) / start_mem))\n",
    "    return df"
   ]
  },
  {
   "cell_type": "code",
   "execution_count": 4,
   "metadata": {},
   "outputs": [],
   "source": [
    "folder_path = './ieee-fraud-detection'\n",
    "train_identity = pd.read_csv(f'{folder_path}/train_identity.csv')\n",
    "train_transaction = pd.read_csv(f'{folder_path}/train_transaction.csv')\n",
    "test_identity = pd.read_csv(f'{folder_path}/test_identity.csv')\n",
    "test_transaction = pd.read_csv(f'{folder_path}/test_transaction.csv')\n",
    "sample_sub = pd.read_csv(f'{folder_path}/sample_submission.csv')\n",
    "\n",
    "train = pd.merge(train_transaction, train_identity, on='TransactionID', how='left')\n",
    "test = pd.merge(test_transaction, test_identity, on='TransactionID', how='left')"
   ]
  },
  {
   "cell_type": "code",
   "execution_count": 5,
   "metadata": {},
   "outputs": [
    {
     "name": "stdout",
     "output_type": "stream",
     "text": [
      "Mem. usage decreased to 1049.21 Mb (46.5% reduction)\n",
      "Mem. usage decreased to 899.75 Mb (46.4% reduction)\n"
     ]
    }
   ],
   "source": [
    "train = reduce_mem_usage(train)\n",
    "test = reduce_mem_usage(test)"
   ]
  },
  {
   "cell_type": "code",
   "execution_count": 6,
   "metadata": {},
   "outputs": [],
   "source": [
    "base_columns = list(train)"
   ]
  },
  {
   "cell_type": "markdown",
   "metadata": {},
   "source": [
    "# Add feature"
   ]
  },
  {
   "cell_type": "code",
   "execution_count": 8,
   "metadata": {},
   "outputs": [],
   "source": [
    "def encode_trigonometric(df, cols):\n",
    "    for col in cols:\n",
    "        df[col + '_cos'] = np.cos(2 * np.pi * df[col] / df[col].max())\n",
    "        df[col + '_sin'] = np.sin(2 * np.pi * df[col] / df[col].max())\n",
    "    return df"
   ]
  },
  {
   "cell_type": "code",
   "execution_count": 9,
   "metadata": {},
   "outputs": [],
   "source": [
    "m_cols = ['M1', 'M2', 'M3', 'M5', 'M6', 'M7', 'M8', 'M9']"
   ]
  },
  {
   "cell_type": "code",
   "execution_count": 10,
   "metadata": {},
   "outputs": [],
   "source": [
    "import datetime\n",
    "from pandas.tseries.holiday import USFederalHolidayCalendar as calendar\n",
    "start_date = datetime.datetime.strptime('2017-12-01', '%Y-%m-%d')\n",
    "dates_range = pd.date_range(start='2017-10-01', end='2019-01-01')\n",
    "us_holidays = calendar().holidays(start=dates_range.min(), end=dates_range.max())"
   ]
  },
  {
   "cell_type": "code",
   "execution_count": 11,
   "metadata": {},
   "outputs": [],
   "source": [
    "def add_feature(df):\n",
    "    df['TransactionAmt_mean_diff'] = df['TransactionAmt'] - df['TransactionAmt'].mean()\n",
    "    df['TransactionAmt_std_normalize'] = df['TransactionAmt'] / df['TransactionAmt'].std()\n",
    "    \n",
    "    df['TransactionAmt_to_mean_card1'] = df['TransactionAmt'] / df.groupby(['card1'])['TransactionAmt'].transform('mean')\n",
    "    #df['TransactionAmt_to_mean_card2'] = df['TransactionAmt'] / df.groupby(['card2'])['TransactionAmt'].transform('mean')\n",
    "    #df['TransactionAmt_to_mean_card3'] = df['TransactionAmt'] / df.groupby(['card3'])['TransactionAmt'].transform('mean')\n",
    "    df['TransactionAmt_to_mean_card4'] = df['TransactionAmt'] / df.groupby(['card4'])['TransactionAmt'].transform('mean')\n",
    "    #df['TransactionAmt_to_mean_card5'] = df['TransactionAmt'] / df.groupby(['card5'])['TransactionAmt'].transform('mean')\n",
    "    #df['TransactionAmt_to_mean_card6'] = df['TransactionAmt'] / df.groupby(['card6'])['TransactionAmt'].transform('mean')\n",
    "    df['TransactionAmt_to_std_card1'] = df['TransactionAmt'] / df.groupby(['card1'])['TransactionAmt'].transform('std')\n",
    "    #df['TransactionAmt_to_std_card2'] = df['TransactionAmt'] / df.groupby(['card2'])['TransactionAmt'].transform('std')\n",
    "    #df['TransactionAmt_to_std_card3'] = df['TransactionAmt'] / df.groupby(['card3'])['TransactionAmt'].transform('std')\n",
    "    df['TransactionAmt_to_std_card4'] = df['TransactionAmt'] / df.groupby(['card4'])['TransactionAmt'].transform('std')\n",
    "    #df['TransactionAmt_to_std_card5'] = df['TransactionAmt'] / df.groupby(['card5'])['TransactionAmt'].transform('std')\n",
    "    #df['TransactionAmt_to_std_card6'] = df['TransactionAmt'] / df.groupby(['card6'])['TransactionAmt'].transform('std')\n",
    "    \n",
    "    df['TransactionAmt_decimal'] = ((df['TransactionAmt'] - df['TransactionAmt'].astype(int)) * 1000).astype(int)\n",
    "    \n",
    "    # df['TransactionAmt'] = np.log(df['TransactionAmt'])\n",
    "    \n",
    "    df['card1_count_full'] = df['card1'].map(pd.concat([train['card1'], test['card1']], ignore_index=True).value_counts(dropna=False))\n",
    "    \n",
    "    df['uid'] = df['card1'].astype(str) + '_' + df['card2'].astype(str)\n",
    "    df['uid2'] = df['uid'].astype(str) + '_' + df['card3'].astype(str) + '_' + df['card5'].astype(str)\n",
    "    df['uid3'] = df['uid2'].astype(str) + '_' + df['addr1'].astype(str) + '_' + df['addr2'].astype(str)\n",
    "    df['uid4'] = df['uid3'].astype(str) + '_' + df['P_emaildomain'].astype(str)\n",
    "    df['uid5'] = df['uid3'].astype(str) + '_' + df['R_emaildomain'].astype(str)\n",
    "    \n",
    "    \n",
    "    df['id_02_to_mean_card1'] = df['id_02'] / df.groupby(['card1'])['id_02'].transform('mean')\n",
    "    df['id_02_to_mean_card4'] = df['id_02'] / df.groupby(['card4'])['id_02'].transform('mean')\n",
    "    df['id_02_to_std_card1'] = df['id_02'] / df.groupby(['card1'])['id_02'].transform('std')\n",
    "    df['id_02_to_std_card4'] = df['id_02'] / df.groupby(['card4'])['id_02'].transform('std')\n",
    "    \n",
    "    df['D15_to_mean_card1'] = df['D15'] / df.groupby(['card1'])['D15'].transform('mean')\n",
    "    df['D15_to_mean_card4'] = df['D15'] / df.groupby(['card4'])['D15'].transform('mean')\n",
    "    df['D15_to_std_card1'] = df['D15'] / df.groupby(['card1'])['D15'].transform('std')\n",
    "    df['D15_to_std_card4'] = df['D15'] / df.groupby(['card4'])['D15'].transform('std')\n",
    "    \n",
    "    df['D15_to_mean_addr1'] = df['D15'] / df.groupby(['addr1'])['D15'].transform('mean')\n",
    "    df['D15_to_mean_addr2'] = df['D15'] / df.groupby(['addr2'])['D15'].transform('mean')\n",
    "    df['D15_to_std_addr1'] = df['D15'] / df.groupby(['addr1'])['D15'].transform('std')\n",
    "    df['D15_to_std_addr2'] = df['D15'] / df.groupby(['addr2'])['D15'].transform('std')\n",
    "    \n",
    "    df['M_sum'] = df[m_cols].sum(axis=1)\n",
    "    df['M_na'] = df[m_cols].isna().sum(axis=1)\n",
    "    \n",
    "    uknown = 'email_not_provided'\n",
    "    df['P_emaildomain'] = df['P_emaildomain'].fillna(uknown)\n",
    "    df['R_emaildomain'] = df['R_emaildomain'].fillna(uknown)\n",
    "    df['email_check'] = np.where((df['P_emaildomain'] == df['R_emaildomain']) & (df['P_emaildomain'] != uknown), 1, 0)\n",
    "    df[['P_emaildomain_1', 'P_emaildomain_2', 'P_emaildomain_3']] = df['P_emaildomain'].str.split('.', expand=True)\n",
    "    df[['R_emaildomain_1', 'R_emaildomain_2', 'R_emaildomain_3']] = df['R_emaildomain'].str.split('.', expand=True)\n",
    "    \n",
    "    df['DeviceInfo'] = df['DeviceInfo'].fillna('unknown_device').str.lower()\n",
    "    df['DeviceInfo_device'] = df['DeviceInfo'].apply(lambda x: ' '.join([i for i in x if i.isalpha()]))\n",
    "    df['DeviceInfo_version'] = df['DeviceInfo'].apply(lambda x: ' '.join([i for i in x if i.isnumeric()]))\n",
    "    \n",
    "    df['id_30'] = df['id_30'].fillna('unknown_device').str.lower()\n",
    "    df['id_30_device'] = df['id_30'].apply(lambda x: ' '.join([i for i in x if i.isalpha()]))\n",
    "    df['id_30_version'] = df['id_30'].apply(lambda x: ' '.join([i for i in x if i.isnumeric()]))\n",
    "    \n",
    "    df['id_31'] = df['id_31'].fillna('unknown_device').str.lower()\n",
    "    df['id_31_device'] = df['id_31'].apply(lambda x: ' '.join([i for i in x if i.isalpha()]))\n",
    "    \n",
    "    #df['weekdays'] = np.floor((df['TransactionDT'] / (3600 * 24) - 1) % 7)\n",
    "    #df['hours'] = np.floor(df['TransactionDT'] / 3600) % 24\n",
    "    \n",
    "    df['DT'] = df['TransactionDT'].apply(lambda x: (start_date + datetime.timedelta(seconds=x)))\n",
    "    df['DT_M'] = (df['DT'].dt.year - 2017) * 12 + df['DT'].dt.month\n",
    "    df['DT_W'] = (df['DT'].dt.year - 2017) * 52 + df['DT'].dt.weekofyear\n",
    "    df['DT_D'] = (df['DT'].dt.year - 2017) * 365 + df['DT'].dt.dayofyear\n",
    "    \n",
    "    df['DT_hour'] = df['DT'].dt.hour\n",
    "    df['DT_day_week'] = df['DT'].dt.dayofweek\n",
    "    df['DT_day'] = df['DT'].dt.day\n",
    "    #df['D9'] = np.where(df['D9'].isna(), 0, 1)\n",
    "    \n",
    "    df['is_december'] = df['DT'].dt.month\n",
    "    df['is_december'] = df['is_december']==12\n",
    "    \n",
    "    df['is_holiday'] = df['DT'].dt.date.astype('datetime64').isin(us_holidays)\n",
    "    \n",
    "    trigonometric_cols = ['DT_hour', 'DT_day_week', 'DT_day']\n",
    "    df = encode_trigonometric(df, trigonometric_cols)"
   ]
  },
  {
   "cell_type": "code",
   "execution_count": 12,
   "metadata": {},
   "outputs": [],
   "source": [
    "add_feature(train)\n",
    "add_feature(test)"
   ]
  },
  {
   "cell_type": "code",
   "execution_count": 13,
   "metadata": {},
   "outputs": [],
   "source": [
    "train = train.drop('DT', axis=1)\n",
    "test = test.drop('DT', axis=1)"
   ]
  },
  {
   "cell_type": "code",
   "execution_count": 14,
   "metadata": {},
   "outputs": [],
   "source": [
    "def values_normalization(df, periods, columns):\n",
    "    for period in periods:\n",
    "        for col in columns:\n",
    "            new_col = col + '_' + period\n",
    "            df[col] = df[col].astype(float)\n",
    "            \n",
    "            temp_min = df.groupby([period])[col].agg(['min']).reset_index()\n",
    "            temp_min.index = temp_min[period].values\n",
    "            temp_min = temp_min['min'].to_dict()\n",
    "            \n",
    "            temp_max = df.groupby([period])[col].agg(['max']).reset_index()\n",
    "            temp_max.index = temp_max[period].values\n",
    "            temp_max = temp_max['max'].to_dict()\n",
    "            \n",
    "            temp_mean = df.groupby([period])[col].agg(['mean']).reset_index()\n",
    "            temp_mean.index = temp_mean[period].values\n",
    "            temp_mean = temp_mean['mean'].to_dict()\n",
    "            \n",
    "            temp_std = df.groupby([period])[col].agg(['std']).reset_index()\n",
    "            temp_std.index = temp_std[period].values\n",
    "            temp_std = temp_std['std'].to_dict()\n",
    "            \n",
    "            df['temp_min'] = df[period].map(temp_min)\n",
    "            df['temp_max'] = df[period].map(temp_max)\n",
    "            df['temp_mean'] = df[period].map(temp_mean)\n",
    "            df['temp_std'] = df[period].map(temp_std)\n",
    "            \n",
    "            df[new_col + '_min_max'] = (df[col] - df['temp_min']) / (df['temp_max'] - df['temp_min'])\n",
    "            df[new_col + '_std_score'] = (df[col] - df['temp_mean']) / (df['temp_std'])\n",
    "            del df['temp_min'], df['temp_max'], df['temp_mean'], df['temp_std']\n",
    "            \n",
    "    return df"
   ]
  },
  {
   "cell_type": "code",
   "execution_count": 15,
   "metadata": {},
   "outputs": [],
   "source": [
    "def frequency_encoding(train, test, columns, self_encoding=False):\n",
    "    for col in columns:\n",
    "        temp_df = pd.concat([train[[col]], test[[col]]])\n",
    "        fq_encode = temp_df[col].value_counts(dropna=False).to_dict()\n",
    "        if self_encoding:\n",
    "            train[col] = train[col].map(fq_encode)\n",
    "            test[col] = test[col].map(fq_encode)\n",
    "        else:\n",
    "            train[col + '_fq_enc'] = train[col].map(fq_encode)\n",
    "            test[col + '_fq_enc'] = test[col].map(fq_encode)\n",
    "        \n",
    "    return train, test"
   ]
  },
  {
   "cell_type": "code",
   "execution_count": 16,
   "metadata": {},
   "outputs": [],
   "source": [
    "def timeblock_frequency_encoding(train, test, periods, columns, with_proportions=True, only_proportions=False):\n",
    "    for period in periods:\n",
    "        for col in columns:\n",
    "            new_col = col + '_' + period\n",
    "            train[new_col] = train[col].astype(str) + '_' + train[period].astype(str)\n",
    "            test[new_col] = test[col].astype(str) + '_' + test[period].astype(str)\n",
    "            \n",
    "            temp_df = pd.concat([train[[new_col]], test[[new_col]]])\n",
    "            fq_encode = temp_df[new_col].value_counts().to_dict()\n",
    "            \n",
    "            train[new_col] = train[new_col].map(fq_encode)\n",
    "            test[new_col] = test[new_col].map(fq_encode)\n",
    "            \n",
    "            if only_proportions:\n",
    "                train[new_col] = train[new_col] / train[period + '_total']\n",
    "                test[new_col] = test[new_col] / test[period + '_total']\n",
    "                \n",
    "            if with_proportions:\n",
    "                train[new_col + '_proportions'] = train[new_col] / train[period + '_total']\n",
    "                test[new_col + '_proportions'] = test[new_col] / test[period + '_total']\n",
    "                \n",
    "    return train, test"
   ]
  },
  {
   "cell_type": "code",
   "execution_count": 17,
   "metadata": {},
   "outputs": [],
   "source": [
    "def uid_aggregation(train, test, main_columns, uids, aggregations):\n",
    "    for main_column in main_columns:\n",
    "        for col in uids:\n",
    "            for agg_type in aggregations:\n",
    "                new_col_name = col + '_' + main_column + '_' + agg_type\n",
    "                temp_df = pd.concat([train[[col, main_column]], test[[col, main_column]]])\n",
    "                temp_df = temp_df.groupby([col])[main_column].agg([agg_type]).reset_index().rename(columns={agg_type: new_col_name})\n",
    "                \n",
    "                temp_df.index = list(temp_df[col])\n",
    "                temp_df = temp_df[new_col_name].to_dict()\n",
    "                train[new_col_name] = train[col].map(temp_df)\n",
    "                test[new_col_name] = test[col].map(temp_df)\n",
    "                \n",
    "    return train, test"
   ]
  },
  {
   "cell_type": "code",
   "execution_count": 18,
   "metadata": {},
   "outputs": [],
   "source": [
    "for col in ['DT_M', 'DT_W', 'DT_D']:\n",
    "    temp_df = pd.concat([train[[col]], test[[col]]])\n",
    "    fq_encode = temp_df[col].value_counts().to_dict()\n",
    "    train[col + '_total'] = train[col].map(fq_encode)\n",
    "    test[col + '_total'] = test[col].map(fq_encode)"
   ]
  },
  {
   "cell_type": "code",
   "execution_count": 19,
   "metadata": {},
   "outputs": [],
   "source": [
    "valid_card = pd.concat([train[['card1']], test[['card1']]])\n",
    "valid_card = valid_card['card1'].value_counts()\n",
    "valid_card = valid_card[valid_card > 2]\n",
    "valid_card = list(valid_card.index)\n",
    "\n",
    "train['card1'] = np.where(train['card1'].isin(test['card1']), train['card1'], np.nan)\n",
    "test['card1'] = np.where(test['card1'].isin(train['card1']), test['card1'], np.nan)\n",
    "\n",
    "train['card1'] = np.where(train['card1'].isin(valid_card), train['card1'], np.nan)\n",
    "test['card1'] = np.where(test['card1'].isin(valid_card), test['card1'], np.nan)\n",
    "\n",
    "for col in ['card2', 'card3', 'card4', 'card5', 'card6']:\n",
    "    train[col] = np.where(train[col].isin(test[col]), train[col], np.nan)\n",
    "    test[col] = np.where(test[col].isin(train[col]), test[col], np.nan)\n",
    "    \n",
    "i_cols = ['card1', 'card2', 'card3', 'card5', 'uid', 'uid2', 'uid3', 'uid4', 'uid5']\n",
    "train, test = frequency_encoding(train, test, i_cols, self_encoding=False)"
   ]
  },
  {
   "cell_type": "code",
   "execution_count": 20,
   "metadata": {},
   "outputs": [],
   "source": [
    "for df in [train, test]:\n",
    "    df['bank_type'] = df['card3'].astype(str) + '_' + df['card5'].astype(str)\n",
    "    \n",
    "encoding_mean = {\n",
    "        1: ['DT_D', 'DT_hour', '_hour_dist', 'DT_hour_mean'],\n",
    "        2: ['DT_W', 'DT_day_week', '_week_day_dist', 'DT_day_week_mean'],\n",
    "        3: ['DT_M', 'DT_day', '_month_day_dist', 'DT_day_mean']}\n",
    "encoding_best = {\n",
    "        1: ['DT_D', 'DT_hour', '_hour_dist_best', 'DT_hour_best'],\n",
    "        2: ['DT_W', 'DT_day_week', '_week_day_dist_best', 'DT_day_week_best'],\n",
    "        3: ['DT_M', 'DT_day', '_month_day_dist_best', 'DT_day_best']}\n",
    "\n",
    "for col in ['card3', 'card5', 'bank_type']:\n",
    "    for df in [train, test]:\n",
    "        for encode in encoding_mean:\n",
    "            encode = encoding_mean[encode].copy()\n",
    "            new_col = col + '_' + encode[0] + encode[2]\n",
    "            df[new_col] = df[col].astype(str) + '_' + df[encode[0]].astype(str)\n",
    "            temp_dict = df.groupby([new_col])[encode[1]].agg(['mean']).reset_index().rename(columns={'mean': encode[3]})\n",
    "            temp_dict.index = temp_dict[new_col].values\n",
    "            temp_dict = temp_dict[encode[3]].to_dict()\n",
    "            df[new_col] = df[encode[1]] - df[new_col].map(temp_dict)\n",
    "            \n",
    "        for encode in encoding_best:\n",
    "            encode = encoding_best[encode].copy()\n",
    "            new_col = col + '_' + encode[0] + encode[2]\n",
    "            df[new_col] = df[col].astype(str) + '_' + df[encode[0]].astype(str)\n",
    "            temp_dict = df.groupby([col, encode[0], encode[1]])[encode[1]].agg(['count']).reset_index().rename(columns={'count': encode[3]})\n",
    "            temp_dict.sort_values(by=[col, encode[0], encode[3]], inplace=True)\n",
    "            temp_dict = temp_dict.drop_duplicates(subset=[col, encode[0]], keep='last')\n",
    "            temp_dict[new_col] = temp_dict[col].astype(str) + '_' + temp_dict[encode[0]].astype(str)\n",
    "            temp_dict.index = temp_dict[new_col].values\n",
    "            temp_dict = temp_dict[encode[1]].to_dict()\n",
    "            df[new_col] = df[encode[1]] - df[new_col].map(temp_dict)"
   ]
  },
  {
   "cell_type": "code",
   "execution_count": 21,
   "metadata": {},
   "outputs": [],
   "source": [
    "i_cols = ['bank_type']\n",
    "periods = ['DT_M', 'DT_W', 'DT_D']\n",
    "\n",
    "train, test = timeblock_frequency_encoding(train, test, periods, i_cols, with_proportions=False, only_proportions=True)"
   ]
  },
  {
   "cell_type": "code",
   "execution_count": 22,
   "metadata": {},
   "outputs": [],
   "source": [
    "i_cols = ['D' + str(i) for i in range(1, 16)]\n",
    "uids = ['uid', 'uid2', 'uid3', 'uid4', 'uid5', 'bank_type']\n",
    "aggregations = ['mean', 'std']\n",
    "\n",
    "train, test = uid_aggregation(train, test, i_cols, uids, aggregations)\n",
    "\n",
    "for df in [train, test]:\n",
    "    for col in i_cols:\n",
    "        df[col] = df[col].clip(0)\n",
    "    \n",
    "    df['D9_not_na'] = np.where(df['D9'].isna(), 0, 1)\n",
    "    df['D8_not_same_day'] = np.where(df['D8'] >= 1, 1, 0)\n",
    "    df['D8_D9_decimal_dist'] = df['D8'].fillna(0) - df['D8'].fillna(0).astype(int)\n",
    "    df['D8_D9_decimal_dist'] = ((df['D8_D9_decimal_dist'] - df['D9'] ** 2) ** 0.5)\n",
    "    df['D8'] = df['D8'].fillna(-1).astype(int)\n",
    "    \n",
    "i_cols.remove('D1')\n",
    "i_cols.remove('D2')\n",
    "i_cols.remove('D9')\n",
    "periods = ['DT_D', 'DT_W', 'DT_M']\n",
    "for df in [train, test]:\n",
    "    df = values_normalization(df, periods, i_cols)\n",
    "\n",
    "for col in ['D1', 'D2']:\n",
    "    for df in [train, test]:\n",
    "        df[col + '_scaled'] = df[col] / train[col].max()\n",
    "        \n",
    "i_cols = ['D' + str(i) for i in range(1, 16)]\n",
    "train, test = frequency_encoding(train, test, i_cols, self_encoding=True)"
   ]
  },
  {
   "cell_type": "code",
   "execution_count": 23,
   "metadata": {},
   "outputs": [
    {
     "data": {
      "image/png": "[encoded data removed]",
      "text/plain": [
       "<Figure size 1080x216 with 1 Axes>"
      ]
     },
     "metadata": {
      "needs_background": "light"
     },
     "output_type": "display_data"
    }
   ],
   "source": [
    "i_cols = ['TransactionAmt']\n",
    "periods = ['DT_D']\n",
    "\n",
    "temp_df = pd.concat([train[['TransactionDT'] + i_cols + periods], test[['TransactionDT'] + i_cols + periods]])\n",
    "for period in periods:\n",
    "    for col in i_cols:\n",
    "        for df in [temp_df]:\n",
    "            df.set_index(period)[col].plot(style='.', title=col, figsize=(15, 3))\n",
    "            plt.show()\n",
    "            \n",
    "train['TransactionAmt'] = train['TransactionAmt'].clip(0, 5000)\n",
    "test['TransactionAmt'] = test['TransactionAmt'].clip(0, 5000)\n",
    "\n",
    "train['TransactionAmt_check'] = np.where(train['TransactionAmt'].isin(test['TransactionAmt']), 1, 0)\n",
    "test['TransactionAmt_check'] = np.where(test['TransactionAmt'].isin(train['TransactionAmt']), 1, 0)\n",
    "\n",
    "i_cols = ['TransactionAmt']\n",
    "uids = ['card1', 'card2', 'card3', 'card5', 'uid', 'uid2', 'uid3', 'uid4', 'uid5', 'bank_type']\n",
    "aggregations = ['mean', 'std']\n",
    "\n",
    "train, test = uid_aggregation(train, test, i_cols, uids, aggregations)\n",
    "\n",
    "periods = ['DT_D', 'DT_W', 'DT_M']\n",
    "for df in [train, test]:\n",
    "    df = values_normalization(df, periods, i_cols)\n",
    "    \n",
    "train['product_type'] = train['ProductCD'].astype(str) + '_' + train['TransactionAmt'].astype(str)\n",
    "test['product_type'] = test['ProductCD'].astype(str) + '_' + test['TransactionAmt'].astype(str)\n",
    "\n",
    "i_cols = ['product_type']\n",
    "periods = ['DT_D', 'DT_W', 'DT_M']\n",
    "train, test = timeblock_frequency_encoding(train, test, periods, i_cols, with_proportions=False, only_proportions=True)\n",
    "train, test = frequency_encoding(train, test, i_cols, self_encoding=True)\n",
    "\n",
    "train['TransactionAmt'] = np.log1p(train['TransactionAmt'])\n",
    "test['TransactionAmt'] = np.log1p(test['TransactionAmt'])"
   ]
  },
  {
   "cell_type": "code",
   "execution_count": 24,
   "metadata": {},
   "outputs": [],
   "source": [
    "i_cols = ['C' + str(i) for i in range(1, 15)]\n",
    "\n",
    "train, test = frequency_encoding(train, test, i_cols, self_encoding=False)\n",
    "\n",
    "for df in [train, test]:\n",
    "    for col in i_cols:\n",
    "        max_value = train[train['DT_M']==train['DT_M'].max()][col].max()\n",
    "        df[col] = df[col].clip(None, max_value)"
   ]
  },
  {
   "cell_type": "code",
   "execution_count": 25,
   "metadata": {},
   "outputs": [],
   "source": [
    "i_cols = ['DeviceInfo', 'DeviceInfo_device', 'DeviceInfo_version', \n",
    "         'id_30', 'id_30_device', 'id_30_version', 'id_31', 'id_31_device', 'id_33']\n",
    "\n",
    "train, test = frequency_encoding(train, test, i_cols, self_encoding=True)"
   ]
  },
  {
   "cell_type": "code",
   "execution_count": 26,
   "metadata": {},
   "outputs": [],
   "source": [
    "for feature in ['id_02__id_20', 'id_02__D8', 'D11__DeviceInfo', 'DeviceInfo__P_emaildomain',\n",
    "                'P_emaildomain__C2', 'card2__dist1', 'card1__card5', 'card2__id_20',\n",
    "                'card5__P_emaildomain', 'addr1__card1']:\n",
    "\n",
    "    f1, f2 = feature.split('__')\n",
    "    train[feature] = train[f1].astype(str) + '_' + train[f2].astype(str)\n",
    "    test[feature] = test[f1].astype(str) + '_' + test[f2].astype(str)\n",
    "\n",
    "for feature in ['id_34', 'id_36']:\n",
    "    train[feature + '_count_full'] = train[feature].map(pd.concat([train[feature], test[feature]], ignore_index=True).value_counts(dropna=False))\n",
    "    test[feature + '_count_full'] = test[feature].map(pd.concat([train[feature], test[feature]], ignore_index=True).value_counts(dropna=False))\n",
    "        \n",
    "for feature in ['id_01', 'id_31', 'id_33', 'id_35', 'id_36']:\n",
    "    train[feature + '_count_dist'] = train[feature].map(train[feature].value_counts(dropna=False))\n",
    "    test[feature + '_count_dist'] = test[feature].map(test[feature].value_counts(dropna=False))"
   ]
  },
  {
   "cell_type": "code",
   "execution_count": 27,
   "metadata": {},
   "outputs": [],
   "source": [
    "i_cols = ['card1', 'card2', 'card3', 'card4', 'card5', 'card6',\n",
    "          'uid', 'uid2', 'uid3', 'uid4', 'uid5', 'addr1', 'addr2', 'P_emaildomain']\n",
    "for df in [train, test]:\n",
    "    for col in i_cols:\n",
    "        df['next_' + col + '_DT'] = df.groupby([col])['TransactionDT'].shift(-1)\n",
    "        df['next_' + col + '_diff'] = df['next_' + col + '_DT'] - df['TransactionDT']\n",
    "        df['next_' + col + '_diff'] = df['next_' + col + '_diff'].fillna(df['next_' + col + '_diff'].max())\n",
    "        df = df.drop('next_' + col + '_DT', axis=1)\n",
    "\n",
    "        df['previous_' + col + '_DT'] = df.groupby([col])['TransactionDT'].shift(1)\n",
    "        df['previous_' + col + '_diff'] = df['TransactionDT'] - df['previous_' + col + '_DT']\n",
    "        df['previous_' + col + '_diff'] = df['previous_' + col + '_diff'].fillna(df['previous_' + col + '_diff'].max())\n",
    "        df = df.drop('previous_' + col + '_DT', axis=1)"
   ]
  },
  {
   "cell_type": "code",
   "execution_count": 28,
   "metadata": {},
   "outputs": [],
   "source": [
    "i_cols = ['ProductCD', 'card1', 'card2', 'card3', 'card4', 'card5', 'card6', 'addr1', 'P_emaildomain']\n",
    "temp_df = pd.concat([train[i_cols], test[i_cols]])\n",
    "for i, col in enumerate(i_cols):\n",
    "    for j in range(i + 1, len(i_cols)):\n",
    "        to_unique = i_cols[j]\n",
    "        unique_encode = temp_df.groupby([col])[to_unique].nunique().to_dict()\n",
    "        train[col + '_by_' + to_unique + '_countuniq'] = train[col].map(unique_encode)\n",
    "        test[col + '_by_' + to_unique + '_countuniq'] = test[col].map(unique_encode)"
   ]
  },
  {
   "cell_type": "code",
   "execution_count": null,
   "metadata": {},
   "outputs": [],
   "source": []
  },
  {
   "cell_type": "markdown",
   "metadata": {},
   "source": [
    "# ()"
   ]
  },
  {
   "cell_type": "code",
   "execution_count": null,
   "metadata": {},
   "outputs": [],
   "source": [
    "def check_cor_and_remove(train, test, i_cols, new_columns, remove=False):\n",
    "    print('Correlations', '#' * 10)\n",
    "    for col in new_columns:\n",
    "        cor_cof = np.corrcoef(train[TARGET])"
   ]
  },
  {
   "cell_type": "code",
   "execution_count": 308,
   "metadata": {},
   "outputs": [],
   "source": [
    "i_cols = ['card1', 'card2', 'card3', 'card5', 'uid', 'uid2', 'uid3']\n",
    "for col in i_cols:\n",
    "    for agg_type in ['mean', 'std']:\n",
    "        new_col_name = col + '_TransactionAmt_' + agg_type\n",
    "        temp_df = pd.concat([train[[col, 'TransactionAmt']], test[[col, 'TransactionAmt']]])\n",
    "        temp_df = temp_df.groupby([col])['TransactionAmt'].agg([agg_type]).reset_index().rename(columns={agg_type: new_col_name})\n",
    "        temp_df.index = list(temp_df[col])\n",
    "        temp_df = temp_df[new_col_name].to_dict()\n",
    "        train[new_col_name] = train[col].map(temp_df)\n",
    "        test[new_col_name] = test[col].map(temp_df)\n",
    "train['TransactionAmt'] = np.log1p(train['TransactionAmt'])\n",
    "test['TransactionAmt'] = np.log1p(test['TransactionAmt'])"
   ]
  },
  {
   "cell_type": "code",
   "execution_count": 309,
   "metadata": {},
   "outputs": [],
   "source": [
    "ii_cols = ['card1', 'card2', 'card3', 'card5',\n",
    "           'C1', 'C2', 'C3', 'C4', 'C5', 'C6', 'C7', 'C8', 'C9', 'C10', 'C11', 'C12', 'C13', 'C14',\n",
    "          'D1', 'D2', 'D3', 'D4', 'D5', 'D6', 'D7', 'D8', 'addr1', 'addr2', 'dist1', 'dist2',\n",
    "          'P_emaildomain', 'R_emaildomain',\n",
    "           'DeviceInfo', 'id_30', 'id_33', 'uid'\n",
    "           , 'DeviceInfo_device', 'DeviceInfo_version', 'id_30_device', 'id_30_version', 'id_31_device'\n",
    "           , 'uid2', 'uid3'\n",
    "          ]\n",
    "\n",
    "for col in ii_cols:\n",
    "    temp_df = pd.concat([train[[col]], test[[col]]])\n",
    "    fq_encode = temp_df[col].value_counts(dropna=False).to_dict()\n",
    "    train[col + '_fq_enc'] = train[col].map(fq_encode)\n",
    "    test[col + '_fq_enc'] = test[col].map(fq_encode)\n",
    "    \n",
    "for col in ['DT_M', 'DT_W', 'DT_D']:\n",
    "    temp_df = pd.concat([train[[col]], test[col]])\n",
    "    fq_encode = temp_df[col].value_counts().to_dict()\n",
    "    train[col + '_total'] = train[col].map(fq_encode)\n",
    "    test[col + '_total'] = test[col].map(fq_encode)"
   ]
  },
  {
   "cell_type": "code",
   "execution_count": 83,
   "metadata": {},
   "outputs": [],
   "source": [
    "for df in [train_, test_]:\n",
    "    temp_dict = df.groupby(['ProductCD'])['TransactionAmt'].agg(['mean']).reset_index().rename(columns={'mean': 'Amt_mean'})\n",
    "    temp_dict.index = temp_dict['ProductCD'].values\n",
    "    temp_dict = temp_dict['Amt_mean'].to_dict()\n",
    "    df['TransactionAmt_ProductCD'] = df['TransactionAmt'] - df['ProductCD'].map(temp_dict)"
   ]
  },
  {
   "cell_type": "code",
   "execution_count": 107,
   "metadata": {},
   "outputs": [],
   "source": [
    "i_cols = ['card2', 'card3', 'card4', 'card5', 'card6', 'addr1', 'dist1', 'dist2',\n",
    "          'P_emaildomain']\n",
    "for col in i_cols:\n",
    "    train_[col + '_isnan'] = train_[col].isnull()\n",
    "    test_[col + '_isnan'] = test_[col].isnull()"
   ]
  },
  {
   "cell_type": "code",
   "execution_count": 105,
   "metadata": {},
   "outputs": [],
   "source": [
    "periods = [1, 5, 10, 30, 50]\n",
    "i_cols = ['card1', 'card2', 'card3', 'card4', 'card5', 'card6', 'addr1', 'addr2', 'P_emaildomain']\n",
    "for col in i_cols:\n",
    "    for period in periods:\n",
    "        for df in [train_, test_]:\n",
    "            #df[col + '_previous_' + str(period) + '_days_count'] = df.groupby([col])['TransactionID'].rolling(center=False, window=period).count().reset_index(drop=True)\n",
    "            #df[col + '_previous_' + str(period) + '_days_count'] = df.groupby([col])[col + '_previous_' + str(period) + '_days_count'].shift(periods=1)\n",
    "            \n",
    "            df[col + '_next_' + str(period) + '_days_count'] = df.iloc[::-1].groupby([col], sort=False)['TransactionID'].rolling(center=False, window=period).count().reset_index(drop=True)\n",
    "            df[col + '_next_' + str(period) + '_days_count'] = df.groupby([col])[col + '_next_' + str(period) + '_days_count'].shift(periods=-1).iloc[::-1].values"
   ]
  },
  {
   "cell_type": "code",
   "execution_count": null,
   "metadata": {},
   "outputs": [],
   "source": []
  },
  {
   "cell_type": "code",
   "execution_count": 82,
   "metadata": {},
   "outputs": [],
   "source": [
    "train_ = train.copy()\n",
    "test_ = test.copy()"
   ]
  },
  {
   "cell_type": "code",
   "execution_count": 83,
   "metadata": {},
   "outputs": [],
   "source": [
    "periods = ['DT_M', 'DT_W', 'DT_D']\n",
    "i_cols = ['uid']\n",
    "train_, test_ = timeblock_frequency_encoding(train_, test_, periods, i_cols, with_proportions=False, only_proportions=True)"
   ]
  },
  {
   "cell_type": "code",
   "execution_count": 70,
   "metadata": {},
   "outputs": [],
   "source": [
    "train_.to_csv('train.csv')\n",
    "test_.to_csv('test.csv')"
   ]
  },
  {
   "cell_type": "markdown",
   "metadata": {},
   "source": [
    "# Add Target feature"
   ]
  },
  {
   "cell_type": "code",
   "execution_count": 84,
   "metadata": {},
   "outputs": [],
   "source": [
    "n_fold = 5\n",
    "kf = TimeSeriesSplit(n_splits=n_fold)"
   ]
  },
  {
   "cell_type": "code",
   "execution_count": 85,
   "metadata": {},
   "outputs": [],
   "source": [
    "target_mean = train_['isFraud'].mean()\n",
    "i_cols = ['ProductCD', 'card1_fq_enc', 'card2', 'card3', 'card5',\n",
    "          'uid_fq_enc', 'uid2_fq_enc', 'uid3_fq_enc', 'uid4_fq_enc', 'uid5_fq_enc',\n",
    "          'addr1', 'addr2', 'P_emaildomain', 'product_type_fq_enc', 'bank_type',\n",
    "         'DeviceInfo_device_fq_enc']\n",
    "for col in i_cols:\n",
    "    train_[col + '_target_enc'] = target_mean\n",
    "    \n",
    "    for i, (previous_index, current_index) in enumerate(kf.split(train_)):\n",
    "        \n",
    "        if i == 0:\n",
    "            continue\n",
    "            \n",
    "        else:\n",
    "            train_previous = train_.iloc[previous_index]\n",
    "            col_num = train_.columns.get_loc(col + '_target_enc')\n",
    "            \n",
    "            temp_dict = train_previous.groupby([col])['isFraud'].agg(['mean']).reset_index().rename(columns={'mean': col + '_target_enc'})\n",
    "            temp_dict.index = temp_dict[col].values\n",
    "            temp_dict = temp_dict[col + '_target_enc'].to_dict()\n",
    "            \n",
    "            train_.iloc[current_index, col_num] = train_.iloc[current_index][col].map(temp_dict)\n",
    "    \n",
    "    temp_dict = train_.groupby([col])['isFraud'].agg(['mean']).reset_index().rename(columns={'mean': col + '_target_enc'})\n",
    "    temp_dict.index = temp_dict[col].values\n",
    "    temp_dict = temp_dict[col + '_target_enc'].to_dict()\n",
    "    test_[col + '_target_enc'] = test_[col].map(temp_dict)"
   ]
  },
  {
   "cell_type": "code",
   "execution_count": null,
   "metadata": {},
   "outputs": [],
   "source": []
  },
  {
   "cell_type": "markdown",
   "metadata": {},
   "source": [
    "# Preprocessing"
   ]
  },
  {
   "cell_type": "code",
   "execution_count": 30,
   "metadata": {},
   "outputs": [],
   "source": [
    "def col_drop(df):\n",
    "    # null or not null で特徴になる？\n",
    "    null_cols = [col for col in df.columns if df[col].isnull().sum() / df.shape[0] > 0.9]\n",
    "    big_top_value_cols = [col for col in df.columns if df[col].value_counts(dropna=False, normalize=True).values[0] > 0.9]\n",
    "    one_value_cols = [col for col in df.columns if df[col].nunique() <= 1]\n",
    "    return null_cols, big_top_value_cols, one_value_cols"
   ]
  },
  {
   "cell_type": "code",
   "execution_count": 86,
   "metadata": {},
   "outputs": [
    {
     "data": {
      "text/plain": [
       "103"
      ]
     },
     "execution_count": 86,
     "metadata": {},
     "output_type": "execute_result"
    }
   ],
   "source": [
    "null_cols_train, big_top_value_cols_train, one_value_cols_train = col_drop(train_)\n",
    "null_cols_test, big_top_value_cols_test, one_value_cols_test = col_drop(test_)\n",
    "\n",
    "cols_to_drop = list(set(null_cols_train + null_cols_test + big_top_value_cols_train + big_top_value_cols_test + one_value_cols_train + one_value_cols_test))\n",
    "cols_to_drop.remove('isFraud')\n",
    "len(cols_to_drop)"
   ]
  },
  {
   "cell_type": "code",
   "execution_count": 87,
   "metadata": {},
   "outputs": [],
   "source": [
    "train_ = train_.drop(cols_to_drop, axis=1)\n",
    "test_ = test_.drop(cols_to_drop, axis=1)"
   ]
  },
  {
   "cell_type": "code",
   "execution_count": null,
   "metadata": {},
   "outputs": [],
   "source": []
  },
  {
   "cell_type": "markdown",
   "metadata": {},
   "source": [
    "# LabelEncoding"
   ]
  },
  {
   "cell_type": "code",
   "execution_count": 88,
   "metadata": {},
   "outputs": [
    {
     "data": {
      "application/vnd.jupyter.widget-view+json": {
       "model_id": "65415fc09a8e47488a19aeb8d0b3c79a",
       "version_major": 2,
       "version_minor": 0
      },
      "text/plain": [
       "HBox(children=(IntProgress(value=0, max=791), HTML(value='')))"
      ]
     },
     "metadata": {},
     "output_type": "display_data"
    },
    {
     "name": "stdout",
     "output_type": "stream",
     "text": [
      "\n"
     ]
    }
   ],
   "source": [
    "for col in tqdm_notebook(train_.columns):\n",
    "    if train_[col].dtype == 'object' and col != 'isFraud':\n",
    "        le = LabelEncoder()\n",
    "        le.fit(list(train_[col].astype(str).values) + list(test_[col].astype(str).values))\n",
    "        train_[col] = le.transform(list(train_[col].astype(str).values))\n",
    "        test_[col] = le.transform(list(test_[col].astype(str).values))"
   ]
  },
  {
   "cell_type": "code",
   "execution_count": null,
   "metadata": {},
   "outputs": [],
   "source": []
  },
  {
   "cell_type": "markdown",
   "metadata": {},
   "source": [
    "# Define X, y for modeling"
   ]
  },
  {
   "cell_type": "code",
   "execution_count": 34,
   "metadata": {},
   "outputs": [],
   "source": [
    "rm_cols = ['isFraud', 'DT_M', 'DT_W', 'DT_D', 'DT_hour', 'DT_day_week', 'DT_day',\n",
    "          'DT_D_total', 'DT_W_total', 'DT_M_total', 'uid', 'uid2', 'uid3', 'uid4', 'uid5',\n",
    "           'bank_type', 'id_30', 'id_31', 'id_33']"
   ]
  },
  {
   "cell_type": "code",
   "execution_count": 35,
   "metadata": {
    "scrolled": true
   },
   "outputs": [
    {
     "name": "stdout",
     "output_type": "stream",
     "text": [
      "129\n"
     ]
    }
   ],
   "source": [
    "from scipy.stats import ks_2samp\n",
    "features_check = []\n",
    "columns_to_check = set(list(train_)).difference(base_columns + rm_cols)\n",
    "for i in columns_to_check:\n",
    "    features_check.append(ks_2samp(test_[i], train_[i])[1])\n",
    "    \n",
    "features_check = pd.Series(features_check, index=columns_to_check).sort_values()\n",
    "features_discard = list(features_check[features_check==0].index)\n",
    "print(len(features_discard))\n",
    "\n",
    "# features_discard = []\n",
    "\n",
    "features_columns = [col for col in list(train_) if col not in rm_cols + features_discard]"
   ]
  },
  {
   "cell_type": "code",
   "execution_count": 36,
   "metadata": {},
   "outputs": [],
   "source": [
    "test_ = test_[features_columns]\n",
    "features_columns.append('isFraud')\n",
    "train_ = train_[features_columns]"
   ]
  },
  {
   "cell_type": "code",
   "execution_count": null,
   "metadata": {},
   "outputs": [],
   "source": []
  },
  {
   "cell_type": "markdown",
   "metadata": {},
   "source": [
    "# train_all"
   ]
  },
  {
   "cell_type": "code",
   "execution_count": 89,
   "metadata": {},
   "outputs": [
    {
     "data": {
      "text/plain": [
       "105"
      ]
     },
     "execution_count": 89,
     "metadata": {},
     "output_type": "execute_result"
    }
   ],
   "source": [
    "X = train_.sort_values('TransactionDT').drop(['isFraud', 'TransactionDT', 'TransactionID'], axis=1)\n",
    "y = train_.sort_values('TransactionDT')['isFraud'].astype(bool)\n",
    "X_test = test_.drop(['TransactionDT', 'TransactionID'], axis=1)\n",
    "del train_, test_\n",
    "gc.collect()\n",
    "#test = test[['TransactionDT', 'TransactionID']]"
   ]
  },
  {
   "cell_type": "code",
   "execution_count": 90,
   "metadata": {},
   "outputs": [],
   "source": [
    "def clean_inf_nan(df):\n",
    "    return df.replace([np.inf, -np.inf], np.nan)\n",
    "\n",
    "X = clean_inf_nan(X)\n",
    "X_test = clean_inf_nan(X_test)"
   ]
  },
  {
   "cell_type": "code",
   "execution_count": null,
   "metadata": {},
   "outputs": [],
   "source": []
  },
  {
   "cell_type": "markdown",
   "metadata": {},
   "source": [
    "# resampling"
   ]
  },
  {
   "cell_type": "code",
   "execution_count": 39,
   "metadata": {},
   "outputs": [],
   "source": [
    "def clean_inf_nan(df):\n",
    "    return df.replace([np.inf, -np.inf], np.nan)"
   ]
  },
  {
   "cell_type": "code",
   "execution_count": 40,
   "metadata": {},
   "outputs": [],
   "source": [
    "train_negative = train_[train_['isFraud'] == 0]\n",
    "train_negative_sampling = []\n",
    "X_test = test_.drop(['TransactionDT', 'TransactionID'], axis=1)\n",
    "#X_test = test.drop(['TransactionDT', 'TransactionID'], axis=1)\n",
    "X_test = clean_inf_nan(X_test)\n",
    "del test_\n",
    "gc.collect()\n",
    "\n",
    "for i in range(10):\n",
    "    train_negative_i = train_negative.sample(frac=0.2)\n",
    "    train_i = pd.concat([train_negative_i, train_[train_['isFraud'] == 1]])\n",
    "    train_negative_sampling.append(train_i)"
   ]
  },
  {
   "cell_type": "markdown",
   "metadata": {},
   "source": [
    "# LGBM"
   ]
  },
  {
   "cell_type": "code",
   "execution_count": 91,
   "metadata": {},
   "outputs": [],
   "source": [
    "seed = 185"
   ]
  },
  {
   "cell_type": "code",
   "execution_count": 71,
   "metadata": {},
   "outputs": [],
   "source": [
    "today = str(datetime.date.today())"
   ]
  },
  {
   "cell_type": "code",
   "execution_count": 92,
   "metadata": {},
   "outputs": [],
   "source": [
    "n_fold = 5\n",
    "kf = TimeSeriesSplit(n_splits=n_fold)\n",
    "n_train = X.shape[0]\n",
    "n_test = X_test.shape[0]\n",
    "n_features = X.shape[1]\n",
    "feature_importance = pd.DataFrame()\n",
    "feature_importance['feature'] = X.columns"
   ]
  },
  {
   "cell_type": "code",
   "execution_count": 93,
   "metadata": {},
   "outputs": [],
   "source": [
    "params = {'num_leaves': 128,\n",
    "          'min_child_weight': 0.01,\n",
    "          #'min_child_samples': 40,\n",
    "          'feature_fraction': max(0.1, np.sqrt(n_features)/n_features),\n",
    "          'bagging_fraction': 0.3,\n",
    "          'min_data_in_leaf': 50,\n",
    "          'objective': 'binary',\n",
    "          'max_depth': -1,\n",
    "          'learning_rate': 0.01,\n",
    "          \"boosting_type\": \"gbdt\",\n",
    "          \"bagging_seed\": 11,\n",
    "          \"metric\": 'auc',\n",
    "          \"verbosity\": -1,\n",
    "          'reg_alpha': 0.1,\n",
    "          'reg_lambda': 0.3,\n",
    "          'random_state': seed\n",
    "         }"
   ]
  },
  {
   "cell_type": "code",
   "execution_count": 98,
   "metadata": {},
   "outputs": [],
   "source": [
    "params = {'objective':'binary',\n",
    "                    'boosting_type':'gbdt',\n",
    "                    'metric':'auc',\n",
    "                    'n_jobs':-1,\n",
    "                    'learning_rate':0.007,\n",
    "                    'num_leaves': 2**8,\n",
    "                    'max_depth':-1,\n",
    "                    'tree_learner':'serial',\n",
    "                    'colsample_bytree': 0.8,\n",
    "                    'subsample_freq':1,\n",
    "                    'subsample':0.8,\n",
    "                    'n_estimators':80000,\n",
    "                    'max_bin':255,\n",
    "                    'verbose':-1,\n",
    "                    'seed': seed\n",
    "         }"
   ]
  },
  {
   "cell_type": "markdown",
   "metadata": {},
   "source": [
    "## LGBM with resampling"
   ]
  },
  {
   "cell_type": "code",
   "execution_count": 41,
   "metadata": {},
   "outputs": [],
   "source": [
    "today = str(datetime.date.today())"
   ]
  },
  {
   "cell_type": "code",
   "execution_count": 66,
   "metadata": {
    "collapsed": true
   },
   "outputs": [
    {
     "ename": "NameError",
     "evalue": "name 'train_' is not defined",
     "output_type": "error",
     "traceback": [
      "\u001b[0;31m---------------------------------------------------------------------------\u001b[0m",
      "\u001b[0;31mNameError\u001b[0m                                 Traceback (most recent call last)",
      "\u001b[0;32m<ipython-input-66-a0fbd8d45c05>\u001b[0m in \u001b[0;36m<module>\u001b[0;34m()\u001b[0m\n\u001b[1;32m      3\u001b[0m \u001b[0mn_train\u001b[0m \u001b[0;34m=\u001b[0m \u001b[0mX\u001b[0m\u001b[0;34m.\u001b[0m\u001b[0mshape\u001b[0m\u001b[0;34m[\u001b[0m\u001b[0;36m0\u001b[0m\u001b[0;34m]\u001b[0m\u001b[0;34m\u001b[0m\u001b[0;34m\u001b[0m\u001b[0m\n\u001b[1;32m      4\u001b[0m \u001b[0mn_test\u001b[0m \u001b[0;34m=\u001b[0m \u001b[0mX_test\u001b[0m\u001b[0;34m.\u001b[0m\u001b[0mshape\u001b[0m\u001b[0;34m[\u001b[0m\u001b[0;36m0\u001b[0m\u001b[0;34m]\u001b[0m\u001b[0;34m\u001b[0m\u001b[0;34m\u001b[0m\u001b[0m\n\u001b[0;32m----> 5\u001b[0;31m \u001b[0mn_features\u001b[0m \u001b[0;34m=\u001b[0m \u001b[0mtrain_\u001b[0m\u001b[0;34m.\u001b[0m\u001b[0mshape\u001b[0m\u001b[0;34m[\u001b[0m\u001b[0;36m1\u001b[0m\u001b[0;34m]\u001b[0m\u001b[0;34m\u001b[0m\u001b[0;34m\u001b[0m\u001b[0m\n\u001b[0m\u001b[1;32m      6\u001b[0m \u001b[0mfeature_importance\u001b[0m \u001b[0;34m=\u001b[0m \u001b[0mpd\u001b[0m\u001b[0;34m.\u001b[0m\u001b[0mDataFrame\u001b[0m\u001b[0;34m(\u001b[0m\u001b[0;34m)\u001b[0m\u001b[0;34m\u001b[0m\u001b[0;34m\u001b[0m\u001b[0m\n",
      "\u001b[0;31mNameError\u001b[0m: name 'train_' is not defined"
     ]
    }
   ],
   "source": [
    "n_fold = 5\n",
    "kf = TimeSeriesSplit(n_splits=n_fold)\n",
    "n_test = X_test.shape[0]\n",
    "n_features = train_.shape[1]\n",
    "feature_importance = pd.DataFrame()"
   ]
  },
  {
   "cell_type": "code",
   "execution_count": 43,
   "metadata": {},
   "outputs": [],
   "source": [
    "params = {'num_leaves': 128,\n",
    "          'min_child_weight': 0.01,\n",
    "          'feature_fraction': max(0.1, np.sqrt(n_features)/n_features),\n",
    "          'bagging_fraction': 0.3,\n",
    "          'min_data_in_leaf': 50,\n",
    "          'objective': 'binary',\n",
    "          'max_depth': -1,\n",
    "          'learning_rate': 0.01,\n",
    "          \"boosting_type\": \"gbdt\",\n",
    "          \"bagging_seed\": 11,\n",
    "          \"metric\": 'auc',\n",
    "          \"verbosity\": -1,\n",
    "          'reg_alpha': 0.3,\n",
    "          'reg_lambda': 0.243,\n",
    "          'random_state': seed\n",
    "         }"
   ]
  },
  {
   "cell_type": "code",
   "execution_count": 45,
   "metadata": {
    "collapsed": true
   },
   "outputs": [
    {
     "name": "stdout",
     "output_type": "stream",
     "text": [
      "Training on fold 1 with No.1 model\n",
      "Training until validation scores don't improve for 100 rounds.\n",
      "Early stopping, best iteration is:\n",
      "[697]\tvalid_0's auc: 0.908518\n",
      "FOLD_1: AUC 0.9085177604123695\n",
      "Training on fold 2 with No.1 model\n",
      "Training until validation scores don't improve for 100 rounds.\n",
      "Early stopping, best iteration is:\n",
      "[844]\tvalid_0's auc: 0.930851\n",
      "FOLD_2: AUC 0.9308513824860818\n",
      "Training on fold 3 with No.1 model\n",
      "Training until validation scores don't improve for 100 rounds.\n",
      "[1000]\tvalid_0's auc: 0.917947\n",
      "Early stopping, best iteration is:\n",
      "[1010]\tvalid_0's auc: 0.917964\n",
      "FOLD_3: AUC 0.917963707794996\n",
      "Training on fold 4 with No.1 model\n",
      "Training until validation scores don't improve for 100 rounds.\n",
      "[1000]\tvalid_0's auc: 0.935658\n",
      "Early stopping, best iteration is:\n",
      "[1198]\tvalid_0's auc: 0.936306\n",
      "FOLD_4: AUC 0.9363061458120935\n",
      "Training on fold 5 with No.1 model\n",
      "Training until validation scores don't improve for 100 rounds.\n",
      "[1000]\tvalid_0's auc: 0.935567\n",
      "[2000]\tvalid_0's auc: 0.939055\n",
      "Early stopping, best iteration is:\n",
      "[2788]\tvalid_0's auc: 0.939586\n",
      "FOLD_5: AUC 0.9395861984686608\n",
      "\n",
      "MEAN AUC = 0.9266450389948404\n",
      "Training on fold 1 with No.2 model\n",
      "Training until validation scores don't improve for 100 rounds.\n",
      "Early stopping, best iteration is:\n",
      "[708]\tvalid_0's auc: 0.90758\n",
      "FOLD_1: AUC 0.9075799430080163\n",
      "Training on fold 2 with No.2 model\n",
      "Training until validation scores don't improve for 100 rounds.\n",
      "[1000]\tvalid_0's auc: 0.930383\n",
      "Early stopping, best iteration is:\n",
      "[963]\tvalid_0's auc: 0.930504\n",
      "FOLD_2: AUC 0.9305041572808795\n",
      "Training on fold 3 with No.2 model\n",
      "Training until validation scores don't improve for 100 rounds.\n",
      "[1000]\tvalid_0's auc: 0.919415\n",
      "Early stopping, best iteration is:\n",
      "[941]\tvalid_0's auc: 0.919494\n",
      "FOLD_3: AUC 0.9194941951999199\n",
      "Training on fold 4 with No.2 model\n",
      "Training until validation scores don't improve for 100 rounds.\n",
      "[1000]\tvalid_0's auc: 0.937762\n",
      "Early stopping, best iteration is:\n",
      "[1244]\tvalid_0's auc: 0.938678\n",
      "FOLD_4: AUC 0.9386783932900149\n",
      "Training on fold 5 with No.2 model\n",
      "Training until validation scores don't improve for 100 rounds.\n",
      "[1000]\tvalid_0's auc: 0.933799\n",
      "[2000]\tvalid_0's auc: 0.936923\n",
      "Early stopping, best iteration is:\n",
      "[2002]\tvalid_0's auc: 0.93693\n",
      "FOLD_5: AUC 0.9369304395603449\n",
      "\n",
      "MEAN AUC = 0.9266374256678352\n",
      "Training on fold 1 with No.3 model\n",
      "Training until validation scores don't improve for 100 rounds.\n",
      "Early stopping, best iteration is:\n",
      "[698]\tvalid_0's auc: 0.90529\n",
      "FOLD_1: AUC 0.905290482693808\n",
      "Training on fold 2 with No.3 model\n",
      "Training until validation scores don't improve for 100 rounds.\n",
      "Early stopping, best iteration is:\n",
      "[760]\tvalid_0's auc: 0.930094\n",
      "FOLD_2: AUC 0.9300937902318926\n",
      "Training on fold 3 with No.3 model\n",
      "Training until validation scores don't improve for 100 rounds.\n",
      "[1000]\tvalid_0's auc: 0.919648\n",
      "Early stopping, best iteration is:\n",
      "[1092]\tvalid_0's auc: 0.919686\n",
      "FOLD_3: AUC 0.9196862436644566\n",
      "Training on fold 4 with No.3 model\n",
      "Training until validation scores don't improve for 100 rounds.\n",
      "[1000]\tvalid_0's auc: 0.936262\n",
      "Early stopping, best iteration is:\n",
      "[1210]\tvalid_0's auc: 0.937283\n",
      "FOLD_4: AUC 0.9372830268116334\n",
      "Training on fold 5 with No.3 model\n",
      "Training until validation scores don't improve for 100 rounds.\n",
      "[1000]\tvalid_0's auc: 0.933787\n",
      "[2000]\tvalid_0's auc: 0.937371\n",
      "Early stopping, best iteration is:\n",
      "[2010]\tvalid_0's auc: 0.937438\n",
      "FOLD_5: AUC 0.937437805535025\n",
      "\n",
      "MEAN AUC = 0.9259582697873632\n",
      "Training on fold 1 with No.4 model\n",
      "Training until validation scores don't improve for 100 rounds.\n",
      "Early stopping, best iteration is:\n",
      "[508]\tvalid_0's auc: 0.905112\n",
      "FOLD_1: AUC 0.9051118105225764\n",
      "Training on fold 2 with No.4 model\n",
      "Training until validation scores don't improve for 100 rounds.\n",
      "Early stopping, best iteration is:\n",
      "[698]\tvalid_0's auc: 0.929392\n",
      "FOLD_2: AUC 0.9293917267430036\n",
      "Training on fold 3 with No.4 model\n",
      "Training until validation scores don't improve for 100 rounds.\n",
      "[1000]\tvalid_0's auc: 0.917924\n",
      "Early stopping, best iteration is:\n",
      "[1092]\tvalid_0's auc: 0.91823\n",
      "FOLD_3: AUC 0.9182300745922436\n",
      "Training on fold 4 with No.4 model\n",
      "Training until validation scores don't improve for 100 rounds.\n",
      "[1000]\tvalid_0's auc: 0.935571\n",
      "Early stopping, best iteration is:\n",
      "[1394]\tvalid_0's auc: 0.93689\n",
      "FOLD_4: AUC 0.9368903860260367\n",
      "Training on fold 5 with No.4 model\n",
      "Training until validation scores don't improve for 100 rounds.\n",
      "[1000]\tvalid_0's auc: 0.933811\n",
      "[2000]\tvalid_0's auc: 0.93684\n",
      "Early stopping, best iteration is:\n",
      "[1925]\tvalid_0's auc: 0.936883\n",
      "FOLD_5: AUC 0.9368829642248143\n",
      "\n",
      "MEAN AUC = 0.925301392421735\n",
      "Training on fold 1 with No.5 model\n",
      "Training until validation scores don't improve for 100 rounds.\n",
      "Early stopping, best iteration is:\n",
      "[714]\tvalid_0's auc: 0.904877\n",
      "FOLD_1: AUC 0.90487723425374\n",
      "Training on fold 2 with No.5 model\n",
      "Training until validation scores don't improve for 100 rounds.\n",
      "Early stopping, best iteration is:\n",
      "[703]\tvalid_0's auc: 0.930821\n",
      "FOLD_2: AUC 0.9308214152675727\n",
      "Training on fold 3 with No.5 model\n",
      "Training until validation scores don't improve for 100 rounds.\n",
      "[1000]\tvalid_0's auc: 0.919254\n",
      "Early stopping, best iteration is:\n",
      "[971]\tvalid_0's auc: 0.919328\n",
      "FOLD_3: AUC 0.9193280985035676\n",
      "Training on fold 4 with No.5 model\n",
      "Training until validation scores don't improve for 100 rounds.\n",
      "[1000]\tvalid_0's auc: 0.936365\n",
      "Early stopping, best iteration is:\n",
      "[1348]\tvalid_0's auc: 0.937485\n",
      "FOLD_4: AUC 0.9374849740580394\n",
      "Training on fold 5 with No.5 model\n",
      "Training until validation scores don't improve for 100 rounds.\n",
      "[1000]\tvalid_0's auc: 0.935724\n",
      "Early stopping, best iteration is:\n",
      "[1812]\tvalid_0's auc: 0.939248\n",
      "FOLD_5: AUC 0.9392478658163714\n",
      "\n",
      "MEAN AUC = 0.9263519175798582\n",
      "Training on fold 1 with No.6 model\n",
      "Training until validation scores don't improve for 100 rounds.\n",
      "Early stopping, best iteration is:\n",
      "[720]\tvalid_0's auc: 0.908128\n",
      "FOLD_1: AUC 0.9081278680632379\n",
      "Training on fold 2 with No.6 model\n",
      "Training until validation scores don't improve for 100 rounds.\n",
      "Early stopping, best iteration is:\n",
      "[770]\tvalid_0's auc: 0.929962\n",
      "FOLD_2: AUC 0.929961546257444\n",
      "Training on fold 3 with No.6 model\n",
      "Training until validation scores don't improve for 100 rounds.\n",
      "[1000]\tvalid_0's auc: 0.918116\n",
      "Early stopping, best iteration is:\n",
      "[1087]\tvalid_0's auc: 0.918336\n",
      "FOLD_3: AUC 0.9183356860985775\n",
      "Training on fold 4 with No.6 model\n",
      "Training until validation scores don't improve for 100 rounds.\n",
      "[1000]\tvalid_0's auc: 0.93705\n",
      "Early stopping, best iteration is:\n",
      "[1464]\tvalid_0's auc: 0.938315\n",
      "FOLD_4: AUC 0.9383152790991167\n",
      "Training on fold 5 with No.6 model\n",
      "Training until validation scores don't improve for 100 rounds.\n",
      "[1000]\tvalid_0's auc: 0.935348\n",
      "[2000]\tvalid_0's auc: 0.93888\n",
      "Early stopping, best iteration is:\n",
      "[1904]\tvalid_0's auc: 0.938931\n",
      "FOLD_5: AUC 0.9389306100030024\n",
      "\n",
      "MEAN AUC = 0.9267341979042758\n",
      "Training on fold 1 with No.7 model\n",
      "Training until validation scores don't improve for 100 rounds.\n",
      "Early stopping, best iteration is:\n",
      "[669]\tvalid_0's auc: 0.906051\n",
      "FOLD_1: AUC 0.9060506052549762\n",
      "Training on fold 2 with No.7 model\n",
      "Training until validation scores don't improve for 100 rounds.\n",
      "Early stopping, best iteration is:\n",
      "[779]\tvalid_0's auc: 0.930379\n",
      "FOLD_2: AUC 0.930378892825948\n",
      "Training on fold 3 with No.7 model\n",
      "Training until validation scores don't improve for 100 rounds.\n",
      "[1000]\tvalid_0's auc: 0.918044\n",
      "Early stopping, best iteration is:\n",
      "[956]\tvalid_0's auc: 0.918112\n",
      "FOLD_3: AUC 0.9181124814968077\n",
      "Training on fold 4 with No.7 model\n",
      "Training until validation scores don't improve for 100 rounds.\n",
      "[1000]\tvalid_0's auc: 0.936271\n",
      "Early stopping, best iteration is:\n",
      "[1435]\tvalid_0's auc: 0.937336\n",
      "FOLD_4: AUC 0.9373360934138242\n",
      "Training on fold 5 with No.7 model\n",
      "Training until validation scores don't improve for 100 rounds.\n",
      "[1000]\tvalid_0's auc: 0.934735\n",
      "[2000]\tvalid_0's auc: 0.93815\n",
      "Early stopping, best iteration is:\n",
      "[2011]\tvalid_0's auc: 0.938171\n",
      "FOLD_5: AUC 0.9381705747220697\n",
      "\n",
      "MEAN AUC = 0.9260097295427252\n",
      "Training on fold 1 with No.8 model\n",
      "Training until validation scores don't improve for 100 rounds.\n",
      "Early stopping, best iteration is:\n",
      "[583]\tvalid_0's auc: 0.905689\n",
      "FOLD_1: AUC 0.9056890276850436\n",
      "Training on fold 2 with No.8 model\n",
      "Training until validation scores don't improve for 100 rounds.\n",
      "Early stopping, best iteration is:\n",
      "[755]\tvalid_0's auc: 0.930353\n"
     ]
    },
    {
     "name": "stdout",
     "output_type": "stream",
     "text": [
      "FOLD_2: AUC 0.9303533544658515\n",
      "Training on fold 3 with No.8 model\n",
      "Training until validation scores don't improve for 100 rounds.\n",
      "[1000]\tvalid_0's auc: 0.91916\n",
      "Early stopping, best iteration is:\n",
      "[935]\tvalid_0's auc: 0.919258\n",
      "FOLD_3: AUC 0.9192577155370651\n",
      "Training on fold 4 with No.8 model\n",
      "Training until validation scores don't improve for 100 rounds.\n",
      "[1000]\tvalid_0's auc: 0.936653\n",
      "Early stopping, best iteration is:\n",
      "[1278]\tvalid_0's auc: 0.937546\n",
      "FOLD_4: AUC 0.9375463813577725\n",
      "Training on fold 5 with No.8 model\n",
      "Training until validation scores don't improve for 100 rounds.\n",
      "[1000]\tvalid_0's auc: 0.93211\n",
      "[2000]\tvalid_0's auc: 0.935055\n",
      "Early stopping, best iteration is:\n",
      "[1922]\tvalid_0's auc: 0.935098\n",
      "FOLD_5: AUC 0.9350982504722117\n",
      "\n",
      "MEAN AUC = 0.9255889459035889\n",
      "Training on fold 1 with No.9 model\n",
      "Training until validation scores don't improve for 100 rounds.\n",
      "Early stopping, best iteration is:\n",
      "[697]\tvalid_0's auc: 0.907593\n",
      "FOLD_1: AUC 0.9075925389425609\n",
      "Training on fold 2 with No.9 model\n",
      "Training until validation scores don't improve for 100 rounds.\n",
      "Early stopping, best iteration is:\n",
      "[747]\tvalid_0's auc: 0.930156\n",
      "FOLD_2: AUC 0.9301562793999406\n",
      "Training on fold 3 with No.9 model\n",
      "Training until validation scores don't improve for 100 rounds.\n",
      "Early stopping, best iteration is:\n",
      "[806]\tvalid_0's auc: 0.918874\n",
      "FOLD_3: AUC 0.9188744415097205\n",
      "Training on fold 4 with No.9 model\n",
      "Training until validation scores don't improve for 100 rounds.\n",
      "[1000]\tvalid_0's auc: 0.936721\n",
      "Early stopping, best iteration is:\n",
      "[1517]\tvalid_0's auc: 0.937684\n",
      "FOLD_4: AUC 0.9376837657125234\n",
      "Training on fold 5 with No.9 model\n",
      "Training until validation scores don't improve for 100 rounds.\n",
      "[1000]\tvalid_0's auc: 0.93419\n",
      "[2000]\tvalid_0's auc: 0.937236\n",
      "Early stopping, best iteration is:\n",
      "[1982]\tvalid_0's auc: 0.93731\n",
      "FOLD_5: AUC 0.9373097566719739\n",
      "\n",
      "MEAN AUC = 0.926323356447344\n",
      "Training on fold 1 with No.10 model\n",
      "Training until validation scores don't improve for 100 rounds.\n",
      "Early stopping, best iteration is:\n",
      "[586]\tvalid_0's auc: 0.90499\n",
      "FOLD_1: AUC 0.9049900882906255\n",
      "Training on fold 2 with No.10 model\n",
      "Training until validation scores don't improve for 100 rounds.\n",
      "Early stopping, best iteration is:\n",
      "[742]\tvalid_0's auc: 0.929647\n",
      "FOLD_2: AUC 0.9296470905287524\n",
      "Training on fold 3 with No.10 model\n",
      "Training until validation scores don't improve for 100 rounds.\n",
      "Early stopping, best iteration is:\n",
      "[869]\tvalid_0's auc: 0.919527\n",
      "FOLD_3: AUC 0.919527348155782\n",
      "Training on fold 4 with No.10 model\n",
      "Training until validation scores don't improve for 100 rounds.\n",
      "[1000]\tvalid_0's auc: 0.936895\n",
      "Early stopping, best iteration is:\n",
      "[1593]\tvalid_0's auc: 0.938547\n",
      "FOLD_4: AUC 0.9385474408209337\n",
      "Training on fold 5 with No.10 model\n",
      "Training until validation scores don't improve for 100 rounds.\n",
      "[1000]\tvalid_0's auc: 0.93506\n",
      "[2000]\tvalid_0's auc: 0.938029\n",
      "Early stopping, best iteration is:\n",
      "[2174]\tvalid_0's auc: 0.938223\n",
      "FOLD_5: AUC 0.9382233619886493\n",
      "\n",
      "MEAN AUC = 0.9261870659569487\n"
     ]
    }
   ],
   "source": [
    "resample_test = np.zeros((n_test, 10))\n",
    "for i in range(10):\n",
    "    train_i = train_negative_sampling[i]\n",
    "    Xi = train_i.sort_values('TransactionDT').drop(['isFraud', 'TransactionDT', 'TransactionID'], axis=1)\n",
    "    yi = train_i.sort_values('TransactionDT')['isFraud'].astype(bool)\n",
    "    del train_i\n",
    "    gc.collect()\n",
    "    \n",
    "    score = 0\n",
    "    \n",
    "    for j, (train_index, valid_index) in enumerate(kf.split(Xi, yi)):\n",
    "        print(f'Training on fold {j + 1} with No.{i + 1} model')\n",
    "        \n",
    "        X_train = Xi.iloc[train_index]\n",
    "        y_train = yi.iloc[train_index]\n",
    "        X_valid = Xi.iloc[valid_index]\n",
    "        y_valid = yi.iloc[valid_index]\n",
    "        \n",
    "        train_data = lgb.Dataset(X_train, label=y_train)\n",
    "        valid_data = lgb.Dataset(X_valid, label=y_valid, reference=train_data)\n",
    "        clf = lgb.train(params, train_data, 10000, valid_sets=valid_data, verbose_eval=1000, early_stopping_rounds=100)\n",
    "        y_pred = clf.predict(X_valid, num_iteration=clf.best_iteration)\n",
    "        \n",
    "        #oof_test_j[:, j] = clf.predict(X_test, num_iteration=clf.best_iteration)\n",
    "        \n",
    "        print(f'FOLD_{j + 1}: AUC {roc_auc_score(y_valid, y_pred)}')\n",
    "        score += roc_auc_score(y_valid, y_pred) / n_fold\n",
    "        \n",
    "        del X_train, X_valid, y_train, y_valid\n",
    "        gc.collect()\n",
    "        \n",
    "    print(f'\\nMEAN AUC = {score}')\n",
    "    \n",
    "    clf_resample = lgb.LGBMClassifier(**params, num_boost_round=int(np.floor(clf.best_iteration * 1.25)))\n",
    "    clf_resample.fit(Xi, yi)\n",
    "    resample_test[:, i] = clf_resample.predict_proba(X_test)[:, 1]\n",
    "    \n",
    "    del Xi, yi\n",
    "    gc.collect()"
   ]
  },
  {
   "cell_type": "code",
   "execution_count": 50,
   "metadata": {},
   "outputs": [],
   "source": [
    "ensemble_pred = resample_test.mean(axis=1)\n",
    "submission = sample_sub.copy()\n",
    "submission['isFraud'] = ensemble_pred\n",
    "submission.to_csv(f'./outputs/prediction_/resample_{today}_{score:.4f}.csv', index=False)"
   ]
  },
  {
   "cell_type": "code",
   "execution_count": null,
   "metadata": {},
   "outputs": [],
   "source": []
  },
  {
   "cell_type": "code",
   "execution_count": 99,
   "metadata": {},
   "outputs": [
    {
     "name": "stdout",
     "output_type": "stream",
     "text": [
      "Training on fold 1\n",
      "Training until validation scores don't improve for 100 rounds.\n",
      "[1000]\tvalid_0's auc: 0.911491\n",
      "Early stopping, best iteration is:\n",
      "[927]\tvalid_0's auc: 0.911633\n",
      "FOLD_1: AUC 0.9116334107365256\n",
      "Training on fold 2\n",
      "Training until validation scores don't improve for 100 rounds.\n",
      "Early stopping, best iteration is:\n",
      "[819]\tvalid_0's auc: 0.927367\n",
      "FOLD_2: AUC 0.9273666472925288\n",
      "Training on fold 3\n",
      "Training until validation scores don't improve for 100 rounds.\n",
      "[1000]\tvalid_0's auc: 0.920915\n",
      "Early stopping, best iteration is:\n",
      "[912]\tvalid_0's auc: 0.921121\n",
      "FOLD_3: AUC 0.9211213800325224\n",
      "Training on fold 4\n",
      "Training until validation scores don't improve for 100 rounds.\n",
      "[1000]\tvalid_0's auc: 0.936072\n",
      "Early stopping, best iteration is:\n",
      "[1193]\tvalid_0's auc: 0.936395\n",
      "FOLD_4: AUC 0.9363954725596647\n",
      "Training on fold 5\n",
      "Training until validation scores don't improve for 100 rounds.\n",
      "[1000]\tvalid_0's auc: 0.937442\n",
      "[2000]\tvalid_0's auc: 0.938718\n",
      "Early stopping, best iteration is:\n",
      "[2029]\tvalid_0's auc: 0.938793\n",
      "FOLD_5: AUC 0.938792846437931\n",
      "\n",
      "MEAN AUC = 0.9270619514118346\n",
      "OOF AUC = 0.8254627464480346\n",
      "CPU times: user 10h 30min 37s, sys: 23min 18s, total: 10h 53min 55s\n",
      "Wall time: 1h 48min 14s\n"
     ]
    }
   ],
   "source": [
    "%%time\n",
    "\n",
    "n_train = X.shape[0]\n",
    "\n",
    "oof_train = np.zeros(n_train)\n",
    "oof_test = np.zeros(n_test)\n",
    "oof_test_i = np.zeros((n_test, n_fold))\n",
    "\n",
    "score = 0\n",
    "\n",
    "for i, (train_index, valid_index) in enumerate(kf.split(X, y)):\n",
    "    print(f'Training on fold {i + 1}')\n",
    "    \n",
    "    X_train = X.iloc[train_index]\n",
    "    y_train = y[train_index]\n",
    "    X_valid = X.iloc[valid_index]\n",
    "    y_valid = y[valid_index]\n",
    "    \n",
    "    train_data = lgb.Dataset(X_train, label=y_train)\n",
    "    valid_data = lgb.Dataset(X_valid, label=y_valid, reference=train_data)\n",
    "    clf = lgb.train(params, train_data, 10000, valid_sets=valid_data, verbose_eval=1000, early_stopping_rounds=100)\n",
    "    y_pred = clf.predict(X_valid, num_iteration=clf.best_iteration)\n",
    "    # [:, 1]\n",
    "    \n",
    "    \"\"\"\n",
    "\n",
    "    clf = lgb.LGBMClassifier(**params, num_boost_round=1000)\n",
    "    clf.fit(X_train, y_train)\n",
    "    y_pred = clf.predict_proba(X_valid)[:, 1]\n",
    "    \"\"\"\n",
    "    \n",
    "    oof_train[valid_index] = y_pred\n",
    "    oof_test_i[:, i] = clf.predict(X_test, num_iteration=clf.best_iteration)\n",
    "    # [:, 1]\n",
    "    \n",
    "    feature_importance[f'fold_{i + 1}'] = clf.feature_importance()\n",
    "    \n",
    "    print(f'FOLD_{i + 1}: AUC {roc_auc_score(y_valid, y_pred)}')\n",
    "    score += roc_auc_score(y_valid, y_pred) / n_fold\n",
    "    \n",
    "    del X_train, X_valid, y_train, y_valid\n",
    "    gc.collect()\n",
    "    \n",
    "print(f'\\nMEAN AUC = {score}')\n",
    "print(f'OOF AUC = {roc_auc_score(y, oof_train)}')\n",
    "    \n",
    "oof_test = oof_test_i.mean(axis=1)\n",
    "oof_train = pd.DataFrame(oof_train)\n",
    "oof_test = pd.DataFrame(oof_test)\n",
    "\n",
    "oof_train.to_csv(f'./outputs/oof_train/oof_train_{today}_{score:.4f}.csv')\n",
    "oof_test.to_csv(f'./outputs/oof_test/oof_test_{today}_{score:.4f}.csv')"
   ]
  },
  {
   "cell_type": "code",
   "execution_count": 42,
   "metadata": {
    "scrolled": false
   },
   "outputs": [
    {
     "name": "stdout",
     "output_type": "stream",
     "text": [
      "Training on fold 1\n",
      "Training until validation scores don't improve for 100 rounds.\n",
      "Early stopping, best iteration is:\n",
      "[630]\tvalid_0's auc: 0.907644\n",
      "FOLD_1: AUC 0.9076441767926162\n",
      "Training on fold 2\n",
      "Training until validation scores don't improve for 100 rounds.\n",
      "Early stopping, best iteration is:\n",
      "[787]\tvalid_0's auc: 0.925949\n",
      "FOLD_2: AUC 0.9259492224191496\n",
      "Training on fold 3\n",
      "Training until validation scores don't improve for 100 rounds.\n",
      "[1000]\tvalid_0's auc: 0.919984\n",
      "Early stopping, best iteration is:\n",
      "[1114]\tvalid_0's auc: 0.92007\n",
      "FOLD_3: AUC 0.9200697752559873\n",
      "Training on fold 4\n",
      "Training until validation scores don't improve for 100 rounds.\n",
      "[1000]\tvalid_0's auc: 0.933972\n",
      "Early stopping, best iteration is:\n",
      "[1249]\tvalid_0's auc: 0.934739\n",
      "FOLD_4: AUC 0.934739175205613\n",
      "Training on fold 5\n",
      "Training until validation scores don't improve for 100 rounds.\n",
      "[1000]\tvalid_0's auc: 0.932493\n",
      "Early stopping, best iteration is:\n",
      "[1473]\tvalid_0's auc: 0.935067\n",
      "FOLD_5: AUC 0.9350670111753062\n",
      "\n",
      "MEAN AUC = 0.9246938721697345\n",
      "OOF AUC = 0.834655636882882\n",
      "CPU times: user 1h 5min 29s, sys: 6min 35s, total: 1h 12min 4s\n",
      "Wall time: 15min 46s\n"
     ]
    }
   ],
   "source": [
    "%%time\n",
    "feature_importance = pd.DataFrame()\n",
    "feature_importance['feature'] = X.columns\n",
    "\n",
    "oof_train = np.zeros(n_train)\n",
    "oof_test = np.zeros(n_test)\n",
    "oof_test_i = np.zeros((n_test, n_fold))\n",
    "\n",
    "score = 0\n",
    "\n",
    "for i, (train_index, valid_index) in enumerate(kf.split(X, y)):\n",
    "    print(f'Training on fold {i + 1}')\n",
    "    \n",
    "    X_train = X.iloc[train_index]\n",
    "    y_train = y[train_index]\n",
    "    X_valid = X.iloc[valid_index]\n",
    "    y_valid = y[valid_index]\n",
    "    \n",
    "    train_data = lgb.Dataset(X_train, label=y_train)\n",
    "    valid_data = lgb.Dataset(X_valid, label=y_valid, reference=train_data)\n",
    "    clf = lgb.train(params, train_data, 10000, valid_sets=valid_data, verbose_eval=1000, early_stopping_rounds=100)\n",
    "    y_pred = clf.predict(X_valid, num_iteration=clf.best_iteration)\n",
    "    # [:, 1]\n",
    "    \n",
    "    oof_train[valid_index] = y_pred\n",
    "    oof_test_i[:, i] = clf.predict(X_test, num_iteration=clf.best_iteration)\n",
    "    # [:, 1]\n",
    "    \n",
    "    feature_importance[f'fold_{i + 1}'] = clf.feature_importance()\n",
    "    \n",
    "    print(f'FOLD_{i + 1}: AUC {roc_auc_score(y_valid, y_pred)}')\n",
    "    score += roc_auc_score(y_valid, y_pred) / n_fold\n",
    "    \n",
    "    del X_train, X_valid, y_train, y_valid\n",
    "    gc.collect()\n",
    "    \n",
    "print(f'\\nMEAN AUC = {score}')\n",
    "print(f'OOF AUC = {roc_auc_score(y, oof_train)}')\n",
    "    \n",
    "oof_test = oof_test_i.mean(axis=1)\n",
    "oof_train = pd.DataFrame(oof_train)\n",
    "oof_test = pd.DataFrame(oof_test)\n",
    "\n",
    "oof_train.to_csv(f'./outputs/oof_train/oof_train_{today}_{score:.4f}.csv')\n",
    "oof_test.to_csv(f'./outputs/oof_test/oof_test_{today}_{score:.4f}.csv')"
   ]
  },
  {
   "cell_type": "code",
   "execution_count": 378,
   "metadata": {
    "collapsed": true
   },
   "outputs": [
    {
     "name": "stdout",
     "output_type": "stream",
     "text": [
      "Training on fold 1\n",
      "Training until validation scores don't improve for 100 rounds.\n",
      "Early stopping, best iteration is:\n",
      "[817]\tvalid_0's auc: 0.896696\n",
      "FOLD_1: AUC 0.8966957768677105\n",
      "Training on fold 2\n",
      "Training until validation scores don't improve for 100 rounds.\n",
      "[1000]\tvalid_0's auc: 0.910228\n",
      "Early stopping, best iteration is:\n",
      "[915]\tvalid_0's auc: 0.910413\n",
      "FOLD_2: AUC 0.910412807801424\n",
      "Training on fold 3\n",
      "Training until validation scores don't improve for 100 rounds.\n",
      "[1000]\tvalid_0's auc: 0.901457\n",
      "Early stopping, best iteration is:\n",
      "[1339]\tvalid_0's auc: 0.903174\n",
      "FOLD_3: AUC 0.9031743867483015\n",
      "Training on fold 4\n",
      "Training until validation scores don't improve for 100 rounds.\n",
      "[1000]\tvalid_0's auc: 0.91444\n",
      "Early stopping, best iteration is:\n",
      "[1673]\tvalid_0's auc: 0.917818\n",
      "FOLD_4: AUC 0.9178184559841314\n",
      "Training on fold 5\n",
      "Training until validation scores don't improve for 100 rounds.\n",
      "[1000]\tvalid_0's auc: 0.914718\n",
      "[2000]\tvalid_0's auc: 0.921557\n",
      "Early stopping, best iteration is:\n",
      "[2473]\tvalid_0's auc: 0.922636\n",
      "FOLD_5: AUC 0.9226358736171868\n",
      "\n",
      "MEAN AUC = 0.9101474602037508\n",
      "OOF AUC = 0.824759365654944\n",
      "CPU times: user 1h 4min 57s, sys: 3min 8s, total: 1h 8min 5s\n",
      "Wall time: 9min 33s\n"
     ]
    }
   ],
   "source": [
    "%%time\n",
    "feature_importance = pd.DataFrame()\n",
    "feature_importance['feature'] = X.columns\n",
    "\n",
    "oof_train = np.zeros(n_train)\n",
    "oof_test = np.zeros(n_test)\n",
    "oof_test_i = np.zeros((n_test, n_fold))\n",
    "\n",
    "score = 0\n",
    "\n",
    "for i, (train_index, valid_index) in enumerate(kf.split(X, y)):\n",
    "    print(f'Training on fold {i + 1}')\n",
    "    \n",
    "    X_train = X.iloc[train_index]\n",
    "    y_train = y[train_index]\n",
    "    X_valid = X.iloc[valid_index]\n",
    "    y_valid = y[valid_index]\n",
    "    \n",
    "    train_data = lgb.Dataset(X_train, label=y_train)\n",
    "    valid_data = lgb.Dataset(X_valid, label=y_valid, reference=train_data)\n",
    "    clf = lgb.train(params, train_data, 10000, valid_sets=valid_data, verbose_eval=1000, early_stopping_rounds=100)\n",
    "    y_pred = clf.predict(X_valid, num_iteration=clf.best_iteration)\n",
    "    # [:, 1]\n",
    "    \n",
    "    \"\"\"\n",
    "\n",
    "    clf = lgb.LGBMClassifier(**params, num_boost_round=1000)\n",
    "    clf.fit(X_train, y_train)\n",
    "    y_pred = clf.predict_proba(X_valid)[:, 1]\n",
    "    \"\"\"\n",
    "    \n",
    "    oof_train[valid_index] = y_pred\n",
    "    oof_test_i[:, i] = clf.predict(X_test, num_iteration=clf.best_iteration)\n",
    "    # [:, 1]\n",
    "    \n",
    "    feature_importance[f'fold_{i + 1}'] = clf.feature_importance()\n",
    "    \n",
    "    print(f'FOLD_{i + 1}: AUC {roc_auc_score(y_valid, y_pred)}')\n",
    "    score += roc_auc_score(y_valid, y_pred) / n_fold\n",
    "    \n",
    "    del X_train, X_valid, y_train, y_valid\n",
    "    gc.collect()\n",
    "    \n",
    "print(f'\\nMEAN AUC = {score}')\n",
    "print(f'OOF AUC = {roc_auc_score(y, oof_train)}')\n",
    "    \n",
    "oof_test = oof_test_i.mean(axis=1)\n",
    "oof_train = pd.DataFrame(oof_train)\n",
    "oof_test = pd.DataFrame(oof_test)\n",
    "\n",
    "oof_train.to_csv(f'./outputs/oof_train_{today}_smirnov0.05.csv')\n",
    "oof_test.to_csv(f'./outputs/oof_test_{today}_smirnov0.05.csv')"
   ]
  },
  {
   "cell_type": "code",
   "execution_count": 95,
   "metadata": {},
   "outputs": [
    {
     "data": {
      "image/png": "[encoded data removed]",
      "text/plain": [
       "<Figure size 1152x1152 with 1 Axes>"
      ]
     },
     "metadata": {
      "needs_background": "light"
     },
     "output_type": "display_data"
    }
   ],
   "source": [
    "feature_importance['average'] = feature_importance[[f'fold_{i + 1}' for i in range(kf.n_splits)]].mean(axis=1)\n",
    "# feature_importance.to_csv(f'./outputs/feature_importances_{today}.csv')\n",
    "plt.figure(figsize=(16, 16))\n",
    "sns.barplot(data=feature_importance.sort_values(by='average', ascending=False).head(50), x='average', y='feature')\n",
    "plt.title(f'50 TOP feature importance over {kf.n_splits} folds average')\n",
    "plt.tight_layout()\n",
    "plt.savefig(f'./outputs/feature_importance/FI_{today}_{score:.4f}.png', dpi=150)\n",
    "#plt.savefig(f'./outputs/feature_importances_{today}_smirnov05', dpi=150)"
   ]
  },
  {
   "cell_type": "markdown",
   "metadata": {},
   "source": [
    "## 学習データ全体で再度モデル構築"
   ]
  },
  {
   "cell_type": "code",
   "execution_count": 100,
   "metadata": {},
   "outputs": [
    {
     "data": {
      "text/plain": [
       "LGBMClassifier(boosting_type='gbdt', class_weight=None, colsample_bytree=0.8,\n",
       "               importance_type='split', learning_rate=0.007, max_bin=255,\n",
       "               max_depth=-1, metric='auc', min_child_samples=20,\n",
       "               min_child_weight=0.001, min_split_gain=0.0, n_estimators=80000,\n",
       "               n_jobs=-1, num_boost_round=2536, num_leaves=256,\n",
       "               objective='binary', random_state=None, reg_alpha=0.0,\n",
       "               reg_lambda=0.0, seed=185, silent=True, subsample=0.8,\n",
       "               subsample_for_bin=200000, subsample_freq=1,\n",
       "               tree_learner='serial', verbose=-1)"
      ]
     },
     "execution_count": 100,
     "metadata": {},
     "output_type": "execute_result"
    }
   ],
   "source": [
    "clf_all = lgb.LGBMClassifier(**params, num_boost_round=int(np.floor(clf.best_iteration * 1.25)))\n",
    "clf_all.fit(X, y)"
   ]
  },
  {
   "cell_type": "code",
   "execution_count": 101,
   "metadata": {},
   "outputs": [],
   "source": [
    "submission = sample_sub.copy()\n",
    "submission['isFraud'] = clf_all.predict_proba(X_test)[:, 1]\n",
    "#submission.to_csv(f'./outputs/prediction_/LGB_{today}_{score:.4f}.csv', index=False)\n",
    "submission.to_csv(f'./outputs/prediction_target_enc/LGB_{today}_{score:.5f}.csv', index=False)\n",
    "#submission.to_csv(f'./outputs/LGB_{today}_{score:.4f}_smirnov05.csv', index=False)"
   ]
  },
  {
   "cell_type": "code",
   "execution_count": null,
   "metadata": {},
   "outputs": [],
   "source": []
  },
  {
   "cell_type": "code",
   "execution_count": null,
   "metadata": {},
   "outputs": [],
   "source": []
  },
  {
   "cell_type": "code",
   "execution_count": null,
   "metadata": {},
   "outputs": [],
   "source": []
  }
 ],
 "metadata": {
  "kernelspec": {
   "display_name": "Python 3",
   "language": "python",
   "name": "python3"
  },
  "language_info": {
   "codemirror_mode": {
    "name": "ipython",
    "version": 3
   },
   "file_extension": ".py",
   "mimetype": "text/x-python",
   "name": "python",
   "nbconvert_exporter": "python",
   "pygments_lexer": "ipython3",
   "version": "3.7.4"
  }
 },
 "nbformat": 4,
 "nbformat_minor": 2
}
