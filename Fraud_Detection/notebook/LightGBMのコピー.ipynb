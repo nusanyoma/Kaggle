{
 "cells": [
  {
   "cell_type": "code",
   "execution_count": 2,
   "metadata": {},
   "outputs": [],
   "source": [
    "import numpy as np\n",
    "import pandas as pd\n",
    "import matplotlib.pyplot as plt\n",
    "import seaborn as sns\n",
    "from sklearn.model_selection import KFold, StratifiedKFold, TimeSeriesSplit\n",
    "from tqdm import tqdm_notebook\n",
    "from sklearn.preprocessing import LabelEncoder\n",
    "from sklearn.metrics import roc_auc_score\n",
    "%matplotlib inline\n",
    "\n",
    "import lightgbm as lgb\n",
    "import gc\n",
    "import datetime\n",
    "import warnings\n",
    "warnings.filterwarnings('ignore')"
   ]
  },
  {
   "cell_type": "code",
   "execution_count": 3,
   "metadata": {},
   "outputs": [],
   "source": [
    "def reduce_mem_usage(df, verbose=True):\n",
    "    numerics = ['int16', 'int32', 'int64', 'float16', 'float32', 'float64']\n",
    "    \n",
    "    # 初期状態のメモリ消費量確認 （=value.nbytes)\n",
    "    start_mem = df.memory_usage().sum() / 1024**2    \n",
    "    \n",
    "    # 各列について\n",
    "    for col in df.columns:\n",
    "        col_type = df[col].dtypes\n",
    "        # 列のタイプがint16~64 or float16~64なら\n",
    "        if col_type in numerics:\n",
    "            c_min = df[col].min()\n",
    "            c_max = df[col].max()\n",
    "            # int型なら\n",
    "            if str(col_type)[:3] == 'int':\n",
    "                # 列の全値がint8型の範囲に収まるなら列の値をint8型に変換\n",
    "                if c_min > np.iinfo(np.int8).min and c_max < np.iinfo(np.int8).max:\n",
    "                    df[col] = df[col].astype(np.int8)\n",
    "                # 列の全値がint16型の範囲に収まるなら...\n",
    "                elif c_min > np.iinfo(np.int16).min and c_max < np.iinfo(np.int16).max:\n",
    "                    df[col] = df[col].astype(np.int16)\n",
    "                # 列の全値がint32型の範囲に収まるなら...\n",
    "                elif c_min > np.iinfo(np.int32).min and c_max < np.iinfo(np.int32).max:\n",
    "                    df[col] = df[col].astype(np.int32)\n",
    "                # 列の全値がint64型の範囲に収まるなら...\n",
    "                elif c_min > np.iinfo(np.int64).min and c_max < np.iinfo(np.int64).max:\n",
    "                    df[col] = df[col].astype(np.int64)  \n",
    "            # float型なら\n",
    "            else:\n",
    "                # 列の全値がfloat32型の範囲に収まるなら列の値をfloat32型に変換\n",
    "                if c_min > np.finfo(np.float32).min and c_max < np.finfo(np.float32).max:\n",
    "                    df[col] = df[col].astype(np.float32)\n",
    "                # 列の値をfloat64型に\n",
    "                else:\n",
    "                    df[col] = df[col].astype(np.float64)\n",
    "    # 型変換の後のメモリ消費量を確認\n",
    "    end_mem = df.memory_usage().sum() / 1024**2\n",
    "    if verbose: print('Mem. usage decreased to {:5.2f} Mb ({:.1f}% reduction)'.format(end_mem, 100 * (start_mem - end_mem) / start_mem))\n",
    "    return df"
   ]
  },
  {
   "cell_type": "code",
   "execution_count": 4,
   "metadata": {},
   "outputs": [],
   "source": [
    "folder_path = './ieee-fraud-detection'\n",
    "train_identity = pd.read_csv(f'{folder_path}/train_identity.csv')\n",
    "train_transaction = pd.read_csv(f'{folder_path}/train_transaction.csv')\n",
    "test_identity = pd.read_csv(f'{folder_path}/test_identity.csv')\n",
    "test_transaction = pd.read_csv(f'{folder_path}/test_transaction.csv')\n",
    "sample_sub = pd.read_csv(f'{folder_path}/sample_submission.csv')\n",
    "\n",
    "tr = pd.merge(train_transaction, train_identity, on='TransactionID', how='left')\n",
    "te = pd.merge(test_transaction, test_identity, on='TransactionID', how='left')"
   ]
  },
  {
   "cell_type": "code",
   "execution_count": 5,
   "metadata": {},
   "outputs": [
    {
     "data": {
      "text/plain": [
       "(590540, 434)"
      ]
     },
     "execution_count": 5,
     "metadata": {},
     "output_type": "execute_result"
    }
   ],
   "source": [
    "tr.shape"
   ]
  },
  {
   "cell_type": "code",
   "execution_count": 7,
   "metadata": {},
   "outputs": [],
   "source": [
    "train = tr.copy()\n",
    "test = te.copy()"
   ]
  },
  {
   "cell_type": "code",
   "execution_count": 8,
   "metadata": {},
   "outputs": [],
   "source": [
    "base_columns = list(train)"
   ]
  },
  {
   "cell_type": "markdown",
   "metadata": {},
   "source": [
    "# Add feature"
   ]
  },
  {
   "cell_type": "code",
   "execution_count": 9,
   "metadata": {},
   "outputs": [],
   "source": [
    "seed = 35"
   ]
  },
  {
   "cell_type": "code",
   "execution_count": 10,
   "metadata": {},
   "outputs": [],
   "source": [
    "def encode_trigonometric(df, cols):\n",
    "    for col in cols:\n",
    "        df[col + '_cos'] = np.cos(2 * np.pi * df[col] / df[col].max())\n",
    "        df[col + '_sin'] = np.sin(2 * np.pi * df[col] / df[col].max())\n",
    "    return df"
   ]
  },
  {
   "cell_type": "code",
   "execution_count": 11,
   "metadata": {},
   "outputs": [],
   "source": [
    "m_cols = ['M1', 'M2', 'M3', 'M5', 'M6', 'M7', 'M8', 'M9']"
   ]
  },
  {
   "cell_type": "code",
   "execution_count": 12,
   "metadata": {},
   "outputs": [],
   "source": [
    "import datetime\n",
    "start_date = datetime.datetime.strptime('2017-11-30', '%Y-%m-%d')"
   ]
  },
  {
   "cell_type": "code",
   "execution_count": 13,
   "metadata": {},
   "outputs": [],
   "source": [
    "def add_feature(df):\n",
    "    df['TransactionAmt_mean_diff'] = df['TransactionAmt'] - df['TransactionAmt'].mean()\n",
    "    df['TransactionAmt_std_normalize'] = df['TransactionAmt'] / df['TransactionAmt'].std()\n",
    "    \n",
    "    df['TransactionAmt_to_mean_card1'] = df['TransactionAmt'] / df.groupby(['card1'])['TransactionAmt'].transform('mean')\n",
    "    df['TransactionAmt_to_mean_card4'] = df['TransactionAmt'] / df.groupby(['card4'])['TransactionAmt'].transform('mean')\n",
    "    df['TransactionAmt_to_std_card1'] = df['TransactionAmt'] / df.groupby(['card1'])['TransactionAmt'].transform('std')\n",
    "    df['TransactionAmt_to_std_card4'] = df['TransactionAmt'] / df.groupby(['card4'])['TransactionAmt'].transform('std')\n",
    "    \n",
    "    df['TransactionAmt_decimal'] = ((df['TransactionAmt'] - df['TransactionAmt'].astype(int)) * 1000).astype(int)\n",
    "    \n",
    "    # df['TransactionAmt'] = np.log(df['TransactionAmt'])\n",
    "    \n",
    "    df['card1_count_full'] = df['card1'].map(pd.concat([train['card1'], test['card1']], ignore_index=True).value_counts(dropna=False))\n",
    "    \n",
    "    df['uid'] = df['card1'].astype(str) + '_' + df['card2'].astype(str)\n",
    "    df['uid2'] = df['uid'].astype(str) + '_' + df['card3'].astype(str) + '_' + df['card5'].astype(str)\n",
    "    df['uid3'] = df['uid2'].astype(str) ; '_' + df['addr1'].astype(str) + '_' + df['addr2'].astype(str)\n",
    "    \n",
    "    df['id_02_to_mean_card1'] = df['id_02'] / df.groupby(['card1'])['id_02'].transform('mean')\n",
    "    df['id_02_to_mean_card4'] = df['id_02'] / df.groupby(['card4'])['id_02'].transform('mean')\n",
    "    df['id_02_to_std_card1'] = df['id_02'] / df.groupby(['card1'])['id_02'].transform('std')\n",
    "    df['id_02_to_std_card4'] = df['id_02'] / df.groupby(['card4'])['id_02'].transform('std')\n",
    "    \n",
    "    df['D15_to_mean_card1'] = df['D15'] / df.groupby(['card1'])['D15'].transform('mean')\n",
    "    df['D15_to_mean_card4'] = df['D15'] / df.groupby(['card4'])['D15'].transform('mean')\n",
    "    df['D15_to_std_card1'] = df['D15'] / df.groupby(['card1'])['D15'].transform('std')\n",
    "    df['D15_to_std_card4'] = df['D15'] / df.groupby(['card4'])['D15'].transform('std')\n",
    "    \n",
    "    df['D15_to_mean_addr1'] = df['D15'] / df.groupby(['addr1'])['D15'].transform('mean')\n",
    "    df['D15_to_mean_addr2'] = df['D15'] / df.groupby(['addr2'])['D15'].transform('mean')\n",
    "    df['D15_to_std_addr1'] = df['D15'] / df.groupby(['addr1'])['D15'].transform('std')\n",
    "    df['D15_to_std_addr2'] = df['D15'] / df.groupby(['addr2'])['D15'].transform('std')\n",
    "    \n",
    "    # df['M_sum'] = df[m_cols].sum(axis=1).astype(np.int8)\n",
    "    # df['M_na'] = df[m_cols].isna().sum(axis=1).astype(np.int8)\n",
    "    \n",
    "    uknown = 'email_not_provided'\n",
    "    df['P_emaildomain'] = df['P_emaildomain'].fillna(uknown)\n",
    "    df['R_emaildomain'] = df['R_emaildomain'].fillna(uknown)\n",
    "    df['email_check'] = np.where((df['P_emaildomain'] == df['R_emaildomain']) & (df['P_emaildomain'] != uknown), 1, 0)\n",
    "    df[['P_emaildomain_1', 'P_emaildomain_2', 'P_emaildomain_3']] = df['P_emaildomain'].str.split('.', expand=True)\n",
    "    df[['R_emaildomain_1', 'R_emaildomain_2', 'R_emaildomain_3']] = df['R_emaildomain'].str.split('.', expand=True)\n",
    "    \n",
    "    df['DeviceInfo'] = df['DeviceInfo'].fillna('unknown_device').str.lower()\n",
    "    df['DeviceInfo_device'] = df['DeviceInfo'].apply(lambda x: ' '.join([i for i in x if i.isalpha()]))\n",
    "    df['DeviceInfo_version'] = df['DeviceInfo'].apply(lambda x: ' '.join([i for i in x if i.isnumeric()]))\n",
    "    \n",
    "    df['id_30'] = df['id_30'].fillna('unknown_device').str.lower()\n",
    "    df['id_30_device'] = df['id_30'].apply(lambda x: ' '.join([i for i in x if i.isalpha()]))\n",
    "    df['id_30_version'] = df['id_30'].apply(lambda x: ' '.join([i for i in x if i.isnumeric()]))\n",
    "    \n",
    "    df['id_31'] = df['id_31'].fillna('unknown_device').str.lower()\n",
    "    df['id_31_device'] = df['id_31'].apply(lambda x: ' '.join([i for i in x if i.isalpha()]))\n",
    "    \n",
    "    #df['weekdays'] = np.floor((df['TransactionDT'] / (3600 * 24) - 1) % 7)\n",
    "    #df['hours'] = np.floor(df['TransactionDT'] / 3600) % 24\n",
    "    \n",
    "    df['DT'] = df['TransactionDT'].apply(lambda x: (start_date + datetime.timedelta(seconds=x)))\n",
    "    df['DT_M'] = (df['DT'].dt.year - 2017) * 12 + df['DT'].dt.month\n",
    "    df['DT_W'] = (df['DT'].dt.year - 2017) * 52 + df['DT'].dt.weekofyear\n",
    "    df['DT_D'] = (df['DT'].dt.year - 2017) * 365 + df['DT'].dt.dayofyear\n",
    "    \n",
    "    df['DT_hour'] = df['DT'].dt.hour\n",
    "    df['DT_day_week'] = df['DT'].dt.dayofweek\n",
    "    df['DT_day'] = df['DT'].dt.day\n",
    "    df['D9'] = np.where(df['D9'].isna(), 0, 1)\n",
    "    \n",
    "    trigonometric_cols = ['DT_hour', 'DT_day_week', 'DT_day']\n",
    "    df = encode_trigonometric(df, trigonometric_cols)"
   ]
  },
  {
   "cell_type": "code",
   "execution_count": 14,
   "metadata": {},
   "outputs": [],
   "source": [
    "add_feature(train)\n",
    "add_feature(test)"
   ]
  },
  {
   "cell_type": "code",
   "execution_count": 15,
   "metadata": {},
   "outputs": [],
   "source": [
    "train = train.drop('DT', axis=1)\n",
    "test = test.drop('DT', axis=1)"
   ]
  },
  {
   "cell_type": "code",
   "execution_count": 16,
   "metadata": {},
   "outputs": [],
   "source": [
    "valid_card = pd.concat([train[['card1']], test[['card1']]])\n",
    "valid_card = valid_card['card1'].value_counts()\n",
    "valid_card = valid_card[valid_card > 2]\n",
    "valid_card = list(valid_card.index)\n",
    "\n",
    "train['card1'] = np.where(train['card1'].isin(test['card1']), train['card1'], np.nan)\n",
    "test['card1'] = np.where(test['card1'].isin(train['card1']), test['card1'], np.nan)\n",
    "\n",
    "train['card1'] = np.where(train['card1'].isin(valid_card), train['card1'], np.nan)\n",
    "test['card1'] = np.where(test['card1'].isin(valid_card), test['card1'], np.nan)"
   ]
  },
  {
   "cell_type": "code",
   "execution_count": 17,
   "metadata": {},
   "outputs": [],
   "source": [
    "i_cols = ['card1', 'card2', 'card3', 'card5', 'uid', 'uid2', 'uid3']\n",
    "for col in i_cols:\n",
    "    for agg_type in ['mean', 'std']:\n",
    "        new_col_name = col + '_TransactionAmt_' + agg_type\n",
    "        temp_df = pd.concat([train[[col, 'TransactionAmt']], test[[col, 'TransactionAmt']]])\n",
    "        temp_df = temp_df.groupby([col])['TransactionAmt'].agg([agg_type]).reset_index().rename(columns={agg_type: new_col_name})\n",
    "        temp_df.index = list(temp_df[col])\n",
    "        temp_df = temp_df[new_col_name].to_dict()\n",
    "        train[new_col_name] = train[col].map(temp_df)\n",
    "        test[new_col_name] = test[col].map(temp_df)\n",
    "train['TransactionAmt'] = np.log1p(train['TransactionAmt'])\n",
    "test['TransactionAmt'] = np.log1p(test['TransactionAmt'])"
   ]
  },
  {
   "cell_type": "code",
   "execution_count": 18,
   "metadata": {},
   "outputs": [],
   "source": [
    "ii_cols = ['card1', 'card2', 'card3', 'card5',\n",
    "           'C1', 'C2', 'C3', 'C4', 'C5', 'C6', 'C7', 'C8', 'C9', 'C10', 'C11', 'C12', 'C13', 'C14',\n",
    "          'D1', 'D2', 'D3', 'D4', 'D5', 'D6', 'D7', 'D8', 'addr1', 'addr2', 'dist1', 'dist2',\n",
    "          'P_emaildomain', 'R_emaildomain',\n",
    "           'DeviceInfo', 'id_30', 'id_33', 'uid'\n",
    "           , 'DeviceInfo_device', 'DeviceInfo_version', 'id_30_device', 'id_30_version', 'id_31_device'\n",
    "           , 'uid2', 'uid3'\n",
    "          ]\n",
    "\n",
    "for col in ii_cols:\n",
    "    temp_df = pd.concat([train[[col]], test[[col]]])\n",
    "    fq_encode = temp_df[col].value_counts(dropna=False).to_dict()\n",
    "    train[col + '_fq_enc'] = train[col].map(fq_encode)\n",
    "    test[col + '_fq_enc'] = test[col].map(fq_encode)\n",
    "    \n",
    "for col in ['DT_M', 'DT_W', 'DT_D']:\n",
    "    temp_df = pd.concat([train[[col]], test[col]])\n",
    "    fq_encode = temp_df[col].value_counts().to_dict()\n",
    "    train[col + '_total'] = train[col].map(fq_encode)\n",
    "    test[col + '_total'] = test[col].map(fq_encode)"
   ]
  },
  {
   "cell_type": "code",
   "execution_count": 19,
   "metadata": {},
   "outputs": [],
   "source": [
    "periods = ['DT_M', 'DT_W', 'DT_D']\n",
    "i_cols = ['uid']\n",
    "for period in periods:\n",
    "    for col in i_cols:\n",
    "        new_column = col + '_' + period\n",
    "        temp_df = pd.concat([train[[col, period]], test[[col, period]]])\n",
    "        temp_df[new_column] = temp_df[col].astype(str) + '_' + (temp_df[period]).astype(str)\n",
    "        fq_encode = temp_df[new_column].value_counts().to_dict()\n",
    "        \n",
    "        train[new_column] = (train[col].astype(str) + '_' + train[period].astype(str)).map(fq_encode)\n",
    "        test[new_column] = (test[col].astype(str) + '_' + test[period].astype(str)).map(fq_encode)\n",
    "        \n",
    "        train[new_column] /= train[period + '_total']\n",
    "        test[new_column] /= test[period + '_total']"
   ]
  },
  {
   "cell_type": "code",
   "execution_count": 20,
   "metadata": {},
   "outputs": [],
   "source": [
    "for feature in ['id_02__id_20', 'id_02__D8', 'D11__DeviceInfo', 'DeviceInfo__P_emaildomain',\n",
    "                'P_emaildomain__C2', 'card2__dist1', 'card1__card5', 'card2__id_20',\n",
    "                'card5__P_emaildomain', 'addr1__card1']:\n",
    "\n",
    "    f1, f2 = feature.split('__')\n",
    "    train[feature] = train[f1].astype(str) + '_' + train[f2].astype(str)\n",
    "    test[feature] = test[f1].astype(str) + '_' + test[f2].astype(str)\n",
    "\n",
    "for feature in ['id_34', 'id_36']:\n",
    "    train[feature + '_count_full'] = train[feature].map(pd.concat([train[feature], test[feature]], ignore_index=True).value_counts(dropna=False))\n",
    "    test[feature + '_count_full'] = test[feature].map(pd.concat([train[feature], test[feature]], ignore_index=True).value_counts(dropna=False))\n",
    "        \n",
    "for feature in ['id_01', 'id_31', 'id_33', 'id_35', 'id_36']:\n",
    "    train[feature + '_count_dist'] = train[feature].map(train[feature].value_counts(dropna=False))\n",
    "    test[feature + '_count_dist'] = test[feature].map(test[feature].value_counts(dropna=False))"
   ]
  },
  {
   "cell_type": "code",
   "execution_count": null,
   "metadata": {},
   "outputs": [],
   "source": []
  },
  {
   "cell_type": "code",
   "execution_count": null,
   "metadata": {},
   "outputs": [],
   "source": []
  },
  {
   "cell_type": "markdown",
   "metadata": {},
   "source": [
    "## (Add PCA feature)"
   ]
  },
  {
   "cell_type": "code",
   "execution_count": 59,
   "metadata": {},
   "outputs": [],
   "source": [
    "def PCA_change(df, cols, n_components, prefix='PCA_', random_seed=10):\n",
    "    pca = PCA(n_components=n_components, random_state=random_seed)\n",
    "    principalComponents = pca.fit_transform(df[cols])\n",
    "    principalDf = pd.DataFrame(principalComponents)\n",
    "    df.drop(cols, axis=1, inplace=True)\n",
    "    principalDf.rename(columns=lambda x: str(prefix) + str(x), inplace=True)\n",
    "    df = pd.concat([df, principalDf], axis=1)\n",
    "    return df"
   ]
  },
  {
   "cell_type": "code",
   "execution_count": 67,
   "metadata": {
    "scrolled": true
   },
   "outputs": [],
   "source": [
    "test['isFraud'] = 'test'\n",
    "df_all = pd.concat([train, test], axis=0, sort=False)\n",
    "df_all = df_all.reset_index()\n",
    "df_all = df_all.drop('index', axis=1)"
   ]
  },
  {
   "cell_type": "code",
   "execution_count": 64,
   "metadata": {},
   "outputs": [],
   "source": [
    "mas_v = train.columns[55:394]"
   ]
  },
  {
   "cell_type": "code",
   "execution_count": 68,
   "metadata": {},
   "outputs": [],
   "source": [
    "from sklearn.preprocessing import minmax_scale\n",
    "from sklearn.decomposition import PCA\n",
    "\n",
    "for col in mas_v:\n",
    "    df_all[col] = df_all[col].fillna((df_all[col].min() - 2))\n",
    "    df_all[col] = (minmax_scale(df_all[col], feature_range=(0, 1)))\n",
    "    \n",
    "df_all = PCA_change(df_all, mas_v, prefix='PCA_V_', n_components=30, random_seed=seed)"
   ]
  },
  {
   "cell_type": "code",
   "execution_count": 69,
   "metadata": {},
   "outputs": [
    {
     "name": "stdout",
     "output_type": "stream",
     "text": [
      "Mem. usage decreased to 797.36 Mb (36.1% reduction)\n"
     ]
    }
   ],
   "source": [
    "df_all = reduce_mem_usage(df_all)"
   ]
  },
  {
   "cell_type": "code",
   "execution_count": 88,
   "metadata": {},
   "outputs": [],
   "source": [
    "train, test = df_all[df_all['isFraud'] != 'test'], df_all[df_all['isFraud'] == 'test'].drop('isFraud', axis=1)"
   ]
  },
  {
   "cell_type": "markdown",
   "metadata": {},
   "source": [
    "# Preprocessing"
   ]
  },
  {
   "cell_type": "code",
   "execution_count": 21,
   "metadata": {},
   "outputs": [],
   "source": [
    "def col_drop(df):\n",
    "    # null or not null で特徴になる？\n",
    "    null_cols = [col for col in df.columns if df[col].isnull().sum() / df.shape[0] > 0.9]\n",
    "    big_top_value_cols = [col for col in df.columns if df[col].value_counts(dropna=False, normalize=True).values[0] > 0.9]\n",
    "    one_value_cols = [col for col in df.columns if df[col].nunique() <= 1]\n",
    "    return null_cols, big_top_value_cols, one_value_cols"
   ]
  },
  {
   "cell_type": "code",
   "execution_count": 22,
   "metadata": {},
   "outputs": [
    {
     "data": {
      "text/plain": [
       "95"
      ]
     },
     "execution_count": 22,
     "metadata": {},
     "output_type": "execute_result"
    }
   ],
   "source": [
    "null_cols_train, big_top_value_cols_train, one_value_cols_train = col_drop(train)\n",
    "null_cols_test, big_top_value_cols_test, one_value_cols_test = col_drop(test)\n",
    "\n",
    "cols_to_drop = list(set(null_cols_train + null_cols_test + big_top_value_cols_train + big_top_value_cols_test + one_value_cols_train + one_value_cols_test))\n",
    "cols_to_drop.remove('isFraud')\n",
    "len(cols_to_drop)"
   ]
  },
  {
   "cell_type": "code",
   "execution_count": 23,
   "metadata": {},
   "outputs": [],
   "source": [
    "train = train.drop(cols_to_drop, axis=1)\n",
    "test = test.drop(cols_to_drop, axis=1)"
   ]
  },
  {
   "cell_type": "code",
   "execution_count": null,
   "metadata": {},
   "outputs": [],
   "source": []
  },
  {
   "cell_type": "code",
   "execution_count": null,
   "metadata": {},
   "outputs": [],
   "source": []
  },
  {
   "cell_type": "markdown",
   "metadata": {},
   "source": [
    "# LabelEncoding"
   ]
  },
  {
   "cell_type": "code",
   "execution_count": 24,
   "metadata": {},
   "outputs": [
    {
     "data": {
      "application/vnd.jupyter.widget-view+json": {
       "model_id": "b8584577ac314b4bb8fc11dca5807c10",
       "version_major": 2,
       "version_minor": 0
      },
      "text/plain": [
       "HBox(children=(IntProgress(value=0, max=466), HTML(value='')))"
      ]
     },
     "metadata": {},
     "output_type": "display_data"
    },
    {
     "name": "stdout",
     "output_type": "stream",
     "text": [
      "\n"
     ]
    }
   ],
   "source": [
    "for col in tqdm_notebook(train.columns):\n",
    "    if train[col].dtype == 'object':\n",
    "        le = LabelEncoder()\n",
    "        le.fit(list(train[col].astype(str).values) + list(test[col].astype(str).values))\n",
    "        train[col] = le.transform(list(train[col].astype(str).values))\n",
    "        test[col] = le.transform(list(test[col].astype(str).values))"
   ]
  },
  {
   "cell_type": "markdown",
   "metadata": {},
   "source": [
    "# Define X, y for modeling"
   ]
  },
  {
   "cell_type": "code",
   "execution_count": 25,
   "metadata": {},
   "outputs": [],
   "source": [
    "rm_cols = ['isFraud', 'DT_M', 'DT_W', 'DT_D', 'DT_hour', 'DT_day_week', 'DT_day',\n",
    "          'DT_D_total', 'DT_W_total', 'DT_M_total', 'id_30', 'id_31', 'id_33']"
   ]
  },
  {
   "cell_type": "code",
   "execution_count": 26,
   "metadata": {
    "scrolled": true
   },
   "outputs": [
    {
     "name": "stdout",
     "output_type": "stream",
     "text": [
      "['id_01_count_dist', 'D4_fq_enc', 'id_31_count_dist', 'TransactionAmt_to_std_card4', 'id_35_count_dist', 'D11__DeviceInfo', 'TransactionAmt_std_normalize', 'TransactionAmt_mean_diff', 'id_31_device', 'D15_to_mean_addr1', 'D15_to_std_card4', 'D5_fq_enc', 'D15_to_std_card1', 'D15_to_std_addr1', 'D6_fq_enc', 'D3_fq_enc', 'D15_to_mean_addr2', 'id_33_count_dist', 'D15_to_std_addr2', 'C12_fq_enc', 'id_36_count_dist', 'D15_to_mean_card1', 'D15_to_mean_card4', 'TransactionAmt_to_mean_card4']\n"
     ]
    }
   ],
   "source": [
    "from scipy.stats import ks_2samp\n",
    "features_check = []\n",
    "columns_to_check = set(list(train)).difference(base_columns + rm_cols)\n",
    "for i in columns_to_check:\n",
    "    features_check.append(ks_2samp(test[i], train[i])[1])\n",
    "    \n",
    "features_check = pd.Series(features_check, index=columns_to_check).sort_values()\n",
    "features_discard = list(features_check[features_check==0].index)\n",
    "print(features_discard)\n",
    "\n",
    "# features_discard = []\n",
    "\n",
    "features_columns = [col for col in list(train) if col not in rm_cols + features_discard]"
   ]
  },
  {
   "cell_type": "code",
   "execution_count": 27,
   "metadata": {},
   "outputs": [],
   "source": [
    "test = test[features_columns]\n",
    "features_columns.append('isFraud')\n",
    "train = train[features_columns]"
   ]
  },
  {
   "cell_type": "code",
   "execution_count": 28,
   "metadata": {},
   "outputs": [],
   "source": [
    "X = train.sort_values('TransactionDT').drop(['isFraud', 'TransactionDT', 'TransactionID'], axis=1)\n",
    "y = train.sort_values('TransactionDT')['isFraud'].astype(bool)\n",
    "X_test = test.drop(['TransactionDT', 'TransactionID'], axis=1)\n",
    "del train\n",
    "test = test[['TransactionDT', 'TransactionID']]"
   ]
  },
  {
   "cell_type": "code",
   "execution_count": 29,
   "metadata": {},
   "outputs": [],
   "source": [
    "def clean_inf_nan(df):\n",
    "    return df.replace([np.inf, -np.inf], np.nan)\n",
    "\n",
    "X = clean_inf_nan(X)\n",
    "X_test = clean_inf_nan(X_test)"
   ]
  },
  {
   "cell_type": "markdown",
   "metadata": {},
   "source": [
    "# resampling"
   ]
  },
  {
   "cell_type": "code",
   "execution_count": 35,
   "metadata": {},
   "outputs": [],
   "source": [
    "from imblearn.under_sampling import RandomUnderSampler, InstanceHardnessThreshold, NearMiss\n",
    "from imblearn.over_sampling import SMOTE, ADASYN, KMeansSMOTE, SVMSMOTE, BorderlineSMOTE\n",
    "from imblearn.combine import SMOTEENN, SMOTETomek\n",
    "positive_count = y.sum()\n",
    "\n",
    "def resampling(x, y, method='random', ratio=.10, random_state=None):\n",
    "    # random\n",
    "    if method == 'random':\n",
    "        rus = RandomUnderSampler(sampling_strategy=ratio / 2., random_state=random_state)\n",
    "        # rus = RandomUnderSampler(ratio={0:positive_count * ratio * 2., 1:positive_count}, random_state=random_state)\n",
    "        x_under, y_under = rus.fit_sample(x, y)\n",
    "        smote = SMOTE(sampling_strategy=ratio, random_state=random_state)\n",
    "        # smote = SMOTE(ratio={0:x_under.shape[0], 1:x_under.shape[0] // ratio}, random_state=random_state)\n",
    "        x_resampled, y_resampled = smote.fit_sample(x_under, y_under)\n",
    "        return pd.DataFrame(x_resampled), pd.Series(y_resampled)\n",
    "    \n",
    "    elif method == 'random_adasyn':\n",
    "        rus = RandomUnderSampler(sampling_strategy=ratio / 2., random_state=random_state)\n",
    "        x_under, y_under = rus.fit_sample(x, y)\n",
    "        smote = ADASYN(sampling_strategy=ratio, random_state=random_state)\n",
    "        x_resampled, y_resampled = smote.fit_sample(x_under, y_under)\n",
    "        return pd.DataFrame(x_resampled), pd.Series(y_resampled)\n",
    "    \n",
    "    elif method == 'random_kmeans':\n",
    "        rus = RandomUnderSampler(sampling_strategy=ratio / 2., random_state=random_state)\n",
    "        x_under, y_under = rus.fit_sample(x, y)\n",
    "        smote = KMeansSMOTE(sampling_strategy=ratio, random_state=random_state)\n",
    "        x_resampled, y_resampled = smote.fit_sample(x_under, y_under)\n",
    "        return pd.DataFrame(x_resampled), pd.Series(y_resampled)\n",
    "    \n",
    "    elif method == 'random_svm':\n",
    "        rus = RandomUnderSampler(sampling_strategy=ratio / 2., random_state=random_state)\n",
    "        x_under, y_under = rus.fit_sample(x, y)\n",
    "        smote = SVMSMOTE(sampling_strategy=ratio, random_state=random_state)\n",
    "        x_resampled, y_resampled = smote.fit_sample(x_under, y_under)\n",
    "        return pd.DataFrame(x_resampled), pd.Series(y_resampled)\n",
    "    \n",
    "    elif method == 'random_border':\n",
    "        rus = RandomUnderSampler(sampling_strategy=ratio / 2., random_state=random_state)\n",
    "        x_under, y_under = rus.fit_sample(x, y)\n",
    "        smote = BorderlineSMOTE(sampling_strategy=ratio, random_state=random_state)\n",
    "        x_resampled, y_resampled = smote.fit_sample(x_under, y_under)\n",
    "        return pd.DataFrame(x_resampled), pd.Series(y_resampled)\n",
    "\n",
    "    # instance\n",
    "    elif method == 'instance':\n",
    "        iht = InstanceHardnessThreshold(sampling_strategy=ratio / 2., random_state=random_state)\n",
    "        # iht = InstanceHardnessThreshold(ratio={0:positive_count * ratio * 2., 1:positive_count}, random_state=random_state)\n",
    "        x_under, y_under = iht.fit_sample(x, y)\n",
    "        smote = SMOTE(sampling_strategy=ratio, random_state=random_state)\n",
    "        x_resampled, y_resampled = smote.fit_sample(x_under, y_under)\n",
    "        return pd.DataFrame(x_resampled), pd.Series(y_resampled)\n",
    "    \n",
    "    elif method == 'instance_adasyn':\n",
    "        iht = InstanceHardnessThreshold(sampling_strategy=ratio / 2., random_state=random_state)\n",
    "        x_under, y_under = iht.fit_sample(x, y)\n",
    "        smote = ADASYN(sampling_strategy=ratio, random_state=random_state)\n",
    "        x_resampled, y_resampled = smote.fit_sample(x_under, y_under)\n",
    "        return pd.DataFrame(x_resampled), pd.Series(y_resampled)\n",
    "    \n",
    "    elif method == 'instance_kmeans':\n",
    "        iht = InstanceHardnessThreshold(sampling_strategy=ratio / 2., random_state=random_state)\n",
    "        x_under, y_under = iht.fit_sample(x, y)\n",
    "        smote = KMeansSMOTE(sampling_strategy=ratio, random_state=random_state)\n",
    "        x_resampled, y_resampled = smote.fit_sample(x_under, y_under)\n",
    "        return pd.DataFrame(x_resampled), pd.Series(y_resampled)\n",
    "    \n",
    "    elif method == 'instance_svm':\n",
    "        iht = InstanceHardnessThreshold(sampling_strategy=ratio / 2., random_state=random_state)\n",
    "        x_under, y_under = iht.fit_sample(x, y)\n",
    "        smote = SVMSMOTE(sampling_strategy=ratio, random_state=random_state)\n",
    "        x_resampled, y_resampled = smote.fit_sample(x_under, y_under)\n",
    "        return pd.DataFrame(x_resampled), pd.Series(y_resampled)\n",
    "    \n",
    "    elif method == 'instance_border':\n",
    "        iht = InstanceHardnessThreshold(sampling_strategy=ratio / 2., random_state=random_state)\n",
    "        x_under, y_under = iht.fit_sample(x, y)\n",
    "        smote = BorderlineSMOTE(sampling_strategy=ratio, random_state=random_state)\n",
    "        x_resampled, y_resampled = smote.fit_sample(x_under, y_under)\n",
    "        return pd.DataFrame(x_resampled), pd.Series(y_resampled)\n",
    "    \n",
    "    # nearmiss\n",
    "    elif method == 'nearmiss':\n",
    "        nm = NearMiss(sampling_strategy=ratio / 2., random_state=random_state)\n",
    "        x_under, y_under = iht.fit_sample(x, y)\n",
    "        smote = SMOTE(sampling_strategy=ratio, random_state=random_state)\n",
    "        x_resampled, y_resampled = smote.fit_sample(x_under, y_under)\n",
    "        return pd.DataFrame(x_resampled), pd.Series(y_resampled)\n",
    "\n",
    "    elif method == 'nearmiss_adasyn':\n",
    "        nm = NearMiss(sampling_strategy=ratio / 2., random_state=random_state)\n",
    "        x_under, y_under = iht.fit_sample(x, y)\n",
    "        smote = ADASYN(sampling_strategy=ratio, random_state=random_state)\n",
    "        x_resampled, y_resampled = smote.fit_sample(x_under, y_under)\n",
    "        return pd.DataFrame(x_resampled), pd.Series(y_resampled)\n",
    "    \n",
    "    elif method == 'nearmiss_kmeans':\n",
    "        nm = NearMiss(sampling_strategy=ratio / 2., random_state=random_state)\n",
    "        x_under, y_under = iht.fit_sample(x, y)\n",
    "        smote = KMeansSMOTE(sampling_strategy=ratio, random_state=random_state)\n",
    "        x_resampled, y_resampled = smote.fit_sample(x_under, y_under)\n",
    "        return pd.DataFrame(x_resampled), pd.Series(y_resampled)\n",
    "    \n",
    "    elif method == 'nearmiss_svm':\n",
    "        nm = NearMiss(sampling_strategy=ratio / 2., random_state=random_state)\n",
    "        x_under, y_under = iht.fit_sample(x, y)\n",
    "        smote = SVMSMOTE(sampling_strategy=ratio, random_state=random_state)\n",
    "        x_resampled, y_resampled = smote.fit_sample(x_under, y_under)\n",
    "        return pd.DataFrame(x_resampled), pd.Series(y_resampled)\n",
    "    \n",
    "    elif method == 'nearmiss_border':\n",
    "        nm = NearMiss(sampling_strategy=ratio / 2., random_state=random_state)\n",
    "        x_under, y_under = iht.fit_sample(x, y)\n",
    "        smote = BorderlineSMOTE(sampling_strategy=ratio, random_state=random_state)\n",
    "        x_resampled, y_resampled = smote.fit_sample(x_under, y_under)\n",
    "        return pd.DataFrame(x_resampled), pd.Series(y_resampled)\n",
    "    \n",
    "    # combine\n",
    "    elif method == 'enn':\n",
    "        smote = SMOTEENN(sampling_strategy=ratio, random_state=random_state)\n",
    "        # smote = SMOTEENN(ratio={0:x.shape[0], 1:x.shape[0] // ratio}, random_state=random_state)\n",
    "        x_resampled, y_resampled = smote.fit_sample(x, y)\n",
    "        return pd.DataFrame(x_resampled), pd.Series(y_resampled)\n",
    "    \n",
    "    elif method == 'tomek':\n",
    "        smote = SMOTETomek(sampling_strategy=ratio, random_state=random_state)\n",
    "        # smote = SMOTETomek(ratio={0:x.shape[0], 1:x.shape[0] // ratio}, random_state=random_state)\n",
    "        x_resampled, y_resampled = smote.fit_sample(x, y)\n",
    "        return pd.DataFrame(x_resampled), pd.Series(y_resampled)"
   ]
  },
  {
   "cell_type": "code",
   "execution_count": 33,
   "metadata": {},
   "outputs": [],
   "source": [
    "X.fillna(-999, inplace=True)"
   ]
  },
  {
   "cell_type": "code",
   "execution_count": null,
   "metadata": {},
   "outputs": [],
   "source": [
    "i = 1\n",
    "for method in ['random', 'random_adasyn', 'random_svm', 'random_border',\n",
    "              'instance', 'instance_adasyn', 'instance_svm', 'instance_border',\n",
    "              'nearmiss', 'nearmiss_adasyn', 'nearmiss_svm', 'nearmiss_border']:\n",
    "    for random_state in [seed, seed + 7]:\n",
    "        exec('X%d, y%d = resampling(X, y, method=method, random_state=random_state)' % (i, i))\n",
    "        exec('X%d = np.where(X%d == -999, np.nan, X%d)' % (i, i, i))\n",
    "        i += 1\n",
    "        \n",
    "for method in ['enn', 'tomek']:\n",
    "    for random_state in [seed, seed + 7, seed + 14]:\n",
    "        exec('X%d, y%d = resampling(X, y, method=method, random_state=random_state)' % (i, i))\n",
    "        exec('X%d = np.where(X%d == -999, np.nan, X%d)' % (i, i, i))\n",
    "        i += 1\n",
    "        \n",
    "num_model = i\n",
    "\"\"\"\n",
    "X1, y1 = resampling(X, y, method='random', random_state=seed)\n",
    "X2, y2 = resampling(X, y, method='random', random_state=seed + 7)\n",
    "X3, y3 = resampling(X, y, method='random_adasyn', random_state=seed)\n",
    "X4, y4 = resampling(X, y, method='random_adasyn', random_state=seed + 7)\n",
    "X5, y5 = resampling(X, y, method='random_kmeans', random_state=seed)\n",
    "X6, y6 = resampling(X, y, method='random_kmeans', random_state=seed + 7)\n",
    "X7, y7 = resampling(X, y, method='random_svm', random_state=seed)\n",
    "X8, y8 = resampling(X, y, method='random_svm', random_state=seed + 7)\n",
    "X9, y9 = resampling(X, y, method='random_border', random_state=seed)\n",
    "X10, y10 = resampling(X, y, method='')\n",
    "\"\"\""
   ]
  },
  {
   "cell_type": "markdown",
   "metadata": {},
   "source": [
    "# LGBM"
   ]
  },
  {
   "cell_type": "code",
   "execution_count": 376,
   "metadata": {},
   "outputs": [],
   "source": [
    "today = str(datetime.date.today())"
   ]
  },
  {
   "cell_type": "code",
   "execution_count": 33,
   "metadata": {},
   "outputs": [],
   "source": [
    "params = {'num_leaves': 128,\n",
    "          'min_child_weight': 0.01,\n",
    "          'feature_fraction': max(0.1, np.sqrt(n_features)/n_features),\n",
    "          'bagging_fraction': 0.3,\n",
    "          'min_data_in_leaf': 50,\n",
    "          'objective': 'binary',\n",
    "          'max_depth': -1,\n",
    "          'learning_rate': 0.01,\n",
    "          \"boosting_type\": \"gbdt\",\n",
    "          \"bagging_seed\": 11,\n",
    "          \"metric\": 'auc',\n",
    "          \"verbosity\": -1,\n",
    "          'reg_alpha': 0.3,\n",
    "          'reg_lambda': 0.243,\n",
    "          'random_state': seed\n",
    "         }"
   ]
  },
  {
   "cell_type": "code",
   "execution_count": 399,
   "metadata": {},
   "outputs": [],
   "source": [
    "n_fold = 5\n",
    "kf = TimeSeriesSplit(n_splits=n_fold)\n",
    "n_test = X_test.shape[0]\n",
    "n_features = X.shape[1]\n",
    "feature_importance = pd.DataFrame()\n",
    "feature_importance['feature'] = X.columns"
   ]
  },
  {
   "cell_type": "markdown",
   "metadata": {},
   "source": [
    "## LGBM with resampling"
   ]
  },
  {
   "cell_type": "code",
   "execution_count": null,
   "metadata": {},
   "outputs": [],
   "source": [
    "resample_test = np.zeros((n_test, 36))\n",
    "for i in range(36):\n",
    "    exec('n_train_%d = X%d.shape[0]' % (i + 1, i + 1))\n",
    "    exec('Xi, yi = X%d, y%d' % (i + 1, i + 1))\n",
    "    #oof_test_j = np.zeros((n_test, n_fold))\n",
    "    \n",
    "    score = 0\n",
    "    \n",
    "    for j, (train_index, valid_index) in enumerate(kf.split(Xi, yi)):\n",
    "        print(f'Training on fold {j + 1} with NO.{i + 1} model')\n",
    "        \n",
    "        X_train = Xi.iloc[train_index]\n",
    "        y_train = yi.iloc[train_index]\n",
    "        X_valid = Xi.iloc[valid_index]\n",
    "        y_valid = yi.iloc[valid_index]\n",
    "        \n",
    "        train_data = lgb.Dataset(X_train, label=y_train)\n",
    "        valid_data = lgb.Dataset(X_valid, label=y_valid, reference=train_data)\n",
    "        clf = lgb.train(params, train_data, 10000, valid_sets=valid_data, varbose_eval=1000, early_stopping_rounds=100)\n",
    "        y_pred = clf.predict(X_valid, num_iteration=clf.best_iteration)\n",
    "        \n",
    "        #oof_test_j[:, j] = clf.predict(X_test, num_iteration=clf.best_iteration)\n",
    "        \n",
    "        print(f'FOLD_{j + 1}: AUC {roc_auc_score(y_valid, y_pred)}')\n",
    "        score += roc_auc_score(y_valid, y_pred) / n_fold\n",
    "        \n",
    "        del X_train, X_valid, y_train, y_valid\n",
    "        gc.collect()\n",
    "        \n",
    "        print(f'\\nMEAN AUC = {score}')\n",
    "    \n",
    "    clf_resample = lgb.LGBMClassifier(**params, num_boost_round=clf.best_iteration)\n",
    "    clf_resample.fit(Xi, yi)\n",
    "    resample_test[:, i] = clf_resample.predict_proba(X_test)[:, 1]"
   ]
  },
  {
   "cell_type": "code",
   "execution_count": null,
   "metadata": {},
   "outputs": [],
   "source": [
    "ensemble_pred = resample_test.mean(axis=1)\n",
    "submission = sample_sub.copy()\n",
    "submission['isFraud'] = ensemble_pred[:, 1] # ensemble_predの形を確認\n",
    "submission.to_csv(f'./outputs/resample_{today}_{score:.4f}.csv', index=False)"
   ]
  },
  {
   "cell_type": "code",
   "execution_count": null,
   "metadata": {},
   "outputs": [],
   "source": []
  },
  {
   "cell_type": "code",
   "execution_count": 400,
   "metadata": {},
   "outputs": [
    {
     "name": "stdout",
     "output_type": "stream",
     "text": [
      "Training on fold 1\n",
      "Training until validation scores don't improve for 100 rounds.\n",
      "Early stopping, best iteration is:\n",
      "[823]\tvalid_0's auc: 0.909901\n",
      "FOLD_1: AUC 0.909901468584449\n",
      "Training on fold 2\n",
      "Training until validation scores don't improve for 100 rounds.\n",
      "Early stopping, best iteration is:\n",
      "[774]\tvalid_0's auc: 0.921436\n",
      "FOLD_2: AUC 0.9214362182309775\n",
      "Training on fold 3\n",
      "Training until validation scores don't improve for 100 rounds.\n",
      "[1000]\tvalid_0's auc: 0.912825\n",
      "Early stopping, best iteration is:\n",
      "[1043]\tvalid_0's auc: 0.913047\n",
      "FOLD_3: AUC 0.913047266914349\n",
      "Training on fold 4\n",
      "Training until validation scores don't improve for 100 rounds.\n",
      "[1000]\tvalid_0's auc: 0.929388\n",
      "Early stopping, best iteration is:\n",
      "[1548]\tvalid_0's auc: 0.931591\n",
      "FOLD_4: AUC 0.9315909616668395\n",
      "Training on fold 5\n",
      "Training until validation scores don't improve for 100 rounds.\n",
      "[1000]\tvalid_0's auc: 0.927464\n",
      "[2000]\tvalid_0's auc: 0.93165\n",
      "Early stopping, best iteration is:\n",
      "[2012]\tvalid_0's auc: 0.931685\n",
      "FOLD_5: AUC 0.9316850648767488\n",
      "\n",
      "MEAN AUC = 0.9215321960546727\n",
      "OOF AUC = 0.8327682606965247\n",
      "CPU times: user 59min 42s, sys: 3min 9s, total: 1h 2min 51s\n",
      "Wall time: 9min 10s\n"
     ]
    }
   ],
   "source": [
    "%%time\n",
    "\n",
    "n_train = X.shape[0]\n",
    "\n",
    "oof_train = np.zeros(n_train)\n",
    "oof_test = np.zeros(n_test)\n",
    "oof_test_i = np.zeros((n_test, n_fold))\n",
    "\n",
    "score = 0\n",
    "\n",
    "for i, (train_index, valid_index) in enumerate(kf.split(X, y)):\n",
    "    print(f'Training on fold {i + 1}')\n",
    "    \n",
    "    X_train = X.iloc[train_index]\n",
    "    y_train = y[train_index]\n",
    "    X_valid = X.iloc[valid_index]\n",
    "    y_valid = y[valid_index]\n",
    "    \n",
    "    train_data = lgb.Dataset(X_train, label=y_train)\n",
    "    valid_data = lgb.Dataset(X_valid, label=y_valid, reference=train_data)\n",
    "    clf = lgb.train(params, train_data, 10000, valid_sets=valid_data, verbose_eval=1000, early_stopping_rounds=100)\n",
    "    y_pred = clf.predict(X_valid, num_iteration=clf.best_iteration)\n",
    "    # [:, 1]\n",
    "    \n",
    "    \"\"\"\n",
    "\n",
    "    clf = lgb.LGBMClassifier(**params, num_boost_round=1000)\n",
    "    clf.fit(X_train, y_train)\n",
    "    y_pred = clf.predict_proba(X_valid)[:, 1]\n",
    "    \"\"\"\n",
    "    \n",
    "    oof_train[valid_index] = y_pred\n",
    "    oof_test_i[:, i] = clf.predict(X_test, num_iteration=clf.best_iteration)\n",
    "    # [:, 1]\n",
    "    \n",
    "    feature_importance[f'fold_{i + 1}'] = clf.feature_importance()\n",
    "    \n",
    "    print(f'FOLD_{i + 1}: AUC {roc_auc_score(y_valid, y_pred)}')\n",
    "    score += roc_auc_score(y_valid, y_pred) / n_fold\n",
    "    \n",
    "    del X_train, X_valid, y_train, y_valid\n",
    "    gc.collect()\n",
    "    \n",
    "print(f'\\nMEAN AUC = {score}')\n",
    "print(f'OOF AUC = {roc_auc_score(y, oof_train)}')\n",
    "    \n",
    "oof_test = oof_test_i.mean(axis=1)\n",
    "oof_train = pd.DataFrame(oof_train)\n",
    "oof_test = pd.DataFrame(oof_test)\n",
    "\n",
    "oof_train.to_csv(f'./outputs/oof_train_{today}.csv')\n",
    "oof_test.to_csv(f'./outputs/oof_test_{today}.csv')"
   ]
  },
  {
   "cell_type": "code",
   "execution_count": 320,
   "metadata": {
    "scrolled": false
   },
   "outputs": [
    {
     "name": "stdout",
     "output_type": "stream",
     "text": [
      "Training on fold 1\n",
      "Training until validation scores don't improve for 100 rounds.\n",
      "Early stopping, best iteration is:\n",
      "[880]\tvalid_0's auc: 0.90971\n",
      "FOLD_1: AUC 0.909709943339378\n",
      "Training on fold 2\n",
      "Training until validation scores don't improve for 100 rounds.\n",
      "Early stopping, best iteration is:\n",
      "[712]\tvalid_0's auc: 0.921198\n",
      "FOLD_2: AUC 0.9211984247799689\n",
      "Training on fold 3\n",
      "Training until validation scores don't improve for 100 rounds.\n",
      "[1000]\tvalid_0's auc: 0.913455\n",
      "Early stopping, best iteration is:\n",
      "[1021]\tvalid_0's auc: 0.913662\n",
      "FOLD_3: AUC 0.9136621885698919\n",
      "Training on fold 4\n",
      "Training until validation scores don't improve for 100 rounds.\n",
      "[1000]\tvalid_0's auc: 0.929719\n",
      "Early stopping, best iteration is:\n",
      "[1511]\tvalid_0's auc: 0.931725\n",
      "FOLD_4: AUC 0.931725305658282\n",
      "Training on fold 5\n",
      "Training until validation scores don't improve for 100 rounds.\n",
      "[1000]\tvalid_0's auc: 0.928529\n",
      "[2000]\tvalid_0's auc: 0.932609\n",
      "Early stopping, best iteration is:\n",
      "[1994]\tvalid_0's auc: 0.932621\n",
      "FOLD_5: AUC 0.9326210790978166\n",
      "\n",
      "MEAN AUC = 0.9217833882890676\n",
      "OOF AUC = 0.832708610078973\n",
      "CPU times: user 57min 37s, sys: 2min 49s, total: 1h 27s\n",
      "Wall time: 8min 47s\n"
     ]
    }
   ],
   "source": [
    "%%time\n",
    "feature_importance = pd.DataFrame()\n",
    "feature_importance['feature'] = X.columns\n",
    "\n",
    "oof_train = np.zeros(n_train)\n",
    "oof_test = np.zeros(n_test)\n",
    "oof_test_i = np.zeros((n_test, n_fold))\n",
    "\n",
    "score = 0\n",
    "\n",
    "for i, (train_index, valid_index) in enumerate(kf.split(X, y)):\n",
    "    print(f'Training on fold {i + 1}')\n",
    "    \n",
    "    X_train = X.iloc[train_index]\n",
    "    y_train = y[train_index]\n",
    "    X_valid = X.iloc[valid_index]\n",
    "    y_valid = y[valid_index]\n",
    "    \n",
    "    train_data = lgb.Dataset(X_train, label=y_train)\n",
    "    valid_data = lgb.Dataset(X_valid, label=y_valid, reference=train_data)\n",
    "    clf = lgb.train(params, train_data, 10000, valid_sets=valid_data, verbose_eval=1000, early_stopping_rounds=100)\n",
    "    y_pred = clf.predict(X_valid, num_iteration=clf.best_iteration)\n",
    "    # [:, 1]\n",
    "    \n",
    "    \"\"\"\n",
    "\n",
    "    clf = lgb.LGBMClassifier(**params, num_boost_round=1000)\n",
    "    clf.fit(X_train, y_train)\n",
    "    y_pred = clf.predict_proba(X_valid)[:, 1]\n",
    "    \"\"\"\n",
    "    \n",
    "    oof_train[valid_index] = y_pred\n",
    "    oof_test_i[:, i] = clf.predict(X_test, num_iteration=clf.best_iteration)\n",
    "    # [:, 1]\n",
    "    \n",
    "    feature_importance[f'fold_{i + 1}'] = clf.feature_importance()\n",
    "    \n",
    "    print(f'FOLD_{i + 1}: AUC {roc_auc_score(y_valid, y_pred)}')\n",
    "    score += roc_auc_score(y_valid, y_pred) / n_fold\n",
    "    \n",
    "    del X_train, X_valid, y_train, y_valid\n",
    "    gc.collect()\n",
    "    \n",
    "print(f'\\nMEAN AUC = {score}')\n",
    "print(f'OOF AUC = {roc_auc_score(y, oof_train)}')\n",
    "    \n",
    "oof_test = oof_test_i.mean(axis=1)\n",
    "oof_train = pd.DataFrame(oof_train)\n",
    "oof_test = pd.DataFrame(oof_test)\n",
    "\n",
    "oof_train.to_csv(f'./outputs/oof_train_{today}_4.csv')\n",
    "oof_test.to_csv(f'./outputs/oof_test_{today}_4.csv')"
   ]
  },
  {
   "cell_type": "code",
   "execution_count": 378,
   "metadata": {},
   "outputs": [
    {
     "name": "stdout",
     "output_type": "stream",
     "text": [
      "Training on fold 1\n",
      "Training until validation scores don't improve for 100 rounds.\n",
      "Early stopping, best iteration is:\n",
      "[817]\tvalid_0's auc: 0.896696\n",
      "FOLD_1: AUC 0.8966957768677105\n",
      "Training on fold 2\n",
      "Training until validation scores don't improve for 100 rounds.\n",
      "[1000]\tvalid_0's auc: 0.910228\n",
      "Early stopping, best iteration is:\n",
      "[915]\tvalid_0's auc: 0.910413\n",
      "FOLD_2: AUC 0.910412807801424\n",
      "Training on fold 3\n",
      "Training until validation scores don't improve for 100 rounds.\n",
      "[1000]\tvalid_0's auc: 0.901457\n",
      "Early stopping, best iteration is:\n",
      "[1339]\tvalid_0's auc: 0.903174\n",
      "FOLD_3: AUC 0.9031743867483015\n",
      "Training on fold 4\n",
      "Training until validation scores don't improve for 100 rounds.\n",
      "[1000]\tvalid_0's auc: 0.91444\n",
      "Early stopping, best iteration is:\n",
      "[1673]\tvalid_0's auc: 0.917818\n",
      "FOLD_4: AUC 0.9178184559841314\n",
      "Training on fold 5\n",
      "Training until validation scores don't improve for 100 rounds.\n",
      "[1000]\tvalid_0's auc: 0.914718\n",
      "[2000]\tvalid_0's auc: 0.921557\n",
      "Early stopping, best iteration is:\n",
      "[2473]\tvalid_0's auc: 0.922636\n",
      "FOLD_5: AUC 0.9226358736171868\n",
      "\n",
      "MEAN AUC = 0.9101474602037508\n",
      "OOF AUC = 0.824759365654944\n",
      "CPU times: user 1h 4min 57s, sys: 3min 8s, total: 1h 8min 5s\n",
      "Wall time: 9min 33s\n"
     ]
    }
   ],
   "source": [
    "%%time\n",
    "feature_importance = pd.DataFrame()\n",
    "feature_importance['feature'] = X.columns\n",
    "\n",
    "oof_train = np.zeros(n_train)\n",
    "oof_test = np.zeros(n_test)\n",
    "oof_test_i = np.zeros((n_test, n_fold))\n",
    "\n",
    "score = 0\n",
    "\n",
    "for i, (train_index, valid_index) in enumerate(kf.split(X, y)):\n",
    "    print(f'Training on fold {i + 1}')\n",
    "    \n",
    "    X_train = X.iloc[train_index]\n",
    "    y_train = y[train_index]\n",
    "    X_valid = X.iloc[valid_index]\n",
    "    y_valid = y[valid_index]\n",
    "    \n",
    "    train_data = lgb.Dataset(X_train, label=y_train)\n",
    "    valid_data = lgb.Dataset(X_valid, label=y_valid, reference=train_data)\n",
    "    clf = lgb.train(params, train_data, 10000, valid_sets=valid_data, verbose_eval=1000, early_stopping_rounds=100)\n",
    "    y_pred = clf.predict(X_valid, num_iteration=clf.best_iteration)\n",
    "    # [:, 1]\n",
    "    \n",
    "    \"\"\"\n",
    "\n",
    "    clf = lgb.LGBMClassifier(**params, num_boost_round=1000)\n",
    "    clf.fit(X_train, y_train)\n",
    "    y_pred = clf.predict_proba(X_valid)[:, 1]\n",
    "    \"\"\"\n",
    "    \n",
    "    oof_train[valid_index] = y_pred\n",
    "    oof_test_i[:, i] = clf.predict(X_test, num_iteration=clf.best_iteration)\n",
    "    # [:, 1]\n",
    "    \n",
    "    feature_importance[f'fold_{i + 1}'] = clf.feature_importance()\n",
    "    \n",
    "    print(f'FOLD_{i + 1}: AUC {roc_auc_score(y_valid, y_pred)}')\n",
    "    score += roc_auc_score(y_valid, y_pred) / n_fold\n",
    "    \n",
    "    del X_train, X_valid, y_train, y_valid\n",
    "    gc.collect()\n",
    "    \n",
    "print(f'\\nMEAN AUC = {score}')\n",
    "print(f'OOF AUC = {roc_auc_score(y, oof_train)}')\n",
    "    \n",
    "oof_test = oof_test_i.mean(axis=1)\n",
    "oof_train = pd.DataFrame(oof_train)\n",
    "oof_test = pd.DataFrame(oof_test)\n",
    "\n",
    "oof_train.to_csv(f'./outputs/oof_train_{today}_smirnov0.05.csv')\n",
    "oof_test.to_csv(f'./outputs/oof_test_{today}_smirnov0.05.csv')"
   ]
  },
  {
   "cell_type": "code",
   "execution_count": 380,
   "metadata": {},
   "outputs": [
    {
     "data": {
      "image/png": "[encoded data removed]",
      "text/plain": [
       "<Figure size 1152x1152 with 1 Axes>"
      ]
     },
     "metadata": {
      "needs_background": "light"
     },
     "output_type": "display_data"
    }
   ],
   "source": [
    "feature_importance['average'] = feature_importance[[f'fold_{i + 1}' for i in range(kf.n_splits)]].mean(axis=1)\n",
    "# feature_importance.to_csv(f'./outputs/feature_importances_{today}.csv')\n",
    "plt.figure(figsize=(16, 16))\n",
    "sns.barplot(data=feature_importance.sort_values(by='average', ascending=False).head(50), x='average', y='feature')\n",
    "plt.title(f'50 TOP feature importance over {kf.n_splits} folds average')\n",
    "plt.tight_layout()\n",
    "plt.savefig(f'./outputs/feature_importances_{today}', dpi=150)\n",
    "#plt.savefig(f'./outputs/feature_importances_{today}_smirnov05', dpi=150)"
   ]
  },
  {
   "cell_type": "markdown",
   "metadata": {},
   "source": [
    "## 学習データ全体で再度モデル構築"
   ]
  },
  {
   "cell_type": "code",
   "execution_count": 381,
   "metadata": {},
   "outputs": [
    {
     "data": {
      "text/plain": [
       "LGBMClassifier(bagging_fraction=0.3, bagging_seed=11, boosting_type='gbdt',\n",
       "        class_weight=None, colsample_bytree=1.0, feature_fraction=0.1,\n",
       "        importance_type='split', learning_rate=0.01, max_depth=-1,\n",
       "        metric='auc', min_child_samples=20, min_child_weight=0.01,\n",
       "        min_data_in_leaf=50, min_split_gain=0.0, n_estimators=100,\n",
       "        n_jobs=-1, num_boost_round=2473, num_leaves=128,\n",
       "        objective='binary', random_state=5, reg_alpha=0.3,\n",
       "        reg_lambda=0.243, silent=True, subsample=1.0,\n",
       "        subsample_for_bin=200000, subsample_freq=0, verbosity=-1)"
      ]
     },
     "execution_count": 381,
     "metadata": {},
     "output_type": "execute_result"
    }
   ],
   "source": [
    "clf_all = lgb.LGBMClassifier(**params, num_boost_round=clf.best_iteration)\n",
    "clf_all.fit(X, y)"
   ]
  },
  {
   "cell_type": "code",
   "execution_count": 382,
   "metadata": {},
   "outputs": [],
   "source": [
    "submission = sample_sub.copy()\n",
    "submission['isFraud'] = clf_all.predict_proba(X_test)[:, 1]\n",
    "submission.to_csv(f'./outputs/LGB_{today}_{score:.4f}.csv', index=False)\n",
    "#submission.to_csv(f'./outputs/LGB_{today}_{score:.4f}_smirnov05.csv', index=False)"
   ]
  },
  {
   "cell_type": "code",
   "execution_count": 105,
   "metadata": {},
   "outputs": [],
   "source": [
    "sub1 = pd.read_csv('./outputs/LGB_2019-09-08_0.9161.csv')\n",
    "submission_ensemble = sample_sub.copy()\n",
    "fraud = (submission['isFraud'] + sub1['isFraud']) / 2\n",
    "submission_ensemble['isFraud'] = fraud\n",
    "submission_ensemble.to_csv(f'./outputs/LGB_ensemble_{today}.csv', index=False)"
   ]
  },
  {
   "cell_type": "code",
   "execution_count": null,
   "metadata": {},
   "outputs": [],
   "source": []
  },
  {
   "cell_type": "code",
   "execution_count": null,
   "metadata": {},
   "outputs": [],
   "source": []
  },
  {
   "cell_type": "code",
   "execution_count": null,
   "metadata": {},
   "outputs": [],
   "source": []
  }
 ],
 "metadata": {
  "kernelspec": {
   "display_name": "Environment (conda_py3.6)",
   "language": "python",
   "name": "conda_py3.6"
  },
  "language_info": {
   "codemirror_mode": {
    "name": "ipython",
    "version": 3
   },
   "file_extension": ".py",
   "mimetype": "text/x-python",
   "name": "python",
   "nbconvert_exporter": "python",
   "pygments_lexer": "ipython3",
   "version": "3.6.7"
  }
 },
 "nbformat": 4,
 "nbformat_minor": 2
}
