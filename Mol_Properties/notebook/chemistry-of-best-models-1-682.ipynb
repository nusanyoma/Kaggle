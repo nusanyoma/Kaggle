{
 "cells": [
  {
   "cell_type": "markdown",
   "metadata": {},
   "source": [
    "## Stacking the Best Models\n",
    "<pre><b>\n",
    "This Kernel shows how the scores can be improved using Stacking Method.\n",
    "Credit Goes to the following kernels\n",
    "ref:\n",
    "1. https://www.kaggle.com/criskiev/distance-is-all-you-need-lb-1-481\n",
    "2. https://www.kaggle.com/marcelotamashiro/lgb-public-kernels-plus-more-features\n",
    "3. https://www.kaggle.com/scaomath/no-memory-reduction-workflow-for-each-type-lb-1-28\n",
    "4. https://www.kaggle.com/fnands/1-mpnn\n",
    "</b></pre>"
   ]
  },
  {
   "cell_type": "markdown",
   "metadata": {},
   "source": [
    "## Stat Stack"
   ]
  },
  {
   "cell_type": "code",
   "execution_count": 153,
   "metadata": {
    "_cell_guid": "b1076dfc-b9ad-4769-8c92-a6c4dae69d19",
    "_uuid": "8f2839f25d086af736a60e9eeb907d3b93b6e0e5"
   },
   "outputs": [],
   "source": [
    "import os\n",
    "import numpy as np \n",
    "import pandas as pd \n",
    "import matplotlib.pyplot as plt\n",
    "import seaborn as sns\n",
    "%matplotlib inline\n",
    "# from subprocess import check_output\n",
    "# print(check_output([\"ls\", \"../input\"]).decode(\"utf8\"))"
   ]
  },
  {
   "cell_type": "code",
   "execution_count": 285,
   "metadata": {},
   "outputs": [
    {
     "data": {
      "text/plain": [
       "['submission-1.581.csv',\n",
       " '.DS_Store',\n",
       " 'submission-1.619.csv',\n",
       " 'submission-1.618.csv',\n",
       " 'submission-1.327.csv',\n",
       " 'submission-1.681.csv',\n",
       " 'submission-1.484.csv',\n",
       " 'submission_keras.csv',\n",
       " 'submission-1.281.csv',\n",
       " 'submission-1.674.csv',\n",
       " 'LGB_2019-08-26_-1.3073.csv',\n",
       " 'submission_NN.csv']"
      ]
     },
     "execution_count": 285,
     "metadata": {},
     "output_type": "execute_result"
    }
   ],
   "source": [
    "sub_path = \"chemistry-models\"\n",
    "all_files = os.listdir(sub_path)\n",
    "all_files"
   ]
  },
  {
   "cell_type": "code",
   "execution_count": 286,
   "metadata": {
    "_cell_guid": "79c7e3d0-c299-4dcb-8224-4455121ee9b0",
    "_uuid": "d629ff2d2480ee46fbb7e2d37f6b5fab8052498a"
   },
   "outputs": [],
   "source": [
    "import warnings\n",
    "warnings.filterwarnings(\"ignore\")\n",
    "outs = [pd.read_csv(os.path.join(sub_path, f), index_col=0) for f in all_files]\n",
    "concat_sub = pd.concat(outs, axis=1)\n",
    "cols = list(map(lambda x: \"mol\" + str(x), range(len(concat_sub.columns))))\n",
    "concat_sub.columns = cols\n",
    "concat_sub.reset_index(inplace=True)\n",
    "concat_sub.head()\n",
    "ncol = concat_sub.shape[1]"
   ]
  },
  {
   "cell_type": "code",
   "execution_count": 287,
   "metadata": {},
   "outputs": [
    {
     "data": {
      "text/html": [
       "<div>\n",
       "<style scoped>\n",
       "    .dataframe tbody tr th:only-of-type {\n",
       "        vertical-align: middle;\n",
       "    }\n",
       "\n",
       "    .dataframe tbody tr th {\n",
       "        vertical-align: top;\n",
       "    }\n",
       "\n",
       "    .dataframe thead th {\n",
       "        text-align: right;\n",
       "    }\n",
       "</style>\n",
       "<table border=\"1\" class=\"dataframe\">\n",
       "  <thead>\n",
       "    <tr style=\"text-align: right;\">\n",
       "      <th></th>\n",
       "      <th>mol0</th>\n",
       "      <th>mol1</th>\n",
       "      <th>mol2</th>\n",
       "      <th>mol3</th>\n",
       "      <th>mol4</th>\n",
       "      <th>mol5</th>\n",
       "      <th>mol6</th>\n",
       "      <th>mol7</th>\n",
       "      <th>mol8</th>\n",
       "      <th>mol9</th>\n",
       "      <th>mol10</th>\n",
       "    </tr>\n",
       "  </thead>\n",
       "  <tbody>\n",
       "    <tr>\n",
       "      <th>mol0</th>\n",
       "      <td>1.000000</td>\n",
       "      <td>0.999842</td>\n",
       "      <td>0.999884</td>\n",
       "      <td>0.999865</td>\n",
       "      <td>0.999851</td>\n",
       "      <td>0.999841</td>\n",
       "      <td>0.983448</td>\n",
       "      <td>0.999875</td>\n",
       "      <td>0.991888</td>\n",
       "      <td>0.999941</td>\n",
       "      <td>0.999866</td>\n",
       "    </tr>\n",
       "    <tr>\n",
       "      <th>mol1</th>\n",
       "      <td>0.999842</td>\n",
       "      <td>1.000000</td>\n",
       "      <td>0.999893</td>\n",
       "      <td>0.999805</td>\n",
       "      <td>0.999931</td>\n",
       "      <td>0.999854</td>\n",
       "      <td>0.983536</td>\n",
       "      <td>0.999806</td>\n",
       "      <td>0.991967</td>\n",
       "      <td>0.999811</td>\n",
       "      <td>0.999944</td>\n",
       "    </tr>\n",
       "    <tr>\n",
       "      <th>mol2</th>\n",
       "      <td>0.999884</td>\n",
       "      <td>0.999893</td>\n",
       "      <td>1.000000</td>\n",
       "      <td>0.999845</td>\n",
       "      <td>0.999899</td>\n",
       "      <td>0.999939</td>\n",
       "      <td>0.983502</td>\n",
       "      <td>0.999845</td>\n",
       "      <td>0.991931</td>\n",
       "      <td>0.999854</td>\n",
       "      <td>0.999914</td>\n",
       "    </tr>\n",
       "    <tr>\n",
       "      <th>mol3</th>\n",
       "      <td>0.999865</td>\n",
       "      <td>0.999805</td>\n",
       "      <td>0.999845</td>\n",
       "      <td>1.000000</td>\n",
       "      <td>0.999817</td>\n",
       "      <td>0.999804</td>\n",
       "      <td>0.983412</td>\n",
       "      <td>0.999882</td>\n",
       "      <td>0.991853</td>\n",
       "      <td>0.999847</td>\n",
       "      <td>0.999826</td>\n",
       "    </tr>\n",
       "    <tr>\n",
       "      <th>mol4</th>\n",
       "      <td>0.999851</td>\n",
       "      <td>0.999931</td>\n",
       "      <td>0.999899</td>\n",
       "      <td>0.999817</td>\n",
       "      <td>1.000000</td>\n",
       "      <td>0.999859</td>\n",
       "      <td>0.982639</td>\n",
       "      <td>0.999817</td>\n",
       "      <td>0.992624</td>\n",
       "      <td>0.999821</td>\n",
       "      <td>0.999944</td>\n",
       "    </tr>\n",
       "    <tr>\n",
       "      <th>mol5</th>\n",
       "      <td>0.999841</td>\n",
       "      <td>0.999854</td>\n",
       "      <td>0.999939</td>\n",
       "      <td>0.999804</td>\n",
       "      <td>0.999859</td>\n",
       "      <td>1.000000</td>\n",
       "      <td>0.983470</td>\n",
       "      <td>0.999804</td>\n",
       "      <td>0.991887</td>\n",
       "      <td>0.999812</td>\n",
       "      <td>0.999874</td>\n",
       "    </tr>\n",
       "    <tr>\n",
       "      <th>mol6</th>\n",
       "      <td>0.983448</td>\n",
       "      <td>0.983536</td>\n",
       "      <td>0.983502</td>\n",
       "      <td>0.983412</td>\n",
       "      <td>0.982639</td>\n",
       "      <td>0.983470</td>\n",
       "      <td>1.000000</td>\n",
       "      <td>0.983421</td>\n",
       "      <td>0.953004</td>\n",
       "      <td>0.983420</td>\n",
       "      <td>0.983553</td>\n",
       "    </tr>\n",
       "    <tr>\n",
       "      <th>mol7</th>\n",
       "      <td>0.999875</td>\n",
       "      <td>0.999806</td>\n",
       "      <td>0.999845</td>\n",
       "      <td>0.999882</td>\n",
       "      <td>0.999817</td>\n",
       "      <td>0.999804</td>\n",
       "      <td>0.983421</td>\n",
       "      <td>1.000000</td>\n",
       "      <td>0.991848</td>\n",
       "      <td>0.999850</td>\n",
       "      <td>0.999830</td>\n",
       "    </tr>\n",
       "    <tr>\n",
       "      <th>mol8</th>\n",
       "      <td>0.991888</td>\n",
       "      <td>0.991967</td>\n",
       "      <td>0.991931</td>\n",
       "      <td>0.991853</td>\n",
       "      <td>0.992624</td>\n",
       "      <td>0.991887</td>\n",
       "      <td>0.953004</td>\n",
       "      <td>0.991848</td>\n",
       "      <td>1.000000</td>\n",
       "      <td>0.991855</td>\n",
       "      <td>0.991974</td>\n",
       "    </tr>\n",
       "    <tr>\n",
       "      <th>mol9</th>\n",
       "      <td>0.999941</td>\n",
       "      <td>0.999811</td>\n",
       "      <td>0.999854</td>\n",
       "      <td>0.999847</td>\n",
       "      <td>0.999821</td>\n",
       "      <td>0.999812</td>\n",
       "      <td>0.983420</td>\n",
       "      <td>0.999850</td>\n",
       "      <td>0.991855</td>\n",
       "      <td>1.000000</td>\n",
       "      <td>0.999834</td>\n",
       "    </tr>\n",
       "    <tr>\n",
       "      <th>mol10</th>\n",
       "      <td>0.999866</td>\n",
       "      <td>0.999944</td>\n",
       "      <td>0.999914</td>\n",
       "      <td>0.999826</td>\n",
       "      <td>0.999944</td>\n",
       "      <td>0.999874</td>\n",
       "      <td>0.983553</td>\n",
       "      <td>0.999830</td>\n",
       "      <td>0.991974</td>\n",
       "      <td>0.999834</td>\n",
       "      <td>1.000000</td>\n",
       "    </tr>\n",
       "  </tbody>\n",
       "</table>\n",
       "</div>"
      ],
      "text/plain": [
       "           mol0      mol1      mol2      mol3      mol4      mol5      mol6  \\\n",
       "mol0   1.000000  0.999842  0.999884  0.999865  0.999851  0.999841  0.983448   \n",
       "mol1   0.999842  1.000000  0.999893  0.999805  0.999931  0.999854  0.983536   \n",
       "mol2   0.999884  0.999893  1.000000  0.999845  0.999899  0.999939  0.983502   \n",
       "mol3   0.999865  0.999805  0.999845  1.000000  0.999817  0.999804  0.983412   \n",
       "mol4   0.999851  0.999931  0.999899  0.999817  1.000000  0.999859  0.982639   \n",
       "mol5   0.999841  0.999854  0.999939  0.999804  0.999859  1.000000  0.983470   \n",
       "mol6   0.983448  0.983536  0.983502  0.983412  0.982639  0.983470  1.000000   \n",
       "mol7   0.999875  0.999806  0.999845  0.999882  0.999817  0.999804  0.983421   \n",
       "mol8   0.991888  0.991967  0.991931  0.991853  0.992624  0.991887  0.953004   \n",
       "mol9   0.999941  0.999811  0.999854  0.999847  0.999821  0.999812  0.983420   \n",
       "mol10  0.999866  0.999944  0.999914  0.999826  0.999944  0.999874  0.983553   \n",
       "\n",
       "           mol7      mol8      mol9     mol10  \n",
       "mol0   0.999875  0.991888  0.999941  0.999866  \n",
       "mol1   0.999806  0.991967  0.999811  0.999944  \n",
       "mol2   0.999845  0.991931  0.999854  0.999914  \n",
       "mol3   0.999882  0.991853  0.999847  0.999826  \n",
       "mol4   0.999817  0.992624  0.999821  0.999944  \n",
       "mol5   0.999804  0.991887  0.999812  0.999874  \n",
       "mol6   0.983421  0.953004  0.983420  0.983553  \n",
       "mol7   1.000000  0.991848  0.999850  0.999830  \n",
       "mol8   0.991848  1.000000  0.991855  0.991974  \n",
       "mol9   0.999850  0.991855  1.000000  0.999834  \n",
       "mol10  0.999830  0.991974  0.999834  1.000000  "
      ]
     },
     "execution_count": 287,
     "metadata": {},
     "output_type": "execute_result"
    }
   ],
   "source": [
    "# check correlation\n",
    "concat_sub.iloc[:,1:ncol].corr()"
   ]
  },
  {
   "cell_type": "code",
   "execution_count": 288,
   "metadata": {},
   "outputs": [
    {
     "data": {
      "text/plain": [
       "<matplotlib.axes._subplots.AxesSubplot at 0x1a0f8d4278>"
      ]
     },
     "execution_count": 288,
     "metadata": {},
     "output_type": "execute_result"
    },
    {
     "data": {
      "image/png": "[encoded data removed]",
      "text/plain": [
       "<Figure size 792x648 with 2 Axes>"
      ]
     },
     "metadata": {
      "needs_background": "light"
     },
     "output_type": "display_data"
    }
   ],
   "source": [
    "corr = concat_sub.iloc[:,1:7].corr()\n",
    "mask = np.zeros_like(corr, dtype=np.bool)\n",
    "mask[np.triu_indices_from(mask)] = True\n",
    "\n",
    "# Set up the matplotlib figure\n",
    "f, ax = plt.subplots(figsize=(11, 9))\n",
    "\n",
    "# Generate a custom diverging colormap\n",
    "cmap = sns.diverging_palette(220, 10, as_cmap=True)\n",
    "\n",
    "# Draw the heatmap with the mask and correct aspect ratio\n",
    "sns.heatmap(corr, mask=mask, cmap=cmap, vmax=.3, center=0,\n",
    "            square=True, linewidths=.5, cbar_kws={\"shrink\": .5})"
   ]
  },
  {
   "cell_type": "code",
   "execution_count": 289,
   "metadata": {},
   "outputs": [],
   "source": [
    "# get the data fields ready for stacking\n",
    "concat_sub['m_max'] = concat_sub.iloc[:, 1:ncol].max(axis=1)\n",
    "concat_sub['m_min'] = concat_sub.iloc[:, 1:ncol].min(axis=1)\n",
    "concat_sub['m_mean'] = concat_sub.iloc[:, 1:ncol].mean(axis=1)\n",
    "concat_sub['m_median'] = concat_sub.iloc[:, 1:ncol].median(axis=1)"
   ]
  },
  {
   "cell_type": "code",
   "execution_count": 176,
   "metadata": {},
   "outputs": [],
   "source": [
    "file_folder = 'champs-scalar-coupling' \n",
    "# '../input/champs-scalar-coupling'  (kaggle)\n",
    "train = pd.read_csv(f'{file_folder}/train.csv')\n",
    "test = pd.read_csv(f'{file_folder}/test.csv')\n",
    "sub = pd.read_csv(f'{file_folder}/sample_submission.csv')\n",
    "structures = pd.read_csv(f'{file_folder}/structures.csv')"
   ]
  },
  {
   "cell_type": "code",
   "execution_count": 177,
   "metadata": {},
   "outputs": [],
   "source": [
    "y = train['scalar_coupling_constant']\n",
    "train = train.drop(columns = ['scalar_coupling_constant'])"
   ]
  },
  {
   "cell_type": "code",
   "execution_count": null,
   "metadata": {},
   "outputs": [],
   "source": [
    "from sklearn.linear_model import LassoCV\n"
   ]
  },
  {
   "cell_type": "code",
   "execution_count": 253,
   "metadata": {},
   "outputs": [
    {
     "data": {
      "text/html": [
       "<div>\n",
       "<style scoped>\n",
       "    .dataframe tbody tr th:only-of-type {\n",
       "        vertical-align: middle;\n",
       "    }\n",
       "\n",
       "    .dataframe tbody tr th {\n",
       "        vertical-align: top;\n",
       "    }\n",
       "\n",
       "    .dataframe thead th {\n",
       "        text-align: right;\n",
       "    }\n",
       "</style>\n",
       "<table border=\"1\" class=\"dataframe\">\n",
       "  <thead>\n",
       "    <tr style=\"text-align: right;\">\n",
       "      <th></th>\n",
       "      <th>id</th>\n",
       "      <th>mol0</th>\n",
       "      <th>mol1</th>\n",
       "      <th>mol2</th>\n",
       "      <th>mol3</th>\n",
       "      <th>mol4</th>\n",
       "      <th>mol5</th>\n",
       "      <th>mol6</th>\n",
       "      <th>mol7</th>\n",
       "      <th>mol8</th>\n",
       "      <th>mol9</th>\n",
       "      <th>mol10</th>\n",
       "      <th>mol11</th>\n",
       "      <th>mol12</th>\n",
       "      <th>m_max</th>\n",
       "      <th>m_min</th>\n",
       "      <th>m_mean</th>\n",
       "      <th>m_median</th>\n",
       "    </tr>\n",
       "  </thead>\n",
       "  <tbody>\n",
       "    <tr>\n",
       "      <th>count</th>\n",
       "      <td>2.505542e+06</td>\n",
       "      <td>2.505542e+06</td>\n",
       "      <td>2.505542e+06</td>\n",
       "      <td>2.505542e+06</td>\n",
       "      <td>2.505542e+06</td>\n",
       "      <td>2.505542e+06</td>\n",
       "      <td>2.505542e+06</td>\n",
       "      <td>2.505542e+06</td>\n",
       "      <td>2.505542e+06</td>\n",
       "      <td>2.505542e+06</td>\n",
       "      <td>2.505542e+06</td>\n",
       "      <td>2.505542e+06</td>\n",
       "      <td>2.505542e+06</td>\n",
       "      <td>2.505542e+06</td>\n",
       "      <td>2.505542e+06</td>\n",
       "      <td>2.505542e+06</td>\n",
       "      <td>2.505542e+06</td>\n",
       "      <td>2.505542e+06</td>\n",
       "    </tr>\n",
       "    <tr>\n",
       "      <th>mean</th>\n",
       "      <td>5.910918e+06</td>\n",
       "      <td>1.588545e+01</td>\n",
       "      <td>1.588928e+01</td>\n",
       "      <td>1.587951e+01</td>\n",
       "      <td>1.592437e+01</td>\n",
       "      <td>1.588214e+01</td>\n",
       "      <td>1.588607e+01</td>\n",
       "      <td>1.587690e+01</td>\n",
       "      <td>1.584992e+01</td>\n",
       "      <td>1.588460e+01</td>\n",
       "      <td>1.588733e+01</td>\n",
       "      <td>1.588603e+01</td>\n",
       "      <td>1.587349e+01</td>\n",
       "      <td>1.588320e+01</td>\n",
       "      <td>1.655972e+01</td>\n",
       "      <td>1.522090e+01</td>\n",
       "      <td>1.588372e+01</td>\n",
       "      <td>1.588128e+01</td>\n",
       "    </tr>\n",
       "    <tr>\n",
       "      <th>std</th>\n",
       "      <td>7.232878e+05</td>\n",
       "      <td>3.485832e+01</td>\n",
       "      <td>3.483609e+01</td>\n",
       "      <td>3.485677e+01</td>\n",
       "      <td>3.493039e+01</td>\n",
       "      <td>3.486111e+01</td>\n",
       "      <td>3.486529e+01</td>\n",
       "      <td>3.544416e+01</td>\n",
       "      <td>3.491821e+01</td>\n",
       "      <td>3.513931e+01</td>\n",
       "      <td>3.485936e+01</td>\n",
       "      <td>3.486278e+01</td>\n",
       "      <td>3.482888e+01</td>\n",
       "      <td>3.485671e+01</td>\n",
       "      <td>3.549276e+01</td>\n",
       "      <td>3.508142e+01</td>\n",
       "      <td>3.486203e+01</td>\n",
       "      <td>3.486448e+01</td>\n",
       "    </tr>\n",
       "    <tr>\n",
       "      <th>min</th>\n",
       "      <td>4.658147e+06</td>\n",
       "      <td>-3.123325e+01</td>\n",
       "      <td>-3.062161e+01</td>\n",
       "      <td>-3.706147e+01</td>\n",
       "      <td>-2.474941e+01</td>\n",
       "      <td>-3.309956e+01</td>\n",
       "      <td>-3.378963e+01</td>\n",
       "      <td>-1.011903e+04</td>\n",
       "      <td>-2.480539e+01</td>\n",
       "      <td>-3.315324e+01</td>\n",
       "      <td>-3.101862e+01</td>\n",
       "      <td>-3.259560e+01</td>\n",
       "      <td>-3.230405e+01</td>\n",
       "      <td>-3.299384e+01</td>\n",
       "      <td>-2.328606e+01</td>\n",
       "      <td>-1.011903e+04</td>\n",
       "      <td>-2.150830e+02</td>\n",
       "      <td>-3.134178e+01</td>\n",
       "    </tr>\n",
       "    <tr>\n",
       "      <th>25%</th>\n",
       "      <td>5.284532e+06</td>\n",
       "      <td>-2.119182e-01</td>\n",
       "      <td>-1.806424e-01</td>\n",
       "      <td>-2.484849e-01</td>\n",
       "      <td>-2.278156e-01</td>\n",
       "      <td>-2.461876e-01</td>\n",
       "      <td>-2.601339e-01</td>\n",
       "      <td>-2.468897e-01</td>\n",
       "      <td>-2.855237e-01</td>\n",
       "      <td>-2.453283e-01</td>\n",
       "      <td>-2.162788e-01</td>\n",
       "      <td>-2.430994e-01</td>\n",
       "      <td>-2.472747e-01</td>\n",
       "      <td>-2.502056e-01</td>\n",
       "      <td>1.842621e-01</td>\n",
       "      <td>-6.220917e-01</td>\n",
       "      <td>-2.132179e-01</td>\n",
       "      <td>-2.345701e-01</td>\n",
       "    </tr>\n",
       "    <tr>\n",
       "      <th>50%</th>\n",
       "      <td>5.910918e+06</td>\n",
       "      <td>2.291562e+00</td>\n",
       "      <td>2.340105e+00</td>\n",
       "      <td>2.279487e+00</td>\n",
       "      <td>2.290658e+00</td>\n",
       "      <td>2.278162e+00</td>\n",
       "      <td>2.285192e+00</td>\n",
       "      <td>2.276373e+00</td>\n",
       "      <td>2.208885e+00</td>\n",
       "      <td>2.281530e+00</td>\n",
       "      <td>2.304652e+00</td>\n",
       "      <td>2.280423e+00</td>\n",
       "      <td>2.277905e+00</td>\n",
       "      <td>2.282187e+00</td>\n",
       "      <td>2.804667e+00</td>\n",
       "      <td>1.815201e+00</td>\n",
       "      <td>2.276537e+00</td>\n",
       "      <td>2.274283e+00</td>\n",
       "    </tr>\n",
       "    <tr>\n",
       "      <th>75%</th>\n",
       "      <td>6.537303e+06</td>\n",
       "      <td>7.319373e+00</td>\n",
       "      <td>7.062823e+00</td>\n",
       "      <td>7.356561e+00</td>\n",
       "      <td>7.355250e+00</td>\n",
       "      <td>7.355285e+00</td>\n",
       "      <td>7.369593e+00</td>\n",
       "      <td>7.354875e+00</td>\n",
       "      <td>7.274941e+00</td>\n",
       "      <td>7.358020e+00</td>\n",
       "      <td>7.281288e+00</td>\n",
       "      <td>7.353614e+00</td>\n",
       "      <td>7.360947e+00</td>\n",
       "      <td>7.377225e+00</td>\n",
       "      <td>7.932935e+00</td>\n",
       "      <td>6.552587e+00</td>\n",
       "      <td>7.302185e+00</td>\n",
       "      <td>7.331245e+00</td>\n",
       "    </tr>\n",
       "    <tr>\n",
       "      <th>max</th>\n",
       "      <td>7.163688e+06</td>\n",
       "      <td>2.036968e+02</td>\n",
       "      <td>2.042145e+02</td>\n",
       "      <td>3.161125e+02</td>\n",
       "      <td>2.057290e+02</td>\n",
       "      <td>2.844774e+02</td>\n",
       "      <td>2.043752e+02</td>\n",
       "      <td>2.149311e+02</td>\n",
       "      <td>2.036779e+02</td>\n",
       "      <td>7.001663e+03</td>\n",
       "      <td>2.037030e+02</td>\n",
       "      <td>2.044570e+02</td>\n",
       "      <td>2.032168e+02</td>\n",
       "      <td>2.085859e+02</td>\n",
       "      <td>7.001663e+03</td>\n",
       "      <td>2.017822e+02</td>\n",
       "      <td>2.049032e+02</td>\n",
       "      <td>2.032168e+02</td>\n",
       "    </tr>\n",
       "  </tbody>\n",
       "</table>\n",
       "</div>"
      ],
      "text/plain": [
       "                 id          mol0          mol1          mol2          mol3  \\\n",
       "count  2.505542e+06  2.505542e+06  2.505542e+06  2.505542e+06  2.505542e+06   \n",
       "mean   5.910918e+06  1.588545e+01  1.588928e+01  1.587951e+01  1.592437e+01   \n",
       "std    7.232878e+05  3.485832e+01  3.483609e+01  3.485677e+01  3.493039e+01   \n",
       "min    4.658147e+06 -3.123325e+01 -3.062161e+01 -3.706147e+01 -2.474941e+01   \n",
       "25%    5.284532e+06 -2.119182e-01 -1.806424e-01 -2.484849e-01 -2.278156e-01   \n",
       "50%    5.910918e+06  2.291562e+00  2.340105e+00  2.279487e+00  2.290658e+00   \n",
       "75%    6.537303e+06  7.319373e+00  7.062823e+00  7.356561e+00  7.355250e+00   \n",
       "max    7.163688e+06  2.036968e+02  2.042145e+02  3.161125e+02  2.057290e+02   \n",
       "\n",
       "               mol4          mol5          mol6          mol7          mol8  \\\n",
       "count  2.505542e+06  2.505542e+06  2.505542e+06  2.505542e+06  2.505542e+06   \n",
       "mean   1.588214e+01  1.588607e+01  1.587690e+01  1.584992e+01  1.588460e+01   \n",
       "std    3.486111e+01  3.486529e+01  3.544416e+01  3.491821e+01  3.513931e+01   \n",
       "min   -3.309956e+01 -3.378963e+01 -1.011903e+04 -2.480539e+01 -3.315324e+01   \n",
       "25%   -2.461876e-01 -2.601339e-01 -2.468897e-01 -2.855237e-01 -2.453283e-01   \n",
       "50%    2.278162e+00  2.285192e+00  2.276373e+00  2.208885e+00  2.281530e+00   \n",
       "75%    7.355285e+00  7.369593e+00  7.354875e+00  7.274941e+00  7.358020e+00   \n",
       "max    2.844774e+02  2.043752e+02  2.149311e+02  2.036779e+02  7.001663e+03   \n",
       "\n",
       "               mol9         mol10         mol11         mol12         m_max  \\\n",
       "count  2.505542e+06  2.505542e+06  2.505542e+06  2.505542e+06  2.505542e+06   \n",
       "mean   1.588733e+01  1.588603e+01  1.587349e+01  1.588320e+01  1.655972e+01   \n",
       "std    3.485936e+01  3.486278e+01  3.482888e+01  3.485671e+01  3.549276e+01   \n",
       "min   -3.101862e+01 -3.259560e+01 -3.230405e+01 -3.299384e+01 -2.328606e+01   \n",
       "25%   -2.162788e-01 -2.430994e-01 -2.472747e-01 -2.502056e-01  1.842621e-01   \n",
       "50%    2.304652e+00  2.280423e+00  2.277905e+00  2.282187e+00  2.804667e+00   \n",
       "75%    7.281288e+00  7.353614e+00  7.360947e+00  7.377225e+00  7.932935e+00   \n",
       "max    2.037030e+02  2.044570e+02  2.032168e+02  2.085859e+02  7.001663e+03   \n",
       "\n",
       "              m_min        m_mean      m_median  \n",
       "count  2.505542e+06  2.505542e+06  2.505542e+06  \n",
       "mean   1.522090e+01  1.588372e+01  1.588128e+01  \n",
       "std    3.508142e+01  3.486203e+01  3.486448e+01  \n",
       "min   -1.011903e+04 -2.150830e+02 -3.134178e+01  \n",
       "25%   -6.220917e-01 -2.132179e-01 -2.345701e-01  \n",
       "50%    1.815201e+00  2.276537e+00  2.274283e+00  \n",
       "75%    6.552587e+00  7.302185e+00  7.331245e+00  \n",
       "max    2.017822e+02  2.049032e+02  2.032168e+02  "
      ]
     },
     "execution_count": 253,
     "metadata": {},
     "output_type": "execute_result"
    }
   ],
   "source": [
    "concat_sub.describe()"
   ]
  },
  {
   "cell_type": "code",
   "execution_count": 169,
   "metadata": {},
   "outputs": [],
   "source": [
    "cutoff_lo = 0.8\n",
    "cutoff_hi = 0.2"
   ]
  },
  {
   "cell_type": "markdown",
   "metadata": {},
   "source": [
    "# Mean Stacking"
   ]
  },
  {
   "cell_type": "code",
   "execution_count": 170,
   "metadata": {},
   "outputs": [],
   "source": [
    "concat_sub['scalar_coupling_constant'] = concat_sub['m_mean']\n",
    "concat_sub[['id', 'scalar_coupling_constant']].to_csv('stack_mean.csv', \n",
    "                                        index=False, float_format='%.6f')"
   ]
  },
  {
   "cell_type": "markdown",
   "metadata": {},
   "source": [
    "# Median Stacking"
   ]
  },
  {
   "cell_type": "code",
   "execution_count": 290,
   "metadata": {},
   "outputs": [],
   "source": [
    "concat_sub['scalar_coupling_constant'] = concat_sub['m_median']\n",
    "concat_sub[['id', 'scalar_coupling_constant']].to_csv('stack_median.csv', \n",
    "                                        index=False, float_format='%.6f')"
   ]
  },
  {
   "cell_type": "code",
   "execution_count": 185,
   "metadata": {},
   "outputs": [
    {
     "data": {
      "text/plain": [
       "['stack_median2.csv', '.DS_Store', 'stack_median3.csv', 'stack_median.csv']"
      ]
     },
     "execution_count": 185,
     "metadata": {},
     "output_type": "execute_result"
    }
   ],
   "source": [
    "sub_path2 = \"median_model\"\n",
    "all_files_median = os.listdir(sub_path2)\n",
    "all_files_median"
   ]
  },
  {
   "cell_type": "code",
   "execution_count": 186,
   "metadata": {},
   "outputs": [],
   "source": [
    "outs_median = [pd.read_csv(os.path.join(sub_path2, f), index_col=0) for f in all_files_median]\n",
    "concat_sub_median = pd.concat(outs_median, axis=1)\n",
    "cols_median = list(map(lambda x: \"mol\" + str(x), range(len(concat_sub_median.columns))))\n",
    "concat_sub_median.columns = cols_median\n",
    "concat_sub_median.reset_index(inplace=True)\n",
    "concat_sub_median.head()\n",
    "ncol_median = concat_sub_median.shape[1]"
   ]
  },
  {
   "cell_type": "code",
   "execution_count": 187,
   "metadata": {},
   "outputs": [],
   "source": [
    "concat_sub_median['m_mean'] = concat_sub_median.iloc[:, 1:ncol_median].mean(axis=1)\n",
    "concat_sub_median['m_median'] = concat_sub_median.iloc[:, 1:ncol_median].median(axis=1)"
   ]
  },
  {
   "cell_type": "code",
   "execution_count": 188,
   "metadata": {},
   "outputs": [],
   "source": [
    "concat_sub_median['scalar_coupling_constant'] = concat_sub_median['m_mean']\n",
    "concat_sub_median[['id', 'scalar_coupling_constant']].to_csv('stack_mean_m.csv', \n",
    "                                        index=False, float_format='%.6f')"
   ]
  },
  {
   "cell_type": "code",
   "execution_count": 196,
   "metadata": {},
   "outputs": [],
   "source": [
    "concat_sub_median['scalar_coupling_constant'] = concat_sub_median['m_median']\n",
    "concat_sub_median[['id', 'scalar_coupling_constant']].to_csv('stack_median_m.csv', \n",
    "                                        index=False, float_format='%.6f')"
   ]
  },
  {
   "cell_type": "markdown",
   "metadata": {},
   "source": [
    "# Pushout + Median Stacking\n",
    ">* Pushout strategy is bit aggresive"
   ]
  },
  {
   "cell_type": "code",
   "execution_count": 140,
   "metadata": {},
   "outputs": [],
   "source": [
    "concat_sub['scalar_coupling_constant'] = np.where(np.all(concat_sub.iloc[:,1:ncol] > cutoff_lo, axis=1), 1, \n",
    "                                    np.where(np.all(concat_sub.iloc[:,1:ncol] < cutoff_hi, axis=1),\n",
    "                                             0, concat_sub['m_median']))\n",
    "concat_sub[['id', 'scalar_coupling_constant']].to_csv('stack_pushout_median.csv', \n",
    "                                        index=False, float_format='%.6f')"
   ]
  },
  {
   "cell_type": "markdown",
   "metadata": {},
   "source": [
    "# MinMax + Mean Stacking\n",
    ">* MinMax seems more gentle and it outperforms the previous one"
   ]
  },
  {
   "cell_type": "code",
   "execution_count": 141,
   "metadata": {},
   "outputs": [],
   "source": [
    "concat_sub['scalar_coupling_constant'] = np.where(np.all(concat_sub.iloc[:,1:ncol] > cutoff_lo, axis=1), \n",
    "                                    concat_sub['m_max'], \n",
    "                                    np.where(np.all(concat_sub.iloc[:,1:ncol] < cutoff_hi, axis=1),\n",
    "                                             concat_sub['m_min'], \n",
    "                                             concat_sub['m_mean']))\n",
    "concat_sub[['id', 'scalar_coupling_constant']].to_csv('stack_minmax_mean.csv', \n",
    "                                        index=False, float_format='%.6f')"
   ]
  },
  {
   "cell_type": "markdown",
   "metadata": {},
   "source": [
    "# MinMax + Median Stacking"
   ]
  },
  {
   "cell_type": "code",
   "execution_count": 142,
   "metadata": {},
   "outputs": [],
   "source": [
    "concat_sub['scalar_coupling_constant'] = np.where(np.all(concat_sub.iloc[:,1:ncol] > cutoff_lo, axis=1), \n",
    "                                    concat_sub['m_max'], \n",
    "                                    np.where(np.all(concat_sub.iloc[:,1:ncol] < cutoff_hi, axis=1),\n",
    "                                             concat_sub['m_min'], \n",
    "                                             concat_sub['m_median']))\n",
    "concat_sub[['id', 'scalar_coupling_constant']].to_csv('stack_minmax_median.csv', \n",
    "                                        index=False, float_format='%.6f')"
   ]
  },
  {
   "cell_type": "markdown",
   "metadata": {},
   "source": [
    "## Averaging Ranks"
   ]
  },
  {
   "cell_type": "code",
   "execution_count": 143,
   "metadata": {},
   "outputs": [],
   "source": [
    "concat_sub['scalar_coupling_constant'] = concat_sub['mol0'].rank(method ='min') + concat_sub['mol1'].rank(method ='min') + concat_sub['mol2'].rank(method ='min') \n",
    "concat_sub['scalar_coupling_constant'] = (concat_sub['scalar_coupling_constant']-concat_sub['scalar_coupling_constant'].min())/(concat_sub['scalar_coupling_constant'].max() - concat_sub['scalar_coupling_constant'].min())\n",
    "concat_sub.describe()\n",
    "concat_sub[['id', 'scalar_coupling_constant']].to_csv('stack_rank.csv', index=False, float_format='%.8f')"
   ]
  },
  {
   "cell_type": "markdown",
   "metadata": {},
   "source": [
    "Best Results : Stack Median"
   ]
  },
  {
   "cell_type": "markdown",
   "metadata": {},
   "source": [
    "# Blending Approach"
   ]
  },
  {
   "cell_type": "code",
   "execution_count": 144,
   "metadata": {},
   "outputs": [],
   "source": [
    "one = pd.read_csv('chemistry-models/submission-1.672.csv')\n",
    "two = pd.read_csv('chemistry-models/submission-1.674.csv')\n",
    "three = pd.read_csv('chemistry-models/submission-1.681.csv')\n",
    "\n",
    "submission = pd.DataFrame()\n",
    "submission['id'] = one.id\n",
    "submission['scalar_coupling_constant'] = (0.20*one.scalar_coupling_constant) + (0.35*two.scalar_coupling_constant) + (0.45*three.scalar_coupling_constant)\n",
    "\n",
    "submission.to_csv('Aggblender_3.csv', index=False)"
   ]
  },
  {
   "cell_type": "code",
   "execution_count": null,
   "metadata": {},
   "outputs": [],
   "source": []
  }
 ],
 "metadata": {
  "kernelspec": {
   "display_name": "Python 3",
   "language": "python",
   "name": "python3"
  },
  "language_info": {
   "codemirror_mode": {
    "name": "ipython",
    "version": 3
   },
   "file_extension": ".py",
   "mimetype": "text/x-python",
   "name": "python",
   "nbconvert_exporter": "python",
   "pygments_lexer": "ipython3",
   "version": "3.6.7"
  }
 },
 "nbformat": 4,
 "nbformat_minor": 1
}
