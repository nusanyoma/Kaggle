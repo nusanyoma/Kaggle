{
 "cells": [
  {
   "cell_type": "code",
   "execution_count": 1,
   "metadata": {},
   "outputs": [],
   "source": [
    "import numpy as np\n",
    "import matplotlib.pyplot as plt\n",
    "from mpl_toolkits.mplot3d import axis3d"
   ]
  },
  {
   "cell_type": "code",
   "execution_count": 2,
   "metadata": {},
   "outputs": [],
   "source": [
    "def my_plot(X1_train, X2_train, y_train, X1_out=None, X2_out=None, y_out=None):\n",
    "        fig = plt.figure()\n",
    "        ax = fig.add_subplot(111, projection='3d')\n",
    "        plt.rcParams['font.family'] = 'Arial'\n",
    "        plt.rcParams['mathtext.fontset'] = 'cm'\n",
    "        plt.rcParams['axes.linewidth'] = 1.0\n",
    "\n",
    "        ax.scatter(X1_train, X2_train, y_train, s=30, c='b', marker='o')\n",
    "        min_x1 = X1_train.min()\n",
    "        max_x1 = X1_train.max()\n",
    "        min_x2 = X2_train.min()\n",
    "        max_x2 = X2_train.max()\n",
    "        min_y = y_train.min()\n",
    "        max_y = y_train.max()\n",
    "\n",
    "        if X1_out is not None and X2_out is not None and y_out is not None:\n",
    "            ax.scatter(X1_out, X2_out, y_out, s=2, c='r', marker=',')\n",
    "            min_x1 = min(min_x1, X1_out.min())\n",
    "            max_x1 = max(max_x1, X1_out.max())\n",
    "            min_x2 = min(min_x2, X2_out.min())\n",
    "            max_x2 = max(max_x2, X2_out.max())\n",
    "            min_y = min(min_y, y_out.min())\n",
    "            max_y = max(max_y, y_out.max())\n",
    "\n",
    "        ax.set_xlim(min_x1 - 0.05 * (max_x1 - min_x1), max_x1 + 0.05 * (max_x1 - min_x1))\n",
    "        ax.set_ylim(min_x2 - 0.05 * (max_x2 - min_x2), max_x2 + 0.05 * (max_x2 - min_x2))\n",
    "        ax.set_zlim(min_y - 0.05 * (max_y - min_y), max_y + 0.05 * (max_y - min_y))\n",
    "\n",
    "        ax.set_xlabel(r\"$x_1$\")\n",
    "        ax.set_ylabel(r\"$x_2$\")\n",
    "        ax.set_zlabel(r\"$y$\")\n",
    "\n",
    "        plt.tight_layout()\n",
    "        plt.show()"
   ]
  },
  {
   "cell_type": "code",
   "execution_count": 4,
   "metadata": {},
   "outputs": [],
   "source": [
    "def f(X1, X2):\n",
    "        return X1 ** 2 + X2 ** 2\n",
    "\n",
    "x1_train_sphere = np.arange(-5, 5.2, 0.2)\n",
    "x2_train_sphere = np.arange(-5, 5.2, 0.2)\n",
    "\n",
    "X1_train_sphere, X2_train_sphere = np.meshgrid(x1_train_sphere, x2_train_sphere)\n",
    "y_train_sphere = f(X1_train_sphere, X2_train_sphere)\n",
    "np.random.seed(0)\n",
    "X1_train_sphere += np.random.randn(X1_train_sphere.shape[0], X1_train_sphere.shape[1]) * 0.1\n",
    "X2_train_sphere += np.random.randn(X2_train_sphere.shape[0], X2_train_sphere.shape[1]) * 0.1\n",
    "y_train_sphere += np.random.randn(y_train_sphere.shape[0]) * 0.5"
   ]
  },
  {
   "cell_type": "code",
   "execution_count": 35,
   "metadata": {},
   "outputs": [
    {
     "data": {
      "text/plain": [
       "array([[-5. , -5. ],\n",
       "       [-5. , -4.8],\n",
       "       [-5. , -4.6],\n",
       "       ...,\n",
       "       [ 5. ,  4.6],\n",
       "       [ 5. ,  4.8],\n",
       "       [ 5. ,  5. ]])"
      ]
     },
     "execution_count": 35,
     "metadata": {},
     "output_type": "execute_result"
    }
   ],
   "source": [
    "X_ = np.array([[X1, X2] for X1 in x1_train_sphere for X2 in x2_train_sphere])\n",
    "X_"
   ]
  },
  {
   "cell_type": "code",
   "execution_count": 17,
   "metadata": {},
   "outputs": [
    {
     "data": {
      "text/plain": [
       "(51, 51)"
      ]
     },
     "execution_count": 17,
     "metadata": {},
     "output_type": "execute_result"
    }
   ],
   "source": [
    "X1_train_sphere.shape"
   ]
  },
  {
   "cell_type": "code",
   "execution_count": null,
   "metadata": {},
   "outputs": [],
   "source": []
  }
 ],
 "metadata": {
  "kernelspec": {
   "display_name": "Environment (conda_py3.6)",
   "language": "python",
   "name": "conda_py3.6"
  },
  "language_info": {
   "codemirror_mode": {
    "name": "ipython",
    "version": 3
   },
   "file_extension": ".py",
   "mimetype": "text/x-python",
   "name": "python",
   "nbconvert_exporter": "python",
   "pygments_lexer": "ipython3",
   "version": "3.6.7"
  }
 },
 "nbformat": 4,
 "nbformat_minor": 2
}
