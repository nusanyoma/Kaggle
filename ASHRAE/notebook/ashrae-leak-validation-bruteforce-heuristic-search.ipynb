{
 "cells": [
  {
   "cell_type": "markdown",
   "metadata": {},
   "source": [
    "# Acknowledgements\n",
    "\n",
    "Original Kernel: https://www.kaggle.com/yamsam/ashrae-leak-validation-and-more/notebook#Leak-Validation-for-public-kernels(not-used-leak-data)\n",
    "\n",
    "Additions: Added a search method to find combination of weights with best score"
   ]
  },
  {
   "cell_type": "markdown",
   "metadata": {},
   "source": [
    "# All we need is Leak Validation(LV) ?\n",
    "\n",
    "* **if you like this kernel, please upvote original kernels.**\n",
    "* update site-4 and site-15"
   ]
  },
  {
   "cell_type": "markdown",
   "metadata": {},
   "source": [
    "this kernel is still work in progress, but i hope you can find something usefull from this."
   ]
  },
  {
   "cell_type": "code",
   "execution_count": 1,
   "metadata": {
    "_cell_guid": "79c7e3d0-c299-4dcb-8224-4455121ee9b0",
    "_uuid": "d629ff2d2480ee46fbb7e2d37f6b5fab8052498a"
   },
   "outputs": [
    {
     "data": {
      "text/html": [
       "        <script type=\"text/javascript\">\n",
       "        window.PlotlyConfig = {MathJaxConfig: 'local'};\n",
       "        if (window.MathJax) {MathJax.Hub.Config({SVG: {font: \"STIX-Web\"}});}\n",
       "        if (typeof require !== 'undefined') {\n",
       "        require.undef(\"plotly\");\n",
       "        requirejs.config({\n",
       "            paths: {\n",
       "                'plotly': ['https://cdn.plot.ly/plotly-latest.min']\n",
       "            }\n",
       "        });\n",
       "        require(['plotly'], function(Plotly) {\n",
       "            window._Plotly = Plotly;\n",
       "        });\n",
       "        }\n",
       "        </script>\n",
       "        "
      ]
     },
     "metadata": {},
     "output_type": "display_data"
    },
    {
     "name": "stderr",
     "output_type": "stream",
     "text": [
      "/Users/numatakouhei/opt/anaconda3/envs/py3.7/lib/python3.7/site-packages/lightgbm/__init__.py:48: UserWarning:\n",
      "\n",
      "Starting from version 2.2.1, the library file in distribution wheels for macOS is built by the Apple Clang (Xcode_8.3.3) compiler.\n",
      "This means that in case of installing LightGBM from PyPI via the ``pip install lightgbm`` command, you don't need to install the gcc compiler anymore.\n",
      "Instead of that, you need to install the OpenMP library, which is required for running LightGBM on the system with the Apple Clang compiler.\n",
      "You can install the OpenMP library by the following command: ``brew install libomp``.\n",
      "\n"
     ]
    }
   ],
   "source": [
    "import gc\n",
    "import os\n",
    "from pathlib import Path\n",
    "import random\n",
    "import sys\n",
    "import glob\n",
    "\n",
    "from tqdm import tqdm_notebook as tqdm\n",
    "import numpy as np # linear algebra\n",
    "import pandas as pd # data processing, CSV file I/O (e.g. pd.read_csv)\n",
    "\n",
    "import matplotlib.pyplot as plt\n",
    "import seaborn as sns\n",
    "\n",
    "from IPython.core.display import display, HTML\n",
    "\n",
    "# --- plotly ---\n",
    "from plotly import tools, subplots\n",
    "import plotly.offline as py\n",
    "py.init_notebook_mode(connected=True)\n",
    "import plotly.graph_objs as go\n",
    "import plotly.express as px\n",
    "import plotly.figure_factory as ff\n",
    "\n",
    "# --- models ---\n",
    "from sklearn import preprocessing\n",
    "from sklearn.model_selection import KFold\n",
    "import lightgbm as lgb\n",
    "\n",
    "from sklearn.metrics import mean_squared_error"
   ]
  },
  {
   "cell_type": "code",
   "execution_count": 2,
   "metadata": {},
   "outputs": [],
   "source": [
    "\n",
    "# Original code from https://www.kaggle.com/gemartin/load-data-reduce-memory-usage by @gemartin\n",
    "# Modified to support timestamp type, categorical type\n",
    "# Modified to add option to use float16 or not. feather format does not support float16.\n",
    "from pandas.api.types import is_datetime64_any_dtype as is_datetime\n",
    "from pandas.api.types import is_categorical_dtype\n",
    "\n",
    "def reduce_mem_usage(df, use_float16=False):\n",
    "    \"\"\" iterate through all the columns of a dataframe and modify the data type\n",
    "        to reduce memory usage.        \n",
    "    \"\"\"\n",
    "    start_mem = df.memory_usage().sum() / 1024**2\n",
    "    print('Memory usage of dataframe is {:.2f} MB'.format(start_mem))\n",
    "    \n",
    "    for col in df.columns:\n",
    "        if is_datetime(df[col]) or is_categorical_dtype(df[col]):\n",
    "            # skip datetime type or categorical type\n",
    "            continue\n",
    "        col_type = df[col].dtype\n",
    "        \n",
    "        if col_type != object:\n",
    "            c_min = df[col].min()\n",
    "            c_max = df[col].max()\n",
    "            if str(col_type)[:3] == 'int':\n",
    "                if c_min > np.iinfo(np.int8).min and c_max < np.iinfo(np.int8).max:\n",
    "                    df[col] = df[col].astype(np.int8)\n",
    "                elif c_min > np.iinfo(np.int16).min and c_max < np.iinfo(np.int16).max:\n",
    "                    df[col] = df[col].astype(np.int16)\n",
    "                elif c_min > np.iinfo(np.int32).min and c_max < np.iinfo(np.int32).max:\n",
    "                    df[col] = df[col].astype(np.int32)\n",
    "                elif c_min > np.iinfo(np.int64).min and c_max < np.iinfo(np.int64).max:\n",
    "                    df[col] = df[col].astype(np.int64)  \n",
    "            else:\n",
    "                if use_float16 and c_min > np.finfo(np.float16).min and c_max < np.finfo(np.float16).max:\n",
    "                    df[col] = df[col].astype(np.float16)\n",
    "                elif c_min > np.finfo(np.float32).min and c_max < np.finfo(np.float32).max:\n",
    "                    df[col] = df[col].astype(np.float32)\n",
    "                else:\n",
    "                    df[col] = df[col].astype(np.float64)\n",
    "        else:\n",
    "            df[col] = df[col].astype('category')\n",
    "\n",
    "    end_mem = df.memory_usage().sum() / 1024**2\n",
    "    print('Memory usage after optimization is: {:.2f} MB'.format(end_mem))\n",
    "    print('Decreased by {:.1f}%'.format(100 * (start_mem - end_mem) / start_mem))\n",
    "    \n",
    "    return df"
   ]
  },
  {
   "cell_type": "code",
   "execution_count": 118,
   "metadata": {},
   "outputs": [
    {
     "name": "stdout",
     "output_type": "stream",
     "text": [
      "CPU times: user 518 ms, sys: 1.95 s, total: 2.46 s\n",
      "Wall time: 3.28 s\n"
     ]
    }
   ],
   "source": [
    "%%time\n",
    "root = Path('./results')\n",
    "\n",
    "train_df = pd.read_feather(root/'train.feather')\n",
    "test_df = pd.read_feather(root/'test.feather')\n",
    "#weather_train_df = pd.read_feather(root/'weather_train.feather')\n",
    "#weather_test_df = pd.read_feather(root/'weather_test.feather')\n",
    "building_meta_df = pd.read_feather(root/'building_metadata.feather')"
   ]
  },
  {
   "cell_type": "code",
   "execution_count": 119,
   "metadata": {},
   "outputs": [],
   "source": [
    "# i'm now using my leak data station kernel to shortcut.\n",
    "leak_df = pd.read_feather('leak.feather')\n",
    "\n",
    "leak_df.fillna(0, inplace=True)\n",
    "leak_df = leak_df[(leak_df.timestamp.dt.year > 2016) & (leak_df.timestamp.dt.year < 2019)]\n",
    "leak_df.loc[leak_df.meter_reading < 0, 'meter_reading'] = 0 # remove large negative values\n",
    "leak_df = leak_df[leak_df.building_id!=245]"
   ]
  },
  {
   "cell_type": "code",
   "execution_count": 5,
   "metadata": {},
   "outputs": [
    {
     "data": {
      "text/plain": [
       "0.0    7512475\n",
       "1.0    2856222\n",
       "3.0     963600\n",
       "2.0     727682\n",
       "Name: meter, dtype: int64"
      ]
     },
     "execution_count": 5,
     "metadata": {},
     "output_type": "execute_result"
    }
   ],
   "source": [
    "leak_df.meter.value_counts()"
   ]
  },
  {
   "cell_type": "code",
   "execution_count": 48,
   "metadata": {},
   "outputs": [
    {
     "data": {
      "text/plain": [
       "155"
      ]
     },
     "execution_count": 48,
     "metadata": {},
     "output_type": "execute_result"
    }
   ],
   "source": [
    "del train_df\n",
    "gc.collect()"
   ]
  },
  {
   "cell_type": "code",
   "execution_count": 16,
   "metadata": {},
   "outputs": [
    {
     "data": {
      "text/plain": [
       "29637621"
      ]
     },
     "execution_count": 16,
     "metadata": {},
     "output_type": "execute_result"
    }
   ],
   "source": [
    "test_df.shape[0] - leak_df.shape[0]"
   ]
  },
  {
   "cell_type": "code",
   "execution_count": 19,
   "metadata": {},
   "outputs": [],
   "source": [
    "test_leak = pd.merge(test_df, leak_df, on=['building_id', 'meter', 'timestamp'], how='left', indicator=True)"
   ]
  },
  {
   "cell_type": "code",
   "execution_count": 20,
   "metadata": {},
   "outputs": [],
   "source": [
    "non_leak = test_leak[test_leak['_merge'] == 'left_only']"
   ]
  },
  {
   "cell_type": "code",
   "execution_count": 21,
   "metadata": {},
   "outputs": [
    {
     "data": {
      "text/html": [
       "<div>\n",
       "<style scoped>\n",
       "    .dataframe tbody tr th:only-of-type {\n",
       "        vertical-align: middle;\n",
       "    }\n",
       "\n",
       "    .dataframe tbody tr th {\n",
       "        vertical-align: top;\n",
       "    }\n",
       "\n",
       "    .dataframe thead th {\n",
       "        text-align: right;\n",
       "    }\n",
       "</style>\n",
       "<table border=\"1\" class=\"dataframe\">\n",
       "  <thead>\n",
       "    <tr style=\"text-align: right;\">\n",
       "      <th></th>\n",
       "      <th>row_id</th>\n",
       "      <th>building_id</th>\n",
       "      <th>meter</th>\n",
       "      <th>timestamp</th>\n",
       "      <th>meter_reading</th>\n",
       "      <th>_merge</th>\n",
       "    </tr>\n",
       "  </thead>\n",
       "  <tbody>\n",
       "    <tr>\n",
       "      <td>2260082</td>\n",
       "      <td>2260082</td>\n",
       "      <td>106</td>\n",
       "      <td>3</td>\n",
       "      <td>2017-01-01</td>\n",
       "      <td>NaN</td>\n",
       "      <td>left_only</td>\n",
       "    </tr>\n",
       "    <tr>\n",
       "      <td>2260086</td>\n",
       "      <td>2260086</td>\n",
       "      <td>109</td>\n",
       "      <td>3</td>\n",
       "      <td>2017-01-01</td>\n",
       "      <td>NaN</td>\n",
       "      <td>left_only</td>\n",
       "    </tr>\n",
       "    <tr>\n",
       "      <td>2260090</td>\n",
       "      <td>2260090</td>\n",
       "      <td>112</td>\n",
       "      <td>3</td>\n",
       "      <td>2017-01-01</td>\n",
       "      <td>NaN</td>\n",
       "      <td>left_only</td>\n",
       "    </tr>\n",
       "    <tr>\n",
       "      <td>2260092</td>\n",
       "      <td>2260092</td>\n",
       "      <td>113</td>\n",
       "      <td>3</td>\n",
       "      <td>2017-01-01</td>\n",
       "      <td>NaN</td>\n",
       "      <td>left_only</td>\n",
       "    </tr>\n",
       "    <tr>\n",
       "      <td>2260094</td>\n",
       "      <td>2260094</td>\n",
       "      <td>114</td>\n",
       "      <td>3</td>\n",
       "      <td>2017-01-01</td>\n",
       "      <td>NaN</td>\n",
       "      <td>left_only</td>\n",
       "    </tr>\n",
       "  </tbody>\n",
       "</table>\n",
       "</div>"
      ],
      "text/plain": [
       "          row_id  building_id  meter  timestamp  meter_reading     _merge\n",
       "2260082  2260082          106      3 2017-01-01            NaN  left_only\n",
       "2260086  2260086          109      3 2017-01-01            NaN  left_only\n",
       "2260090  2260090          112      3 2017-01-01            NaN  left_only\n",
       "2260092  2260092          113      3 2017-01-01            NaN  left_only\n",
       "2260094  2260094          114      3 2017-01-01            NaN  left_only"
      ]
     },
     "execution_count": 21,
     "metadata": {},
     "output_type": "execute_result"
    }
   ],
   "source": [
    "non_leak.head()"
   ]
  },
  {
   "cell_type": "code",
   "execution_count": 22,
   "metadata": {},
   "outputs": [
    {
     "data": {
      "text/plain": [
       "(29637621, 6)"
      ]
     },
     "execution_count": 22,
     "metadata": {},
     "output_type": "execute_result"
    }
   ],
   "source": [
    "non_leak.shape"
   ]
  },
  {
   "cell_type": "markdown",
   "metadata": {},
   "source": [
    "# Leak Validation for public kernels(not used leak data)"
   ]
  },
  {
   "cell_type": "code",
   "execution_count": 120,
   "metadata": {},
   "outputs": [
    {
     "data": {
      "text/plain": [
       "['./submission_Highway.csv',\n",
       " './submission_Half.csv',\n",
       " './submission_KFold.csv',\n",
       " './submission_ucf_replaced.csv']"
      ]
     },
     "execution_count": 120,
     "metadata": {},
     "output_type": "execute_result"
    }
   ],
   "source": [
    "all_files = glob.glob('./*.csv')\n",
    "all_files"
   ]
  },
  {
   "cell_type": "code",
   "execution_count": 121,
   "metadata": {},
   "outputs": [
    {
     "data": {
      "text/plain": [
       "['./prediction/submission_noleak_2019-12-17.csv',\n",
       " './prediction/submission_2019-12-18_4.csv',\n",
       " './prediction/submission_2019-12-18_5.csv',\n",
       " './prediction/submission_2019-12-18_1.csv',\n",
       " './prediction/submission_2019-12-19_TargetEnc_1.csv',\n",
       " './prediction/submission_2019-12-19_TargetEnc_3.csv',\n",
       " './prediction/submission_2019-12-18_2.csv',\n",
       " './prediction/submission_2019-12-18_3.csv',\n",
       " './prediction/submission_2019-12-19_TargetEnc_2.csv',\n",
       " './prediction/submission_2019-12-20_TargetEnc_4.csv',\n",
       " './prediction/submission_2019-12-17_1.csv',\n",
       " './prediction/submission_noleak_2019-12-18_2.csv',\n",
       " './prediction/submission_noleak_2019-12-18.csv']"
      ]
     },
     "execution_count": 121,
     "metadata": {},
     "output_type": "execute_result"
    }
   ],
   "source": [
    "my_all_files = glob.glob('./prediction/*.csv')\n",
    "my_all_files"
   ]
  },
  {
   "cell_type": "code",
   "execution_count": 122,
   "metadata": {},
   "outputs": [
    {
     "data": {
      "text/plain": [
       "['./submission_Highway.csv',\n",
       " './submission_Half.csv',\n",
       " './submission_KFold.csv',\n",
       " './submission_ucf_replaced.csv',\n",
       " './prediction/submission_noleak_2019-12-17.csv',\n",
       " './prediction/submission_2019-12-18_4.csv',\n",
       " './prediction/submission_2019-12-18_5.csv',\n",
       " './prediction/submission_2019-12-18_1.csv',\n",
       " './prediction/submission_2019-12-19_TargetEnc_1.csv',\n",
       " './prediction/submission_2019-12-19_TargetEnc_3.csv',\n",
       " './prediction/submission_2019-12-18_2.csv',\n",
       " './prediction/submission_2019-12-18_3.csv',\n",
       " './prediction/submission_2019-12-19_TargetEnc_2.csv',\n",
       " './prediction/submission_2019-12-20_TargetEnc_4.csv',\n",
       " './prediction/submission_2019-12-17_1.csv',\n",
       " './prediction/submission_noleak_2019-12-18_2.csv',\n",
       " './prediction/submission_noleak_2019-12-18.csv']"
      ]
     },
     "execution_count": 122,
     "metadata": {},
     "output_type": "execute_result"
    }
   ],
   "source": [
    "all_files += my_all_files\n",
    "all_files"
   ]
  },
  {
   "cell_type": "code",
   "execution_count": 123,
   "metadata": {},
   "outputs": [
    {
     "name": "stderr",
     "output_type": "stream",
     "text": [
      "/Users/numatakouhei/opt/anaconda3/envs/py3.7/lib/python3.7/site-packages/numpy/lib/arraysetops.py:568: FutureWarning:\n",
      "\n",
      "elementwise comparison failed; returning scalar instead, but in the future will perform elementwise comparison\n",
      "\n"
     ]
    }
   ],
   "source": [
    "#outs = [pd.read_csv(all_files[i], index_col=0) for i in range(len(all_files))]\n",
    "for i in range(len(all_files)):\n",
    "    df_pred = pd.read_csv(all_files[i], index_col=0)\n",
    "    test_df[f'pred_{i + 1}'] = df_pred.meter_reading\n",
    "    del df_pred\n",
    "    gc.collect()"
   ]
  },
  {
   "cell_type": "markdown",
   "metadata": {},
   "source": [
    "sample_submission1 = pd.read_csv('submission_KFold.csv', index_col=0)\n",
    "sample_submission2 = pd.read_csv('submission_Half.csv', index_col=0)\n",
    "sample_submission3 = pd.read_csv('submission_Highway.csv', index_col=0)"
   ]
  },
  {
   "cell_type": "code",
   "execution_count": 124,
   "metadata": {},
   "outputs": [
    {
     "name": "stdout",
     "output_type": "stream",
     "text": [
      "Memory usage of dataframe is 6004.66 MB\n",
      "Memory usage after optimization is: 3300.57 MB\n",
      "Decreased by 45.0%\n",
      "Memory usage of dataframe is 460.05 MB\n",
      "Memory usage after optimization is: 299.03 MB\n",
      "Decreased by 35.0%\n"
     ]
    }
   ],
   "source": [
    "#test_df['pred1'] = sample_submission1.meter_reading\n",
    "#test_df['pred2'] = sample_submission2.meter_reading\n",
    "#test_df['pred3'] = sample_submission3.meter_reading\n",
    "\n",
    "test_df.loc[test_df.pred_1<0, 'pred_1'] = 0\n",
    "\n",
    "#del  outs\n",
    "#gc.collect()\n",
    "\n",
    "test_df = reduce_mem_usage(test_df)\n",
    "leak_df = reduce_mem_usage(leak_df)"
   ]
  },
  {
   "cell_type": "code",
   "execution_count": 125,
   "metadata": {},
   "outputs": [
    {
     "data": {
      "text/plain": [
       "Index(['row_id', 'building_id', 'meter', 'timestamp', 'pred_1', 'pred_2',\n",
       "       'pred_3', 'pred_4', 'pred_5', 'pred_6', 'pred_7', 'pred_8', 'pred_9',\n",
       "       'pred_10', 'pred_11', 'pred_12', 'pred_13', 'pred_14', 'pred_15',\n",
       "       'pred_16', 'pred_17'],\n",
       "      dtype='object')"
      ]
     },
     "execution_count": 125,
     "metadata": {},
     "output_type": "execute_result"
    }
   ],
   "source": [
    "test_df.columns"
   ]
  },
  {
   "cell_type": "code",
   "execution_count": 126,
   "metadata": {},
   "outputs": [
    {
     "data": {
      "text/plain": [
       "0"
      ]
     },
     "execution_count": 126,
     "metadata": {},
     "output_type": "execute_result"
    }
   ],
   "source": [
    "leak_df = leak_df.merge(test_df[['building_id', 'meter', 'timestamp', 'pred_1', 'pred_2', 'pred_3', 'pred_4', 'pred_5', 'pred_6', 'pred_7', 'pred_8', 'pred_9', 'pred_10', 'pred_11', 'pred_12', 'pred_13', 'pred_14', 'pred_15', 'pred_16', 'pred_17', 'row_id']], left_on = ['building_id', 'meter', 'timestamp'], right_on = ['building_id', 'meter', 'timestamp'], how = \"left\")\n",
    "leak_df = leak_df.merge(building_meta_df[['building_id', 'site_id']], on='building_id', how='left')\n",
    "del building_meta_df\n",
    "gc.collect()"
   ]
  },
  {
   "cell_type": "code",
   "execution_count": 127,
   "metadata": {},
   "outputs": [],
   "source": [
    "for i in range(len(all_files)):\n",
    "    leak_df[f'pred_{i + 1}_l1p'] = np.log1p(leak_df[f'pred_{i + 1}'])\n",
    "leak_df['meter_reading_l1p'] = np.log1p(leak_df.meter_reading)"
   ]
  },
  {
   "cell_type": "code",
   "execution_count": 128,
   "metadata": {},
   "outputs": [
    {
     "data": {
      "text/html": [
       "<div>\n",
       "<style scoped>\n",
       "    .dataframe tbody tr th:only-of-type {\n",
       "        vertical-align: middle;\n",
       "    }\n",
       "\n",
       "    .dataframe tbody tr th {\n",
       "        vertical-align: top;\n",
       "    }\n",
       "\n",
       "    .dataframe thead th {\n",
       "        text-align: right;\n",
       "    }\n",
       "</style>\n",
       "<table border=\"1\" class=\"dataframe\">\n",
       "  <thead>\n",
       "    <tr style=\"text-align: right;\">\n",
       "      <th></th>\n",
       "      <th>building_id</th>\n",
       "      <th>meter</th>\n",
       "      <th>meter_reading</th>\n",
       "      <th>timestamp</th>\n",
       "      <th>pred_1</th>\n",
       "      <th>pred_2</th>\n",
       "      <th>pred_3</th>\n",
       "      <th>pred_4</th>\n",
       "      <th>pred_5</th>\n",
       "      <th>pred_6</th>\n",
       "      <th>...</th>\n",
       "      <th>pred_9_l1p</th>\n",
       "      <th>pred_10_l1p</th>\n",
       "      <th>pred_11_l1p</th>\n",
       "      <th>pred_12_l1p</th>\n",
       "      <th>pred_13_l1p</th>\n",
       "      <th>pred_14_l1p</th>\n",
       "      <th>pred_15_l1p</th>\n",
       "      <th>pred_16_l1p</th>\n",
       "      <th>pred_17_l1p</th>\n",
       "      <th>meter_reading_l1p</th>\n",
       "    </tr>\n",
       "  </thead>\n",
       "  <tbody>\n",
       "    <tr>\n",
       "      <td>0</td>\n",
       "      <td>0</td>\n",
       "      <td>0.0</td>\n",
       "      <td>173.370300</td>\n",
       "      <td>2017-01-01</td>\n",
       "      <td>169.533401</td>\n",
       "      <td>92.729485</td>\n",
       "      <td>186.168106</td>\n",
       "      <td>173.370300</td>\n",
       "      <td>186.206650</td>\n",
       "      <td>156.136826</td>\n",
       "      <td>...</td>\n",
       "      <td>5.298637</td>\n",
       "      <td>5.211858</td>\n",
       "      <td>6.473919</td>\n",
       "      <td>4.956094</td>\n",
       "      <td>5.241177</td>\n",
       "      <td>5.299574</td>\n",
       "      <td>4.950320</td>\n",
       "      <td>5.214828</td>\n",
       "      <td>5.220861</td>\n",
       "      <td>5.161181</td>\n",
       "    </tr>\n",
       "    <tr>\n",
       "      <td>1</td>\n",
       "      <td>1</td>\n",
       "      <td>0.0</td>\n",
       "      <td>53.512718</td>\n",
       "      <td>2017-01-01</td>\n",
       "      <td>89.669403</td>\n",
       "      <td>41.220722</td>\n",
       "      <td>85.102570</td>\n",
       "      <td>53.512699</td>\n",
       "      <td>89.900093</td>\n",
       "      <td>88.191727</td>\n",
       "      <td>...</td>\n",
       "      <td>4.502389</td>\n",
       "      <td>4.444525</td>\n",
       "      <td>6.719754</td>\n",
       "      <td>4.133663</td>\n",
       "      <td>4.381903</td>\n",
       "      <td>4.489275</td>\n",
       "      <td>4.345823</td>\n",
       "      <td>4.479124</td>\n",
       "      <td>4.521342</td>\n",
       "      <td>3.998434</td>\n",
       "    </tr>\n",
       "    <tr>\n",
       "      <td>2</td>\n",
       "      <td>2</td>\n",
       "      <td>0.0</td>\n",
       "      <td>6.143042</td>\n",
       "      <td>2017-01-01</td>\n",
       "      <td>12.904300</td>\n",
       "      <td>2.686540</td>\n",
       "      <td>13.020658</td>\n",
       "      <td>6.143000</td>\n",
       "      <td>6.749013</td>\n",
       "      <td>40.313980</td>\n",
       "      <td>...</td>\n",
       "      <td>2.034007</td>\n",
       "      <td>1.858973</td>\n",
       "      <td>6.561582</td>\n",
       "      <td>2.934580</td>\n",
       "      <td>2.005508</td>\n",
       "      <td>2.094690</td>\n",
       "      <td>2.546166</td>\n",
       "      <td>1.964064</td>\n",
       "      <td>2.089570</td>\n",
       "      <td>1.966139</td>\n",
       "    </tr>\n",
       "    <tr>\n",
       "      <td>3</td>\n",
       "      <td>3</td>\n",
       "      <td>0.0</td>\n",
       "      <td>101.701469</td>\n",
       "      <td>2017-01-01</td>\n",
       "      <td>312.110107</td>\n",
       "      <td>139.413605</td>\n",
       "      <td>249.669037</td>\n",
       "      <td>101.701500</td>\n",
       "      <td>304.735504</td>\n",
       "      <td>109.968895</td>\n",
       "      <td>...</td>\n",
       "      <td>5.739752</td>\n",
       "      <td>5.647774</td>\n",
       "      <td>6.650698</td>\n",
       "      <td>5.264287</td>\n",
       "      <td>5.714678</td>\n",
       "      <td>5.788047</td>\n",
       "      <td>5.526220</td>\n",
       "      <td>5.746922</td>\n",
       "      <td>5.705241</td>\n",
       "      <td>4.631826</td>\n",
       "    </tr>\n",
       "    <tr>\n",
       "      <td>4</td>\n",
       "      <td>4</td>\n",
       "      <td>0.0</td>\n",
       "      <td>1141.240723</td>\n",
       "      <td>2017-01-01</td>\n",
       "      <td>1359.578369</td>\n",
       "      <td>620.063782</td>\n",
       "      <td>1130.942383</td>\n",
       "      <td>1141.240723</td>\n",
       "      <td>1406.722290</td>\n",
       "      <td>727.747742</td>\n",
       "      <td>...</td>\n",
       "      <td>6.906927</td>\n",
       "      <td>6.944471</td>\n",
       "      <td>6.553182</td>\n",
       "      <td>6.714146</td>\n",
       "      <td>7.038533</td>\n",
       "      <td>6.846213</td>\n",
       "      <td>6.446486</td>\n",
       "      <td>7.274643</td>\n",
       "      <td>7.243464</td>\n",
       "      <td>7.040747</td>\n",
       "    </tr>\n",
       "  </tbody>\n",
       "</table>\n",
       "<p>5 rows × 41 columns</p>\n",
       "</div>"
      ],
      "text/plain": [
       "   building_id  meter  meter_reading  timestamp       pred_1      pred_2  \\\n",
       "0            0    0.0     173.370300 2017-01-01   169.533401   92.729485   \n",
       "1            1    0.0      53.512718 2017-01-01    89.669403   41.220722   \n",
       "2            2    0.0       6.143042 2017-01-01    12.904300    2.686540   \n",
       "3            3    0.0     101.701469 2017-01-01   312.110107  139.413605   \n",
       "4            4    0.0    1141.240723 2017-01-01  1359.578369  620.063782   \n",
       "\n",
       "        pred_3       pred_4       pred_5      pred_6  ...  pred_9_l1p  \\\n",
       "0   186.168106   173.370300   186.206650  156.136826  ...    5.298637   \n",
       "1    85.102570    53.512699    89.900093   88.191727  ...    4.502389   \n",
       "2    13.020658     6.143000     6.749013   40.313980  ...    2.034007   \n",
       "3   249.669037   101.701500   304.735504  109.968895  ...    5.739752   \n",
       "4  1130.942383  1141.240723  1406.722290  727.747742  ...    6.906927   \n",
       "\n",
       "   pred_10_l1p  pred_11_l1p  pred_12_l1p  pred_13_l1p  pred_14_l1p  \\\n",
       "0     5.211858     6.473919     4.956094     5.241177     5.299574   \n",
       "1     4.444525     6.719754     4.133663     4.381903     4.489275   \n",
       "2     1.858973     6.561582     2.934580     2.005508     2.094690   \n",
       "3     5.647774     6.650698     5.264287     5.714678     5.788047   \n",
       "4     6.944471     6.553182     6.714146     7.038533     6.846213   \n",
       "\n",
       "   pred_15_l1p  pred_16_l1p  pred_17_l1p  meter_reading_l1p  \n",
       "0     4.950320     5.214828     5.220861           5.161181  \n",
       "1     4.345823     4.479124     4.521342           3.998434  \n",
       "2     2.546166     1.964064     2.089570           1.966139  \n",
       "3     5.526220     5.746922     5.705241           4.631826  \n",
       "4     6.446486     7.274643     7.243464           7.040747  \n",
       "\n",
       "[5 rows x 41 columns]"
      ]
     },
     "execution_count": 128,
     "metadata": {},
     "output_type": "execute_result"
    }
   ],
   "source": [
    "leak_df.head()"
   ]
  },
  {
   "cell_type": "code",
   "execution_count": 129,
   "metadata": {
    "scrolled": true
   },
   "outputs": [
    {
     "data": {
      "text/html": [
       "<div>\n",
       "<style scoped>\n",
       "    .dataframe tbody tr th:only-of-type {\n",
       "        vertical-align: middle;\n",
       "    }\n",
       "\n",
       "    .dataframe tbody tr th {\n",
       "        vertical-align: top;\n",
       "    }\n",
       "\n",
       "    .dataframe thead th {\n",
       "        text-align: right;\n",
       "    }\n",
       "</style>\n",
       "<table border=\"1\" class=\"dataframe\">\n",
       "  <thead>\n",
       "    <tr style=\"text-align: right;\">\n",
       "      <th></th>\n",
       "      <th>building_id</th>\n",
       "      <th>meter</th>\n",
       "      <th>meter_reading</th>\n",
       "      <th>timestamp</th>\n",
       "      <th>pred_1</th>\n",
       "      <th>pred_2</th>\n",
       "      <th>pred_3</th>\n",
       "      <th>pred_4</th>\n",
       "      <th>pred_5</th>\n",
       "      <th>pred_6</th>\n",
       "      <th>...</th>\n",
       "      <th>pred_9_l1p</th>\n",
       "      <th>pred_10_l1p</th>\n",
       "      <th>pred_11_l1p</th>\n",
       "      <th>pred_12_l1p</th>\n",
       "      <th>pred_13_l1p</th>\n",
       "      <th>pred_14_l1p</th>\n",
       "      <th>pred_15_l1p</th>\n",
       "      <th>pred_16_l1p</th>\n",
       "      <th>pred_17_l1p</th>\n",
       "      <th>meter_reading_l1p</th>\n",
       "    </tr>\n",
       "  </thead>\n",
       "  <tbody>\n",
       "  </tbody>\n",
       "</table>\n",
       "<p>0 rows × 41 columns</p>\n",
       "</div>"
      ],
      "text/plain": [
       "Empty DataFrame\n",
       "Columns: [building_id, meter, meter_reading, timestamp, pred_1, pred_2, pred_3, pred_4, pred_5, pred_6, pred_7, pred_8, pred_9, pred_10, pred_11, pred_12, pred_13, pred_14, pred_15, pred_16, pred_17, row_id, site_id, pred_1_l1p, pred_2_l1p, pred_3_l1p, pred_4_l1p, pred_5_l1p, pred_6_l1p, pred_7_l1p, pred_8_l1p, pred_9_l1p, pred_10_l1p, pred_11_l1p, pred_12_l1p, pred_13_l1p, pred_14_l1p, pred_15_l1p, pred_16_l1p, pred_17_l1p, meter_reading_l1p]\n",
       "Index: []\n",
       "\n",
       "[0 rows x 41 columns]"
      ]
     },
     "metadata": {},
     "output_type": "display_data"
    },
    {
     "data": {
      "text/html": [
       "<div>\n",
       "<style scoped>\n",
       "    .dataframe tbody tr th:only-of-type {\n",
       "        vertical-align: middle;\n",
       "    }\n",
       "\n",
       "    .dataframe tbody tr th {\n",
       "        vertical-align: top;\n",
       "    }\n",
       "\n",
       "    .dataframe thead th {\n",
       "        text-align: right;\n",
       "    }\n",
       "</style>\n",
       "<table border=\"1\" class=\"dataframe\">\n",
       "  <thead>\n",
       "    <tr style=\"text-align: right;\">\n",
       "      <th></th>\n",
       "      <th>building_id</th>\n",
       "      <th>meter</th>\n",
       "      <th>meter_reading</th>\n",
       "      <th>timestamp</th>\n",
       "      <th>pred_1</th>\n",
       "      <th>pred_2</th>\n",
       "      <th>pred_3</th>\n",
       "      <th>pred_4</th>\n",
       "      <th>pred_5</th>\n",
       "      <th>pred_6</th>\n",
       "      <th>...</th>\n",
       "      <th>pred_9_l1p</th>\n",
       "      <th>pred_10_l1p</th>\n",
       "      <th>pred_11_l1p</th>\n",
       "      <th>pred_12_l1p</th>\n",
       "      <th>pred_13_l1p</th>\n",
       "      <th>pred_14_l1p</th>\n",
       "      <th>pred_15_l1p</th>\n",
       "      <th>pred_16_l1p</th>\n",
       "      <th>pred_17_l1p</th>\n",
       "      <th>meter_reading_l1p</th>\n",
       "    </tr>\n",
       "  </thead>\n",
       "  <tbody>\n",
       "  </tbody>\n",
       "</table>\n",
       "<p>0 rows × 41 columns</p>\n",
       "</div>"
      ],
      "text/plain": [
       "Empty DataFrame\n",
       "Columns: [building_id, meter, meter_reading, timestamp, pred_1, pred_2, pred_3, pred_4, pred_5, pred_6, pred_7, pred_8, pred_9, pred_10, pred_11, pred_12, pred_13, pred_14, pred_15, pred_16, pred_17, row_id, site_id, pred_1_l1p, pred_2_l1p, pred_3_l1p, pred_4_l1p, pred_5_l1p, pred_6_l1p, pred_7_l1p, pred_8_l1p, pred_9_l1p, pred_10_l1p, pred_11_l1p, pred_12_l1p, pred_13_l1p, pred_14_l1p, pred_15_l1p, pred_16_l1p, pred_17_l1p, meter_reading_l1p]\n",
       "Index: []\n",
       "\n",
       "[0 rows x 41 columns]"
      ]
     },
     "metadata": {},
     "output_type": "display_data"
    },
    {
     "data": {
      "text/html": [
       "<div>\n",
       "<style scoped>\n",
       "    .dataframe tbody tr th:only-of-type {\n",
       "        vertical-align: middle;\n",
       "    }\n",
       "\n",
       "    .dataframe tbody tr th {\n",
       "        vertical-align: top;\n",
       "    }\n",
       "\n",
       "    .dataframe thead th {\n",
       "        text-align: right;\n",
       "    }\n",
       "</style>\n",
       "<table border=\"1\" class=\"dataframe\">\n",
       "  <thead>\n",
       "    <tr style=\"text-align: right;\">\n",
       "      <th></th>\n",
       "      <th>building_id</th>\n",
       "      <th>meter</th>\n",
       "      <th>meter_reading</th>\n",
       "      <th>timestamp</th>\n",
       "      <th>pred_1</th>\n",
       "      <th>pred_2</th>\n",
       "      <th>pred_3</th>\n",
       "      <th>pred_4</th>\n",
       "      <th>pred_5</th>\n",
       "      <th>pred_6</th>\n",
       "      <th>...</th>\n",
       "      <th>pred_9_l1p</th>\n",
       "      <th>pred_10_l1p</th>\n",
       "      <th>pred_11_l1p</th>\n",
       "      <th>pred_12_l1p</th>\n",
       "      <th>pred_13_l1p</th>\n",
       "      <th>pred_14_l1p</th>\n",
       "      <th>pred_15_l1p</th>\n",
       "      <th>pred_16_l1p</th>\n",
       "      <th>pred_17_l1p</th>\n",
       "      <th>meter_reading_l1p</th>\n",
       "    </tr>\n",
       "  </thead>\n",
       "  <tbody>\n",
       "  </tbody>\n",
       "</table>\n",
       "<p>0 rows × 41 columns</p>\n",
       "</div>"
      ],
      "text/plain": [
       "Empty DataFrame\n",
       "Columns: [building_id, meter, meter_reading, timestamp, pred_1, pred_2, pred_3, pred_4, pred_5, pred_6, pred_7, pred_8, pred_9, pred_10, pred_11, pred_12, pred_13, pred_14, pred_15, pred_16, pred_17, row_id, site_id, pred_1_l1p, pred_2_l1p, pred_3_l1p, pred_4_l1p, pred_5_l1p, pred_6_l1p, pred_7_l1p, pred_8_l1p, pred_9_l1p, pred_10_l1p, pred_11_l1p, pred_12_l1p, pred_13_l1p, pred_14_l1p, pred_15_l1p, pred_16_l1p, pred_17_l1p, meter_reading_l1p]\n",
       "Index: []\n",
       "\n",
       "[0 rows x 41 columns]"
      ]
     },
     "metadata": {},
     "output_type": "display_data"
    },
    {
     "data": {
      "text/html": [
       "<div>\n",
       "<style scoped>\n",
       "    .dataframe tbody tr th:only-of-type {\n",
       "        vertical-align: middle;\n",
       "    }\n",
       "\n",
       "    .dataframe tbody tr th {\n",
       "        vertical-align: top;\n",
       "    }\n",
       "\n",
       "    .dataframe thead th {\n",
       "        text-align: right;\n",
       "    }\n",
       "</style>\n",
       "<table border=\"1\" class=\"dataframe\">\n",
       "  <thead>\n",
       "    <tr style=\"text-align: right;\">\n",
       "      <th></th>\n",
       "      <th>building_id</th>\n",
       "      <th>meter</th>\n",
       "      <th>meter_reading</th>\n",
       "      <th>timestamp</th>\n",
       "      <th>pred_1</th>\n",
       "      <th>pred_2</th>\n",
       "      <th>pred_3</th>\n",
       "      <th>pred_4</th>\n",
       "      <th>pred_5</th>\n",
       "      <th>pred_6</th>\n",
       "      <th>...</th>\n",
       "      <th>pred_9_l1p</th>\n",
       "      <th>pred_10_l1p</th>\n",
       "      <th>pred_11_l1p</th>\n",
       "      <th>pred_12_l1p</th>\n",
       "      <th>pred_13_l1p</th>\n",
       "      <th>pred_14_l1p</th>\n",
       "      <th>pred_15_l1p</th>\n",
       "      <th>pred_16_l1p</th>\n",
       "      <th>pred_17_l1p</th>\n",
       "      <th>meter_reading_l1p</th>\n",
       "    </tr>\n",
       "  </thead>\n",
       "  <tbody>\n",
       "  </tbody>\n",
       "</table>\n",
       "<p>0 rows × 41 columns</p>\n",
       "</div>"
      ],
      "text/plain": [
       "Empty DataFrame\n",
       "Columns: [building_id, meter, meter_reading, timestamp, pred_1, pred_2, pred_3, pred_4, pred_5, pred_6, pred_7, pred_8, pred_9, pred_10, pred_11, pred_12, pred_13, pred_14, pred_15, pred_16, pred_17, row_id, site_id, pred_1_l1p, pred_2_l1p, pred_3_l1p, pred_4_l1p, pred_5_l1p, pred_6_l1p, pred_7_l1p, pred_8_l1p, pred_9_l1p, pred_10_l1p, pred_11_l1p, pred_12_l1p, pred_13_l1p, pred_14_l1p, pred_15_l1p, pred_16_l1p, pred_17_l1p, meter_reading_l1p]\n",
       "Index: []\n",
       "\n",
       "[0 rows x 41 columns]"
      ]
     },
     "metadata": {},
     "output_type": "display_data"
    },
    {
     "data": {
      "text/html": [
       "<div>\n",
       "<style scoped>\n",
       "    .dataframe tbody tr th:only-of-type {\n",
       "        vertical-align: middle;\n",
       "    }\n",
       "\n",
       "    .dataframe tbody tr th {\n",
       "        vertical-align: top;\n",
       "    }\n",
       "\n",
       "    .dataframe thead th {\n",
       "        text-align: right;\n",
       "    }\n",
       "</style>\n",
       "<table border=\"1\" class=\"dataframe\">\n",
       "  <thead>\n",
       "    <tr style=\"text-align: right;\">\n",
       "      <th></th>\n",
       "      <th>building_id</th>\n",
       "      <th>meter</th>\n",
       "      <th>meter_reading</th>\n",
       "      <th>timestamp</th>\n",
       "      <th>pred_1</th>\n",
       "      <th>pred_2</th>\n",
       "      <th>pred_3</th>\n",
       "      <th>pred_4</th>\n",
       "      <th>pred_5</th>\n",
       "      <th>pred_6</th>\n",
       "      <th>...</th>\n",
       "      <th>pred_9_l1p</th>\n",
       "      <th>pred_10_l1p</th>\n",
       "      <th>pred_11_l1p</th>\n",
       "      <th>pred_12_l1p</th>\n",
       "      <th>pred_13_l1p</th>\n",
       "      <th>pred_14_l1p</th>\n",
       "      <th>pred_15_l1p</th>\n",
       "      <th>pred_16_l1p</th>\n",
       "      <th>pred_17_l1p</th>\n",
       "      <th>meter_reading_l1p</th>\n",
       "    </tr>\n",
       "  </thead>\n",
       "  <tbody>\n",
       "  </tbody>\n",
       "</table>\n",
       "<p>0 rows × 41 columns</p>\n",
       "</div>"
      ],
      "text/plain": [
       "Empty DataFrame\n",
       "Columns: [building_id, meter, meter_reading, timestamp, pred_1, pred_2, pred_3, pred_4, pred_5, pred_6, pred_7, pred_8, pred_9, pred_10, pred_11, pred_12, pred_13, pred_14, pred_15, pred_16, pred_17, row_id, site_id, pred_1_l1p, pred_2_l1p, pred_3_l1p, pred_4_l1p, pred_5_l1p, pred_6_l1p, pred_7_l1p, pred_8_l1p, pred_9_l1p, pred_10_l1p, pred_11_l1p, pred_12_l1p, pred_13_l1p, pred_14_l1p, pred_15_l1p, pred_16_l1p, pred_17_l1p, meter_reading_l1p]\n",
       "Index: []\n",
       "\n",
       "[0 rows x 41 columns]"
      ]
     },
     "metadata": {},
     "output_type": "display_data"
    },
    {
     "data": {
      "text/html": [
       "<div>\n",
       "<style scoped>\n",
       "    .dataframe tbody tr th:only-of-type {\n",
       "        vertical-align: middle;\n",
       "    }\n",
       "\n",
       "    .dataframe tbody tr th {\n",
       "        vertical-align: top;\n",
       "    }\n",
       "\n",
       "    .dataframe thead th {\n",
       "        text-align: right;\n",
       "    }\n",
       "</style>\n",
       "<table border=\"1\" class=\"dataframe\">\n",
       "  <thead>\n",
       "    <tr style=\"text-align: right;\">\n",
       "      <th></th>\n",
       "      <th>building_id</th>\n",
       "      <th>meter</th>\n",
       "      <th>meter_reading</th>\n",
       "      <th>timestamp</th>\n",
       "      <th>pred_1</th>\n",
       "      <th>pred_2</th>\n",
       "      <th>pred_3</th>\n",
       "      <th>pred_4</th>\n",
       "      <th>pred_5</th>\n",
       "      <th>pred_6</th>\n",
       "      <th>...</th>\n",
       "      <th>pred_9_l1p</th>\n",
       "      <th>pred_10_l1p</th>\n",
       "      <th>pred_11_l1p</th>\n",
       "      <th>pred_12_l1p</th>\n",
       "      <th>pred_13_l1p</th>\n",
       "      <th>pred_14_l1p</th>\n",
       "      <th>pred_15_l1p</th>\n",
       "      <th>pred_16_l1p</th>\n",
       "      <th>pred_17_l1p</th>\n",
       "      <th>meter_reading_l1p</th>\n",
       "    </tr>\n",
       "  </thead>\n",
       "  <tbody>\n",
       "  </tbody>\n",
       "</table>\n",
       "<p>0 rows × 41 columns</p>\n",
       "</div>"
      ],
      "text/plain": [
       "Empty DataFrame\n",
       "Columns: [building_id, meter, meter_reading, timestamp, pred_1, pred_2, pred_3, pred_4, pred_5, pred_6, pred_7, pred_8, pred_9, pred_10, pred_11, pred_12, pred_13, pred_14, pred_15, pred_16, pred_17, row_id, site_id, pred_1_l1p, pred_2_l1p, pred_3_l1p, pred_4_l1p, pred_5_l1p, pred_6_l1p, pred_7_l1p, pred_8_l1p, pred_9_l1p, pred_10_l1p, pred_11_l1p, pred_12_l1p, pred_13_l1p, pred_14_l1p, pred_15_l1p, pred_16_l1p, pred_17_l1p, meter_reading_l1p]\n",
       "Index: []\n",
       "\n",
       "[0 rows x 41 columns]"
      ]
     },
     "metadata": {},
     "output_type": "display_data"
    },
    {
     "data": {
      "text/html": [
       "<div>\n",
       "<style scoped>\n",
       "    .dataframe tbody tr th:only-of-type {\n",
       "        vertical-align: middle;\n",
       "    }\n",
       "\n",
       "    .dataframe tbody tr th {\n",
       "        vertical-align: top;\n",
       "    }\n",
       "\n",
       "    .dataframe thead th {\n",
       "        text-align: right;\n",
       "    }\n",
       "</style>\n",
       "<table border=\"1\" class=\"dataframe\">\n",
       "  <thead>\n",
       "    <tr style=\"text-align: right;\">\n",
       "      <th></th>\n",
       "      <th>building_id</th>\n",
       "      <th>meter</th>\n",
       "      <th>meter_reading</th>\n",
       "      <th>timestamp</th>\n",
       "      <th>pred_1</th>\n",
       "      <th>pred_2</th>\n",
       "      <th>pred_3</th>\n",
       "      <th>pred_4</th>\n",
       "      <th>pred_5</th>\n",
       "      <th>pred_6</th>\n",
       "      <th>...</th>\n",
       "      <th>pred_9_l1p</th>\n",
       "      <th>pred_10_l1p</th>\n",
       "      <th>pred_11_l1p</th>\n",
       "      <th>pred_12_l1p</th>\n",
       "      <th>pred_13_l1p</th>\n",
       "      <th>pred_14_l1p</th>\n",
       "      <th>pred_15_l1p</th>\n",
       "      <th>pred_16_l1p</th>\n",
       "      <th>pred_17_l1p</th>\n",
       "      <th>meter_reading_l1p</th>\n",
       "    </tr>\n",
       "  </thead>\n",
       "  <tbody>\n",
       "  </tbody>\n",
       "</table>\n",
       "<p>0 rows × 41 columns</p>\n",
       "</div>"
      ],
      "text/plain": [
       "Empty DataFrame\n",
       "Columns: [building_id, meter, meter_reading, timestamp, pred_1, pred_2, pred_3, pred_4, pred_5, pred_6, pred_7, pred_8, pred_9, pred_10, pred_11, pred_12, pred_13, pred_14, pred_15, pred_16, pred_17, row_id, site_id, pred_1_l1p, pred_2_l1p, pred_3_l1p, pred_4_l1p, pred_5_l1p, pred_6_l1p, pred_7_l1p, pred_8_l1p, pred_9_l1p, pred_10_l1p, pred_11_l1p, pred_12_l1p, pred_13_l1p, pred_14_l1p, pred_15_l1p, pred_16_l1p, pred_17_l1p, meter_reading_l1p]\n",
       "Index: []\n",
       "\n",
       "[0 rows x 41 columns]"
      ]
     },
     "metadata": {},
     "output_type": "display_data"
    },
    {
     "data": {
      "text/html": [
       "<div>\n",
       "<style scoped>\n",
       "    .dataframe tbody tr th:only-of-type {\n",
       "        vertical-align: middle;\n",
       "    }\n",
       "\n",
       "    .dataframe tbody tr th {\n",
       "        vertical-align: top;\n",
       "    }\n",
       "\n",
       "    .dataframe thead th {\n",
       "        text-align: right;\n",
       "    }\n",
       "</style>\n",
       "<table border=\"1\" class=\"dataframe\">\n",
       "  <thead>\n",
       "    <tr style=\"text-align: right;\">\n",
       "      <th></th>\n",
       "      <th>building_id</th>\n",
       "      <th>meter</th>\n",
       "      <th>meter_reading</th>\n",
       "      <th>timestamp</th>\n",
       "      <th>pred_1</th>\n",
       "      <th>pred_2</th>\n",
       "      <th>pred_3</th>\n",
       "      <th>pred_4</th>\n",
       "      <th>pred_5</th>\n",
       "      <th>pred_6</th>\n",
       "      <th>...</th>\n",
       "      <th>pred_9_l1p</th>\n",
       "      <th>pred_10_l1p</th>\n",
       "      <th>pred_11_l1p</th>\n",
       "      <th>pred_12_l1p</th>\n",
       "      <th>pred_13_l1p</th>\n",
       "      <th>pred_14_l1p</th>\n",
       "      <th>pred_15_l1p</th>\n",
       "      <th>pred_16_l1p</th>\n",
       "      <th>pred_17_l1p</th>\n",
       "      <th>meter_reading_l1p</th>\n",
       "    </tr>\n",
       "  </thead>\n",
       "  <tbody>\n",
       "  </tbody>\n",
       "</table>\n",
       "<p>0 rows × 41 columns</p>\n",
       "</div>"
      ],
      "text/plain": [
       "Empty DataFrame\n",
       "Columns: [building_id, meter, meter_reading, timestamp, pred_1, pred_2, pred_3, pred_4, pred_5, pred_6, pred_7, pred_8, pred_9, pred_10, pred_11, pred_12, pred_13, pred_14, pred_15, pred_16, pred_17, row_id, site_id, pred_1_l1p, pred_2_l1p, pred_3_l1p, pred_4_l1p, pred_5_l1p, pred_6_l1p, pred_7_l1p, pred_8_l1p, pred_9_l1p, pred_10_l1p, pred_11_l1p, pred_12_l1p, pred_13_l1p, pred_14_l1p, pred_15_l1p, pred_16_l1p, pred_17_l1p, meter_reading_l1p]\n",
       "Index: []\n",
       "\n",
       "[0 rows x 41 columns]"
      ]
     },
     "metadata": {},
     "output_type": "display_data"
    },
    {
     "data": {
      "text/html": [
       "<div>\n",
       "<style scoped>\n",
       "    .dataframe tbody tr th:only-of-type {\n",
       "        vertical-align: middle;\n",
       "    }\n",
       "\n",
       "    .dataframe tbody tr th {\n",
       "        vertical-align: top;\n",
       "    }\n",
       "\n",
       "    .dataframe thead th {\n",
       "        text-align: right;\n",
       "    }\n",
       "</style>\n",
       "<table border=\"1\" class=\"dataframe\">\n",
       "  <thead>\n",
       "    <tr style=\"text-align: right;\">\n",
       "      <th></th>\n",
       "      <th>building_id</th>\n",
       "      <th>meter</th>\n",
       "      <th>meter_reading</th>\n",
       "      <th>timestamp</th>\n",
       "      <th>pred_1</th>\n",
       "      <th>pred_2</th>\n",
       "      <th>pred_3</th>\n",
       "      <th>pred_4</th>\n",
       "      <th>pred_5</th>\n",
       "      <th>pred_6</th>\n",
       "      <th>...</th>\n",
       "      <th>pred_9_l1p</th>\n",
       "      <th>pred_10_l1p</th>\n",
       "      <th>pred_11_l1p</th>\n",
       "      <th>pred_12_l1p</th>\n",
       "      <th>pred_13_l1p</th>\n",
       "      <th>pred_14_l1p</th>\n",
       "      <th>pred_15_l1p</th>\n",
       "      <th>pred_16_l1p</th>\n",
       "      <th>pred_17_l1p</th>\n",
       "      <th>meter_reading_l1p</th>\n",
       "    </tr>\n",
       "  </thead>\n",
       "  <tbody>\n",
       "  </tbody>\n",
       "</table>\n",
       "<p>0 rows × 41 columns</p>\n",
       "</div>"
      ],
      "text/plain": [
       "Empty DataFrame\n",
       "Columns: [building_id, meter, meter_reading, timestamp, pred_1, pred_2, pred_3, pred_4, pred_5, pred_6, pred_7, pred_8, pred_9, pred_10, pred_11, pred_12, pred_13, pred_14, pred_15, pred_16, pred_17, row_id, site_id, pred_1_l1p, pred_2_l1p, pred_3_l1p, pred_4_l1p, pred_5_l1p, pred_6_l1p, pred_7_l1p, pred_8_l1p, pred_9_l1p, pred_10_l1p, pred_11_l1p, pred_12_l1p, pred_13_l1p, pred_14_l1p, pred_15_l1p, pred_16_l1p, pred_17_l1p, meter_reading_l1p]\n",
       "Index: []\n",
       "\n",
       "[0 rows x 41 columns]"
      ]
     },
     "metadata": {},
     "output_type": "display_data"
    },
    {
     "data": {
      "text/html": [
       "<div>\n",
       "<style scoped>\n",
       "    .dataframe tbody tr th:only-of-type {\n",
       "        vertical-align: middle;\n",
       "    }\n",
       "\n",
       "    .dataframe tbody tr th {\n",
       "        vertical-align: top;\n",
       "    }\n",
       "\n",
       "    .dataframe thead th {\n",
       "        text-align: right;\n",
       "    }\n",
       "</style>\n",
       "<table border=\"1\" class=\"dataframe\">\n",
       "  <thead>\n",
       "    <tr style=\"text-align: right;\">\n",
       "      <th></th>\n",
       "      <th>building_id</th>\n",
       "      <th>meter</th>\n",
       "      <th>meter_reading</th>\n",
       "      <th>timestamp</th>\n",
       "      <th>pred_1</th>\n",
       "      <th>pred_2</th>\n",
       "      <th>pred_3</th>\n",
       "      <th>pred_4</th>\n",
       "      <th>pred_5</th>\n",
       "      <th>pred_6</th>\n",
       "      <th>...</th>\n",
       "      <th>pred_9_l1p</th>\n",
       "      <th>pred_10_l1p</th>\n",
       "      <th>pred_11_l1p</th>\n",
       "      <th>pred_12_l1p</th>\n",
       "      <th>pred_13_l1p</th>\n",
       "      <th>pred_14_l1p</th>\n",
       "      <th>pred_15_l1p</th>\n",
       "      <th>pred_16_l1p</th>\n",
       "      <th>pred_17_l1p</th>\n",
       "      <th>meter_reading_l1p</th>\n",
       "    </tr>\n",
       "  </thead>\n",
       "  <tbody>\n",
       "  </tbody>\n",
       "</table>\n",
       "<p>0 rows × 41 columns</p>\n",
       "</div>"
      ],
      "text/plain": [
       "Empty DataFrame\n",
       "Columns: [building_id, meter, meter_reading, timestamp, pred_1, pred_2, pred_3, pred_4, pred_5, pred_6, pred_7, pred_8, pred_9, pred_10, pred_11, pred_12, pred_13, pred_14, pred_15, pred_16, pred_17, row_id, site_id, pred_1_l1p, pred_2_l1p, pred_3_l1p, pred_4_l1p, pred_5_l1p, pred_6_l1p, pred_7_l1p, pred_8_l1p, pred_9_l1p, pred_10_l1p, pred_11_l1p, pred_12_l1p, pred_13_l1p, pred_14_l1p, pred_15_l1p, pred_16_l1p, pred_17_l1p, meter_reading_l1p]\n",
       "Index: []\n",
       "\n",
       "[0 rows x 41 columns]"
      ]
     },
     "metadata": {},
     "output_type": "display_data"
    },
    {
     "data": {
      "text/html": [
       "<div>\n",
       "<style scoped>\n",
       "    .dataframe tbody tr th:only-of-type {\n",
       "        vertical-align: middle;\n",
       "    }\n",
       "\n",
       "    .dataframe tbody tr th {\n",
       "        vertical-align: top;\n",
       "    }\n",
       "\n",
       "    .dataframe thead th {\n",
       "        text-align: right;\n",
       "    }\n",
       "</style>\n",
       "<table border=\"1\" class=\"dataframe\">\n",
       "  <thead>\n",
       "    <tr style=\"text-align: right;\">\n",
       "      <th></th>\n",
       "      <th>building_id</th>\n",
       "      <th>meter</th>\n",
       "      <th>meter_reading</th>\n",
       "      <th>timestamp</th>\n",
       "      <th>pred_1</th>\n",
       "      <th>pred_2</th>\n",
       "      <th>pred_3</th>\n",
       "      <th>pred_4</th>\n",
       "      <th>pred_5</th>\n",
       "      <th>pred_6</th>\n",
       "      <th>...</th>\n",
       "      <th>pred_9_l1p</th>\n",
       "      <th>pred_10_l1p</th>\n",
       "      <th>pred_11_l1p</th>\n",
       "      <th>pred_12_l1p</th>\n",
       "      <th>pred_13_l1p</th>\n",
       "      <th>pred_14_l1p</th>\n",
       "      <th>pred_15_l1p</th>\n",
       "      <th>pred_16_l1p</th>\n",
       "      <th>pred_17_l1p</th>\n",
       "      <th>meter_reading_l1p</th>\n",
       "    </tr>\n",
       "  </thead>\n",
       "  <tbody>\n",
       "  </tbody>\n",
       "</table>\n",
       "<p>0 rows × 41 columns</p>\n",
       "</div>"
      ],
      "text/plain": [
       "Empty DataFrame\n",
       "Columns: [building_id, meter, meter_reading, timestamp, pred_1, pred_2, pred_3, pred_4, pred_5, pred_6, pred_7, pred_8, pred_9, pred_10, pred_11, pred_12, pred_13, pred_14, pred_15, pred_16, pred_17, row_id, site_id, pred_1_l1p, pred_2_l1p, pred_3_l1p, pred_4_l1p, pred_5_l1p, pred_6_l1p, pred_7_l1p, pred_8_l1p, pred_9_l1p, pred_10_l1p, pred_11_l1p, pred_12_l1p, pred_13_l1p, pred_14_l1p, pred_15_l1p, pred_16_l1p, pred_17_l1p, meter_reading_l1p]\n",
       "Index: []\n",
       "\n",
       "[0 rows x 41 columns]"
      ]
     },
     "metadata": {},
     "output_type": "display_data"
    },
    {
     "data": {
      "text/html": [
       "<div>\n",
       "<style scoped>\n",
       "    .dataframe tbody tr th:only-of-type {\n",
       "        vertical-align: middle;\n",
       "    }\n",
       "\n",
       "    .dataframe tbody tr th {\n",
       "        vertical-align: top;\n",
       "    }\n",
       "\n",
       "    .dataframe thead th {\n",
       "        text-align: right;\n",
       "    }\n",
       "</style>\n",
       "<table border=\"1\" class=\"dataframe\">\n",
       "  <thead>\n",
       "    <tr style=\"text-align: right;\">\n",
       "      <th></th>\n",
       "      <th>building_id</th>\n",
       "      <th>meter</th>\n",
       "      <th>meter_reading</th>\n",
       "      <th>timestamp</th>\n",
       "      <th>pred_1</th>\n",
       "      <th>pred_2</th>\n",
       "      <th>pred_3</th>\n",
       "      <th>pred_4</th>\n",
       "      <th>pred_5</th>\n",
       "      <th>pred_6</th>\n",
       "      <th>...</th>\n",
       "      <th>pred_9_l1p</th>\n",
       "      <th>pred_10_l1p</th>\n",
       "      <th>pred_11_l1p</th>\n",
       "      <th>pred_12_l1p</th>\n",
       "      <th>pred_13_l1p</th>\n",
       "      <th>pred_14_l1p</th>\n",
       "      <th>pred_15_l1p</th>\n",
       "      <th>pred_16_l1p</th>\n",
       "      <th>pred_17_l1p</th>\n",
       "      <th>meter_reading_l1p</th>\n",
       "    </tr>\n",
       "  </thead>\n",
       "  <tbody>\n",
       "  </tbody>\n",
       "</table>\n",
       "<p>0 rows × 41 columns</p>\n",
       "</div>"
      ],
      "text/plain": [
       "Empty DataFrame\n",
       "Columns: [building_id, meter, meter_reading, timestamp, pred_1, pred_2, pred_3, pred_4, pred_5, pred_6, pred_7, pred_8, pred_9, pred_10, pred_11, pred_12, pred_13, pred_14, pred_15, pred_16, pred_17, row_id, site_id, pred_1_l1p, pred_2_l1p, pred_3_l1p, pred_4_l1p, pred_5_l1p, pred_6_l1p, pred_7_l1p, pred_8_l1p, pred_9_l1p, pred_10_l1p, pred_11_l1p, pred_12_l1p, pred_13_l1p, pred_14_l1p, pred_15_l1p, pred_16_l1p, pred_17_l1p, meter_reading_l1p]\n",
       "Index: []\n",
       "\n",
       "[0 rows x 41 columns]"
      ]
     },
     "metadata": {},
     "output_type": "display_data"
    },
    {
     "data": {
      "text/html": [
       "<div>\n",
       "<style scoped>\n",
       "    .dataframe tbody tr th:only-of-type {\n",
       "        vertical-align: middle;\n",
       "    }\n",
       "\n",
       "    .dataframe tbody tr th {\n",
       "        vertical-align: top;\n",
       "    }\n",
       "\n",
       "    .dataframe thead th {\n",
       "        text-align: right;\n",
       "    }\n",
       "</style>\n",
       "<table border=\"1\" class=\"dataframe\">\n",
       "  <thead>\n",
       "    <tr style=\"text-align: right;\">\n",
       "      <th></th>\n",
       "      <th>building_id</th>\n",
       "      <th>meter</th>\n",
       "      <th>meter_reading</th>\n",
       "      <th>timestamp</th>\n",
       "      <th>pred_1</th>\n",
       "      <th>pred_2</th>\n",
       "      <th>pred_3</th>\n",
       "      <th>pred_4</th>\n",
       "      <th>pred_5</th>\n",
       "      <th>pred_6</th>\n",
       "      <th>...</th>\n",
       "      <th>pred_9_l1p</th>\n",
       "      <th>pred_10_l1p</th>\n",
       "      <th>pred_11_l1p</th>\n",
       "      <th>pred_12_l1p</th>\n",
       "      <th>pred_13_l1p</th>\n",
       "      <th>pred_14_l1p</th>\n",
       "      <th>pred_15_l1p</th>\n",
       "      <th>pred_16_l1p</th>\n",
       "      <th>pred_17_l1p</th>\n",
       "      <th>meter_reading_l1p</th>\n",
       "    </tr>\n",
       "  </thead>\n",
       "  <tbody>\n",
       "  </tbody>\n",
       "</table>\n",
       "<p>0 rows × 41 columns</p>\n",
       "</div>"
      ],
      "text/plain": [
       "Empty DataFrame\n",
       "Columns: [building_id, meter, meter_reading, timestamp, pred_1, pred_2, pred_3, pred_4, pred_5, pred_6, pred_7, pred_8, pred_9, pred_10, pred_11, pred_12, pred_13, pred_14, pred_15, pred_16, pred_17, row_id, site_id, pred_1_l1p, pred_2_l1p, pred_3_l1p, pred_4_l1p, pred_5_l1p, pred_6_l1p, pred_7_l1p, pred_8_l1p, pred_9_l1p, pred_10_l1p, pred_11_l1p, pred_12_l1p, pred_13_l1p, pred_14_l1p, pred_15_l1p, pred_16_l1p, pred_17_l1p, meter_reading_l1p]\n",
       "Index: []\n",
       "\n",
       "[0 rows x 41 columns]"
      ]
     },
     "metadata": {},
     "output_type": "display_data"
    },
    {
     "data": {
      "text/html": [
       "<div>\n",
       "<style scoped>\n",
       "    .dataframe tbody tr th:only-of-type {\n",
       "        vertical-align: middle;\n",
       "    }\n",
       "\n",
       "    .dataframe tbody tr th {\n",
       "        vertical-align: top;\n",
       "    }\n",
       "\n",
       "    .dataframe thead th {\n",
       "        text-align: right;\n",
       "    }\n",
       "</style>\n",
       "<table border=\"1\" class=\"dataframe\">\n",
       "  <thead>\n",
       "    <tr style=\"text-align: right;\">\n",
       "      <th></th>\n",
       "      <th>building_id</th>\n",
       "      <th>meter</th>\n",
       "      <th>meter_reading</th>\n",
       "      <th>timestamp</th>\n",
       "      <th>pred_1</th>\n",
       "      <th>pred_2</th>\n",
       "      <th>pred_3</th>\n",
       "      <th>pred_4</th>\n",
       "      <th>pred_5</th>\n",
       "      <th>pred_6</th>\n",
       "      <th>...</th>\n",
       "      <th>pred_9_l1p</th>\n",
       "      <th>pred_10_l1p</th>\n",
       "      <th>pred_11_l1p</th>\n",
       "      <th>pred_12_l1p</th>\n",
       "      <th>pred_13_l1p</th>\n",
       "      <th>pred_14_l1p</th>\n",
       "      <th>pred_15_l1p</th>\n",
       "      <th>pred_16_l1p</th>\n",
       "      <th>pred_17_l1p</th>\n",
       "      <th>meter_reading_l1p</th>\n",
       "    </tr>\n",
       "  </thead>\n",
       "  <tbody>\n",
       "  </tbody>\n",
       "</table>\n",
       "<p>0 rows × 41 columns</p>\n",
       "</div>"
      ],
      "text/plain": [
       "Empty DataFrame\n",
       "Columns: [building_id, meter, meter_reading, timestamp, pred_1, pred_2, pred_3, pred_4, pred_5, pred_6, pred_7, pred_8, pred_9, pred_10, pred_11, pred_12, pred_13, pred_14, pred_15, pred_16, pred_17, row_id, site_id, pred_1_l1p, pred_2_l1p, pred_3_l1p, pred_4_l1p, pred_5_l1p, pred_6_l1p, pred_7_l1p, pred_8_l1p, pred_9_l1p, pred_10_l1p, pred_11_l1p, pred_12_l1p, pred_13_l1p, pred_14_l1p, pred_15_l1p, pred_16_l1p, pred_17_l1p, meter_reading_l1p]\n",
       "Index: []\n",
       "\n",
       "[0 rows x 41 columns]"
      ]
     },
     "metadata": {},
     "output_type": "display_data"
    },
    {
     "data": {
      "text/html": [
       "<div>\n",
       "<style scoped>\n",
       "    .dataframe tbody tr th:only-of-type {\n",
       "        vertical-align: middle;\n",
       "    }\n",
       "\n",
       "    .dataframe tbody tr th {\n",
       "        vertical-align: top;\n",
       "    }\n",
       "\n",
       "    .dataframe thead th {\n",
       "        text-align: right;\n",
       "    }\n",
       "</style>\n",
       "<table border=\"1\" class=\"dataframe\">\n",
       "  <thead>\n",
       "    <tr style=\"text-align: right;\">\n",
       "      <th></th>\n",
       "      <th>building_id</th>\n",
       "      <th>meter</th>\n",
       "      <th>meter_reading</th>\n",
       "      <th>timestamp</th>\n",
       "      <th>pred_1</th>\n",
       "      <th>pred_2</th>\n",
       "      <th>pred_3</th>\n",
       "      <th>pred_4</th>\n",
       "      <th>pred_5</th>\n",
       "      <th>pred_6</th>\n",
       "      <th>...</th>\n",
       "      <th>pred_9_l1p</th>\n",
       "      <th>pred_10_l1p</th>\n",
       "      <th>pred_11_l1p</th>\n",
       "      <th>pred_12_l1p</th>\n",
       "      <th>pred_13_l1p</th>\n",
       "      <th>pred_14_l1p</th>\n",
       "      <th>pred_15_l1p</th>\n",
       "      <th>pred_16_l1p</th>\n",
       "      <th>pred_17_l1p</th>\n",
       "      <th>meter_reading_l1p</th>\n",
       "    </tr>\n",
       "  </thead>\n",
       "  <tbody>\n",
       "  </tbody>\n",
       "</table>\n",
       "<p>0 rows × 41 columns</p>\n",
       "</div>"
      ],
      "text/plain": [
       "Empty DataFrame\n",
       "Columns: [building_id, meter, meter_reading, timestamp, pred_1, pred_2, pred_3, pred_4, pred_5, pred_6, pred_7, pred_8, pred_9, pred_10, pred_11, pred_12, pred_13, pred_14, pred_15, pred_16, pred_17, row_id, site_id, pred_1_l1p, pred_2_l1p, pred_3_l1p, pred_4_l1p, pred_5_l1p, pred_6_l1p, pred_7_l1p, pred_8_l1p, pred_9_l1p, pred_10_l1p, pred_11_l1p, pred_12_l1p, pred_13_l1p, pred_14_l1p, pred_15_l1p, pred_16_l1p, pred_17_l1p, meter_reading_l1p]\n",
       "Index: []\n",
       "\n",
       "[0 rows x 41 columns]"
      ]
     },
     "metadata": {},
     "output_type": "display_data"
    },
    {
     "data": {
      "text/html": [
       "<div>\n",
       "<style scoped>\n",
       "    .dataframe tbody tr th:only-of-type {\n",
       "        vertical-align: middle;\n",
       "    }\n",
       "\n",
       "    .dataframe tbody tr th {\n",
       "        vertical-align: top;\n",
       "    }\n",
       "\n",
       "    .dataframe thead th {\n",
       "        text-align: right;\n",
       "    }\n",
       "</style>\n",
       "<table border=\"1\" class=\"dataframe\">\n",
       "  <thead>\n",
       "    <tr style=\"text-align: right;\">\n",
       "      <th></th>\n",
       "      <th>building_id</th>\n",
       "      <th>meter</th>\n",
       "      <th>meter_reading</th>\n",
       "      <th>timestamp</th>\n",
       "      <th>pred_1</th>\n",
       "      <th>pred_2</th>\n",
       "      <th>pred_3</th>\n",
       "      <th>pred_4</th>\n",
       "      <th>pred_5</th>\n",
       "      <th>pred_6</th>\n",
       "      <th>...</th>\n",
       "      <th>pred_9_l1p</th>\n",
       "      <th>pred_10_l1p</th>\n",
       "      <th>pred_11_l1p</th>\n",
       "      <th>pred_12_l1p</th>\n",
       "      <th>pred_13_l1p</th>\n",
       "      <th>pred_14_l1p</th>\n",
       "      <th>pred_15_l1p</th>\n",
       "      <th>pred_16_l1p</th>\n",
       "      <th>pred_17_l1p</th>\n",
       "      <th>meter_reading_l1p</th>\n",
       "    </tr>\n",
       "  </thead>\n",
       "  <tbody>\n",
       "  </tbody>\n",
       "</table>\n",
       "<p>0 rows × 41 columns</p>\n",
       "</div>"
      ],
      "text/plain": [
       "Empty DataFrame\n",
       "Columns: [building_id, meter, meter_reading, timestamp, pred_1, pred_2, pred_3, pred_4, pred_5, pred_6, pred_7, pred_8, pred_9, pred_10, pred_11, pred_12, pred_13, pred_14, pred_15, pred_16, pred_17, row_id, site_id, pred_1_l1p, pred_2_l1p, pred_3_l1p, pred_4_l1p, pred_5_l1p, pred_6_l1p, pred_7_l1p, pred_8_l1p, pred_9_l1p, pred_10_l1p, pred_11_l1p, pred_12_l1p, pred_13_l1p, pred_14_l1p, pred_15_l1p, pred_16_l1p, pred_17_l1p, meter_reading_l1p]\n",
       "Index: []\n",
       "\n",
       "[0 rows x 41 columns]"
      ]
     },
     "metadata": {},
     "output_type": "display_data"
    },
    {
     "data": {
      "text/html": [
       "<div>\n",
       "<style scoped>\n",
       "    .dataframe tbody tr th:only-of-type {\n",
       "        vertical-align: middle;\n",
       "    }\n",
       "\n",
       "    .dataframe tbody tr th {\n",
       "        vertical-align: top;\n",
       "    }\n",
       "\n",
       "    .dataframe thead th {\n",
       "        text-align: right;\n",
       "    }\n",
       "</style>\n",
       "<table border=\"1\" class=\"dataframe\">\n",
       "  <thead>\n",
       "    <tr style=\"text-align: right;\">\n",
       "      <th></th>\n",
       "      <th>building_id</th>\n",
       "      <th>meter</th>\n",
       "      <th>meter_reading</th>\n",
       "      <th>timestamp</th>\n",
       "      <th>pred_1</th>\n",
       "      <th>pred_2</th>\n",
       "      <th>pred_3</th>\n",
       "      <th>pred_4</th>\n",
       "      <th>pred_5</th>\n",
       "      <th>pred_6</th>\n",
       "      <th>...</th>\n",
       "      <th>pred_9_l1p</th>\n",
       "      <th>pred_10_l1p</th>\n",
       "      <th>pred_11_l1p</th>\n",
       "      <th>pred_12_l1p</th>\n",
       "      <th>pred_13_l1p</th>\n",
       "      <th>pred_14_l1p</th>\n",
       "      <th>pred_15_l1p</th>\n",
       "      <th>pred_16_l1p</th>\n",
       "      <th>pred_17_l1p</th>\n",
       "      <th>meter_reading_l1p</th>\n",
       "    </tr>\n",
       "  </thead>\n",
       "  <tbody>\n",
       "  </tbody>\n",
       "</table>\n",
       "<p>0 rows × 41 columns</p>\n",
       "</div>"
      ],
      "text/plain": [
       "Empty DataFrame\n",
       "Columns: [building_id, meter, meter_reading, timestamp, pred_1, pred_2, pred_3, pred_4, pred_5, pred_6, pred_7, pred_8, pred_9, pred_10, pred_11, pred_12, pred_13, pred_14, pred_15, pred_16, pred_17, row_id, site_id, pred_1_l1p, pred_2_l1p, pred_3_l1p, pred_4_l1p, pred_5_l1p, pred_6_l1p, pred_7_l1p, pred_8_l1p, pred_9_l1p, pred_10_l1p, pred_11_l1p, pred_12_l1p, pred_13_l1p, pred_14_l1p, pred_15_l1p, pred_16_l1p, pred_17_l1p, meter_reading_l1p]\n",
       "Index: []\n",
       "\n",
       "[0 rows x 41 columns]"
      ]
     },
     "metadata": {},
     "output_type": "display_data"
    }
   ],
   "source": [
    "for i in range(len(all_files)):\n",
    "    display(leak_df[leak_df[f'pred_{i + 1}_l1p'].isnull()])"
   ]
  },
  {
   "cell_type": "code",
   "execution_count": 130,
   "metadata": {},
   "outputs": [
    {
     "name": "stdout",
     "output_type": "stream",
     "text": [
      "File name: ./submission_Highway.csv\n",
      "Score 1 = 0.9965962171554565\n",
      "File name: ./submission_Half.csv\n",
      "Score 2 = 1.0053532123565674\n",
      "File name: ./submission_KFold.csv\n",
      "Score 3 = 0.9854710698127747\n",
      "File name: ./submission_ucf_replaced.csv\n",
      "Score 4 = 0.36369553208351135\n",
      "File name: ./prediction/submission_noleak_2019-12-17.csv\n",
      "Score 5 = 0.9920561909675598\n",
      "File name: ./prediction/submission_2019-12-18_4.csv\n",
      "Score 6 = 1.0699297189712524\n",
      "File name: ./prediction/submission_2019-12-18_5.csv\n",
      "Score 7 = 0.9813950657844543\n",
      "File name: ./prediction/submission_2019-12-18_1.csv\n",
      "Score 8 = 1.0842739343643188\n",
      "File name: ./prediction/submission_2019-12-19_TargetEnc_1.csv\n",
      "Score 9 = 0.9839401245117188\n",
      "File name: ./prediction/submission_2019-12-19_TargetEnc_3.csv\n",
      "Score 10 = 0.978188157081604\n",
      "File name: ./prediction/submission_2019-12-18_2.csv\n",
      "Score 11 = 2.4858150482177734\n",
      "File name: ./prediction/submission_2019-12-18_3.csv\n",
      "Score 12 = 1.0345211029052734\n",
      "File name: ./prediction/submission_2019-12-19_TargetEnc_2.csv\n",
      "Score 13 = 0.9919650554656982\n",
      "File name: ./prediction/submission_2019-12-20_TargetEnc_4.csv\n",
      "Score 14 = 0.9891604781150818\n",
      "File name: ./prediction/submission_2019-12-17_1.csv\n",
      "Score 15 = 1.048002004623413\n",
      "File name: ./prediction/submission_noleak_2019-12-18_2.csv\n",
      "Score 16 = 1.1855891942977905\n",
      "File name: ./prediction/submission_noleak_2019-12-18.csv\n",
      "Score 17 = 0.9914436936378479\n"
     ]
    },
    {
     "data": {
      "image/png": "[encoded data removed]",
      "text/plain": [
       "<Figure size 432x288 with 1 Axes>"
      ]
     },
     "metadata": {
      "needs_background": "light"
     },
     "output_type": "display_data"
    },
    {
     "data": {
      "image/png": "[encoded data removed]",
      "text/plain": [
       "<Figure size 432x288 with 1 Axes>"
      ]
     },
     "metadata": {
      "needs_background": "light"
     },
     "output_type": "display_data"
    },
    {
     "data": {
      "image/png": "[encoded data removed]",
      "text/plain": [
       "<Figure size 432x288 with 1 Axes>"
      ]
     },
     "metadata": {
      "needs_background": "light"
     },
     "output_type": "display_data"
    },
    {
     "data": {
      "image/png": "[encoded data removed]",
      "text/plain": [
       "<Figure size 432x288 with 1 Axes>"
      ]
     },
     "metadata": {
      "needs_background": "light"
     },
     "output_type": "display_data"
    },
    {
     "data": {
      "image/png": "[encoded data removed]",
      "text/plain": [
       "<Figure size 432x288 with 1 Axes>"
      ]
     },
     "metadata": {
      "needs_background": "light"
     },
     "output_type": "display_data"
    },
    {
     "data": {
      "image/png": "[encoded data removed]",
      "text/plain": [
       "<Figure size 432x288 with 1 Axes>"
      ]
     },
     "metadata": {
      "needs_background": "light"
     },
     "output_type": "display_data"
    },
    {
     "data": {
      "image/png": "[encoded data removed]",
      "text/plain": [
       "<Figure size 432x288 with 1 Axes>"
      ]
     },
     "metadata": {
      "needs_background": "light"
     },
     "output_type": "display_data"
    },
    {
     "data": {
      "image/png": "[encoded data removed]",
      "text/plain": [
       "<Figure size 432x288 with 1 Axes>"
      ]
     },
     "metadata": {
      "needs_background": "light"
     },
     "output_type": "display_data"
    },
    {
     "data": {
      "image/png": "[encoded data removed]",
      "text/plain": [
       "<Figure size 432x288 with 1 Axes>"
      ]
     },
     "metadata": {
      "needs_background": "light"
     },
     "output_type": "display_data"
    },
    {
     "data": {
      "image/png": "[encoded data removed]",
      "text/plain": [
       "<Figure size 432x288 with 1 Axes>"
      ]
     },
     "metadata": {
      "needs_background": "light"
     },
     "output_type": "display_data"
    },
    {
     "data": {
      "image/png": "[encoded data removed]",
      "text/plain": [
       "<Figure size 432x288 with 1 Axes>"
      ]
     },
     "metadata": {
      "needs_background": "light"
     },
     "output_type": "display_data"
    },
    {
     "data": {
      "image/png": "[encoded data removed]",
      "text/plain": [
       "<Figure size 432x288 with 1 Axes>"
      ]
     },
     "metadata": {
      "needs_background": "light"
     },
     "output_type": "display_data"
    },
    {
     "data": {
      "image/png": "[encoded data removed]",
      "text/plain": [
       "<Figure size 432x288 with 1 Axes>"
      ]
     },
     "metadata": {
      "needs_background": "light"
     },
     "output_type": "display_data"
    },
    {
     "data": {
      "image/png": "[encoded data removed]",
      "text/plain": [
       "<Figure size 432x288 with 1 Axes>"
      ]
     },
     "metadata": {
      "needs_background": "light"
     },
     "output_type": "display_data"
    },
    {
     "data": {
      "image/png": "[encoded data removed]",
      "text/plain": [
       "<Figure size 432x288 with 1 Axes>"
      ]
     },
     "metadata": {
      "needs_background": "light"
     },
     "output_type": "display_data"
    },
    {
     "data": {
      "image/png": "[encoded data removed]",
      "text/plain": [
       "<Figure size 432x288 with 1 Axes>"
      ]
     },
     "metadata": {
      "needs_background": "light"
     },
     "output_type": "display_data"
    },
    {
     "data": {
      "image/png": "[encoded data removed]",
      "text/plain": [
       "<Figure size 432x288 with 1 Axes>"
      ]
     },
     "metadata": {
      "needs_background": "light"
     },
     "output_type": "display_data"
    }
   ],
   "source": [
    "for i in range(len(all_files)):\n",
    "    print(f'File name: {all_files[i]}')\n",
    "    fig = plt.figure()\n",
    "    sns.distplot(leak_df[f'pred_{i + 1}_l1p'])\n",
    "    sns.distplot(leak_df.meter_reading_l1p)\n",
    "    \n",
    "    leak_score = np.sqrt(mean_squared_error(leak_df[f'pred_{i + 1}_l1p'], leak_df.meter_reading_l1p))\n",
    "    print(f'Score {i + 1} = {leak_score}')"
   ]
  },
  {
   "cell_type": "markdown",
   "metadata": {},
   "source": [
    "# Leak Validation for Blending"
   ]
  },
  {
   "cell_type": "markdown",
   "metadata": {},
   "source": [
    "A one idea how we can use LV usefull is blending. We probably can find best blending method without LB probing and it's means we can save our submission."
   ]
  },
  {
   "cell_type": "code",
   "execution_count": 137,
   "metadata": {},
   "outputs": [
    {
     "name": "stdout",
     "output_type": "stream",
     "text": [
      "mean score= 0.965789\n"
     ]
    },
    {
     "data": {
      "image/png": "[encoded data removed]",
      "text/plain": [
       "<Figure size 432x288 with 1 Axes>"
      ]
     },
     "metadata": {
      "needs_background": "light"
     },
     "output_type": "display_data"
    }
   ],
   "source": [
    "leak_df['mean_pred'] = np.mean(leak_df[['pred_1', 'pred_2', 'pred_5', 'pred_10']].values, axis=1)\n",
    "leak_df['mean_pred_l1p'] = np.log1p(leak_df.mean_pred)\n",
    "leak_score = np.sqrt(mean_squared_error(leak_df.mean_pred_l1p, leak_df.meter_reading_l1p))\n",
    "\n",
    "\n",
    "sns.distplot(leak_df.mean_pred_l1p)\n",
    "sns.distplot(leak_df.meter_reading_l1p)\n",
    "\n",
    "print('mean score=', leak_score)"
   ]
  },
  {
   "cell_type": "code",
   "execution_count": 25,
   "metadata": {},
   "outputs": [
    {
     "name": "stdout",
     "output_type": "stream",
     "text": [
      "meadian score= 0.9745677\n"
     ]
    },
    {
     "data": {
      "image/png": "[encoded data removed]",
      "text/plain": [
       "<Figure size 432x288 with 1 Axes>"
      ]
     },
     "metadata": {
      "needs_background": "light"
     },
     "output_type": "display_data"
    }
   ],
   "source": [
    "leak_df['median_pred'] = np.median(leak_df[['pred_5', 'pred_7', 'pred_2', 'pred_1']].values, axis=1)\n",
    "leak_df['median_pred_l1p'] = np.log1p(leak_df.median_pred)\n",
    "leak_score = np.sqrt(mean_squared_error(leak_df.median_pred_l1p, leak_df.meter_reading_l1p))\n",
    "\n",
    "sns.distplot(leak_df.median_pred_l1p)\n",
    "sns.distplot(leak_df.meter_reading_l1p)\n",
    "\n",
    "print ('meadian score=', leak_score)"
   ]
  },
  {
   "cell_type": "markdown",
   "metadata": {},
   "source": [
    "Ummm... it looks mean blending is beter than median blending"
   ]
  },
  {
   "cell_type": "markdown",
   "metadata": {},
   "source": [
    "# Find Best Weight"
   ]
  },
  {
   "cell_type": "code",
   "execution_count": 138,
   "metadata": {},
   "outputs": [],
   "source": [
    "N = 10\n",
    "scores = np.zeros(N,)\n",
    "for i in range(N):\n",
    "    p = i * 1./N\n",
    "    v = p * leak_df['pred_10'].values + (1.-p) * leak_df['pred_5'].values\n",
    "    vl1p = np.log1p(v)\n",
    "    scores[i] = np.sqrt(mean_squared_error(vl1p, leak_df.meter_reading_l1p))"
   ]
  },
  {
   "cell_type": "code",
   "execution_count": 139,
   "metadata": {},
   "outputs": [
    {
     "data": {
      "text/plain": [
       "[<matplotlib.lines.Line2D at 0x1c49dd2ed0>]"
      ]
     },
     "execution_count": 139,
     "metadata": {},
     "output_type": "execute_result"
    },
    {
     "data": {
      "image/png": "[encoded data removed]",
      "text/plain": [
       "<Figure size 432x288 with 1 Axes>"
      ]
     },
     "metadata": {
      "needs_background": "light"
     },
     "output_type": "display_data"
    }
   ],
   "source": [
    "plt.plot(scores)"
   ]
  },
  {
   "cell_type": "code",
   "execution_count": 140,
   "metadata": {},
   "outputs": [
    {
     "name": "stdout",
     "output_type": "stream",
     "text": [
      "0.9663658142089844 0.6\n"
     ]
    }
   ],
   "source": [
    "best_weight = np.argmin(scores) *  1./N\n",
    "print (scores.min(), best_weight)"
   ]
  },
  {
   "cell_type": "code",
   "execution_count": 141,
   "metadata": {},
   "outputs": [],
   "source": [
    "# and more\n",
    "scores = np.zeros(N,)\n",
    "for i in range(N):\n",
    "    p = i * 1./N\n",
    "    v =  p * (best_weight * leak_df['pred_10'].values + (1.-best_weight) * leak_df['pred_5'].values) + (1.-p) * leak_df['pred_1'].values\n",
    "    vl1p = np.log1p(v)\n",
    "    scores[i] = np.sqrt(mean_squared_error(vl1p, leak_df.meter_reading_l1p))"
   ]
  },
  {
   "cell_type": "code",
   "execution_count": 142,
   "metadata": {},
   "outputs": [
    {
     "data": {
      "text/plain": [
       "[<matplotlib.lines.Line2D at 0x1c49e3b750>]"
      ]
     },
     "execution_count": 142,
     "metadata": {},
     "output_type": "execute_result"
    },
    {
     "data": {
      "image/png": "[encoded data removed]",
      "text/plain": [
       "<Figure size 432x288 with 1 Axes>"
      ]
     },
     "metadata": {
      "needs_background": "light"
     },
     "output_type": "display_data"
    }
   ],
   "source": [
    "plt.plot(scores)"
   ]
  },
  {
   "cell_type": "code",
   "execution_count": 143,
   "metadata": {},
   "outputs": [
    {
     "name": "stdout",
     "output_type": "stream",
     "text": [
      "0.9654970169067383 0.9\n"
     ]
    }
   ],
   "source": [
    "best_weight2 = np.argmin(scores) *  1./N\n",
    "print (scores.min(), best_weight2)\n",
    "# its seams better than simple mean 0.92079717"
   ]
  },
  {
   "cell_type": "markdown",
   "metadata": {},
   "source": [
    "# Heuristic way"
   ]
  },
  {
   "cell_type": "markdown",
   "metadata": {},
   "source": [
    "### Create List of Possible Combinations"
   ]
  },
  {
   "cell_type": "code",
   "execution_count": 145,
   "metadata": {},
   "outputs": [
    {
     "data": {
      "text/plain": [
       "[0.2,\n",
       " 0.21000000000000002,\n",
       " 0.22,\n",
       " 0.23,\n",
       " 0.24000000000000002,\n",
       " 0.25,\n",
       " 0.26,\n",
       " 0.27,\n",
       " 0.28,\n",
       " 0.29000000000000004,\n",
       " 0.30000000000000004,\n",
       " 0.31,\n",
       " 0.32,\n",
       " 0.33,\n",
       " 0.34,\n",
       " 0.35,\n",
       " 0.36,\n",
       " 0.37,\n",
       " 0.38,\n",
       " 0.39,\n",
       " 0.4,\n",
       " 0.41000000000000003,\n",
       " 0.42000000000000004,\n",
       " 0.43000000000000005,\n",
       " 0.44,\n",
       " 0.45,\n",
       " 0.46,\n",
       " 0.47000000000000003,\n",
       " 0.48000000000000004,\n",
       " 0.49,\n",
       " 0.5]"
      ]
     },
     "execution_count": 145,
     "metadata": {},
     "output_type": "execute_result"
    }
   ],
   "source": [
    "all_combinations = list(np.linspace(0.2,0.5,31))\n",
    "all_combinations"
   ]
  },
  {
   "cell_type": "markdown",
   "metadata": {},
   "source": [
    "### Create List of All Possible Combinations of Three Lists"
   ]
  },
  {
   "cell_type": "code",
   "execution_count": 33,
   "metadata": {},
   "outputs": [],
   "source": [
    "import itertools"
   ]
  },
  {
   "cell_type": "code",
   "execution_count": 146,
   "metadata": {},
   "outputs": [],
   "source": [
    "l = [all_combinations, all_combinations, all_combinations]\n",
    "# remember to do the reverse!\n",
    "all_l = list(itertools.product(*l)) + list(itertools.product(*reversed(l)))"
   ]
  },
  {
   "cell_type": "markdown",
   "metadata": {},
   "source": [
    "### Filter Combinations to Have Those With Sum of Weights > 0.95 \n",
    "\n",
    "Reason being weight sum of 0.96 led to LB score of 0.99"
   ]
  },
  {
   "cell_type": "code",
   "execution_count": 147,
   "metadata": {},
   "outputs": [],
   "source": [
    "filtered_combis = [l for l in all_l if l[0] + l[1] + l[2] > 0.93 and l[0] + l[1] + l[2] < 1.03]"
   ]
  },
  {
   "cell_type": "code",
   "execution_count": 148,
   "metadata": {},
   "outputs": [
    {
     "name": "stdout",
     "output_type": "stream",
     "text": [
      "12142\n"
     ]
    }
   ],
   "source": [
    "print(len(filtered_combis))"
   ]
  },
  {
   "cell_type": "markdown",
   "metadata": {},
   "source": [
    "## Begin the Search For Combination With Lowest Score!"
   ]
  },
  {
   "cell_type": "code",
   "execution_count": 149,
   "metadata": {},
   "outputs": [
    {
     "name": "stdout",
     "output_type": "stream",
     "text": [
      "0.9640325\n"
     ]
    }
   ],
   "source": [
    "best_combi = [] # of the form (i, score)\n",
    "for i, combi in enumerate(filtered_combis):\n",
    "    #print(\"Now at: \" + str(i) + \" out of \" + str(len(filtered_combis))) # uncomment to view iterations\n",
    "    score1 = combi[0]\n",
    "    score2 = combi[1]\n",
    "    score3 = combi[2]\n",
    "    v = score1 * leak_df['pred_10'].values + score2 * leak_df['pred_5'].values + score3 * leak_df['pred_1'].values\n",
    "    vl1p = np.log1p(v)\n",
    "    curr_score = np.sqrt(mean_squared_error(vl1p, leak_df.meter_reading_l1p))\n",
    "    \n",
    "    if best_combi:\n",
    "        prev_score = best_combi[0][1]\n",
    "        if curr_score < prev_score:\n",
    "            best_combi[:] = []\n",
    "            best_combi += [(i, curr_score)]\n",
    "    else:\n",
    "        best_combi += [(i, curr_score)]\n",
    "            \n",
    "score = best_combi[0][1]\n",
    "print(score)"
   ]
  },
  {
   "cell_type": "markdown",
   "metadata": {},
   "source": [
    "# Submit"
   ]
  },
  {
   "cell_type": "code",
   "execution_count": 150,
   "metadata": {},
   "outputs": [
    {
     "name": "stdout",
     "output_type": "stream",
     "text": [
      "The weights are: w1=0.43000000000000005, w2=0.31, w3=0.2\n"
     ]
    }
   ],
   "source": [
    "sample_submission = pd.read_feather(os.path.join(root, 'sample_submission.feather'))\n",
    "\n",
    "# extract best combination\n",
    "final_combi = filtered_combis[best_combi[0][0]]\n",
    "w1 = final_combi[0]\n",
    "w2 = final_combi[1]\n",
    "w3 = final_combi[2]\n",
    "print(\"The weights are: w1=\" + str(w1) + \", w2=\" + str(w2) + \", w3=\" + str(w3))\n",
    "\n"
   ]
  },
  {
   "cell_type": "code",
   "execution_count": 151,
   "metadata": {},
   "outputs": [],
   "source": [
    "sample_submission['meter_reading'] = w1 * test_df.pred_10 +  w2 * test_df.pred_5  + w3 * test_df.pred_1\n",
    "sample_submission.loc[sample_submission.meter_reading < 0, 'meter_reading'] = 0"
   ]
  },
  {
   "cell_type": "code",
   "execution_count": 152,
   "metadata": {},
   "outputs": [
    {
     "data": {
      "text/html": [
       "<div>\n",
       "<style scoped>\n",
       "    .dataframe tbody tr th:only-of-type {\n",
       "        vertical-align: middle;\n",
       "    }\n",
       "\n",
       "    .dataframe tbody tr th {\n",
       "        vertical-align: top;\n",
       "    }\n",
       "\n",
       "    .dataframe thead th {\n",
       "        text-align: right;\n",
       "    }\n",
       "</style>\n",
       "<table border=\"1\" class=\"dataframe\">\n",
       "  <thead>\n",
       "    <tr style=\"text-align: right;\">\n",
       "      <th></th>\n",
       "      <th>row_id</th>\n",
       "      <th>meter_reading</th>\n",
       "    </tr>\n",
       "  </thead>\n",
       "  <tbody>\n",
       "    <tr>\n",
       "      <td>0</td>\n",
       "      <td>0</td>\n",
       "      <td>170.077581</td>\n",
       "    </tr>\n",
       "    <tr>\n",
       "      <td>1</td>\n",
       "      <td>1</td>\n",
       "      <td>81.991472</td>\n",
       "    </tr>\n",
       "    <tr>\n",
       "      <td>2</td>\n",
       "      <td>2</td>\n",
       "      <td>7.002425</td>\n",
       "    </tr>\n",
       "    <tr>\n",
       "      <td>3</td>\n",
       "      <td>3</td>\n",
       "      <td>278.433580</td>\n",
       "    </tr>\n",
       "    <tr>\n",
       "      <td>4</td>\n",
       "      <td>4</td>\n",
       "      <td>1153.650702</td>\n",
       "    </tr>\n",
       "  </tbody>\n",
       "</table>\n",
       "</div>"
      ],
      "text/plain": [
       "   row_id  meter_reading\n",
       "0       0     170.077581\n",
       "1       1      81.991472\n",
       "2       2       7.002425\n",
       "3       3     278.433580\n",
       "4       4    1153.650702"
      ]
     },
     "execution_count": 152,
     "metadata": {},
     "output_type": "execute_result"
    }
   ],
   "source": [
    "sample_submission.head()"
   ]
  },
  {
   "cell_type": "code",
   "execution_count": 153,
   "metadata": {},
   "outputs": [
    {
     "data": {
      "text/plain": [
       "<matplotlib.axes._subplots.AxesSubplot at 0x1c49bfe510>"
      ]
     },
     "execution_count": 153,
     "metadata": {},
     "output_type": "execute_result"
    },
    {
     "data": {
      "image/png": "[encoded data removed]",
      "text/plain": [
       "<Figure size 432x288 with 1 Axes>"
      ]
     },
     "metadata": {
      "needs_background": "light"
     },
     "output_type": "display_data"
    }
   ],
   "source": [
    "sns.distplot(np.log1p(sample_submission.meter_reading))"
   ]
  },
  {
   "cell_type": "code",
   "execution_count": 154,
   "metadata": {},
   "outputs": [],
   "source": [
    "leak_df = leak_df[['meter_reading', 'row_id']].set_index('row_id').dropna()\n",
    "sample_submission.loc[leak_df.index, 'meter_reading'] = leak_df['meter_reading']"
   ]
  },
  {
   "cell_type": "code",
   "execution_count": 155,
   "metadata": {},
   "outputs": [
    {
     "data": {
      "text/plain": [
       "<matplotlib.axes._subplots.AxesSubplot at 0x1c49c56150>"
      ]
     },
     "execution_count": 155,
     "metadata": {},
     "output_type": "execute_result"
    },
    {
     "data": {
      "image/png": "[encoded data removed]",
      "text/plain": [
       "<Figure size 432x288 with 1 Axes>"
      ]
     },
     "metadata": {
      "needs_background": "light"
     },
     "output_type": "display_data"
    }
   ],
   "source": [
    "sns.distplot(np.log1p(sample_submission.meter_reading))"
   ]
  },
  {
   "cell_type": "code",
   "execution_count": 156,
   "metadata": {},
   "outputs": [
    {
     "data": {
      "text/html": [
       "<div>\n",
       "<style scoped>\n",
       "    .dataframe tbody tr th:only-of-type {\n",
       "        vertical-align: middle;\n",
       "    }\n",
       "\n",
       "    .dataframe tbody tr th {\n",
       "        vertical-align: top;\n",
       "    }\n",
       "\n",
       "    .dataframe thead th {\n",
       "        text-align: right;\n",
       "    }\n",
       "</style>\n",
       "<table border=\"1\" class=\"dataframe\">\n",
       "  <thead>\n",
       "    <tr style=\"text-align: right;\">\n",
       "      <th></th>\n",
       "      <th>row_id</th>\n",
       "      <th>meter_reading</th>\n",
       "    </tr>\n",
       "  </thead>\n",
       "  <tbody>\n",
       "    <tr>\n",
       "      <td>0</td>\n",
       "      <td>0</td>\n",
       "      <td>173.370300</td>\n",
       "    </tr>\n",
       "    <tr>\n",
       "      <td>1</td>\n",
       "      <td>1</td>\n",
       "      <td>53.512718</td>\n",
       "    </tr>\n",
       "    <tr>\n",
       "      <td>2</td>\n",
       "      <td>2</td>\n",
       "      <td>6.143042</td>\n",
       "    </tr>\n",
       "    <tr>\n",
       "      <td>3</td>\n",
       "      <td>3</td>\n",
       "      <td>101.701469</td>\n",
       "    </tr>\n",
       "    <tr>\n",
       "      <td>4</td>\n",
       "      <td>4</td>\n",
       "      <td>1141.240723</td>\n",
       "    </tr>\n",
       "    <tr>\n",
       "      <td>5</td>\n",
       "      <td>5</td>\n",
       "      <td>13.651204</td>\n",
       "    </tr>\n",
       "    <tr>\n",
       "      <td>6</td>\n",
       "      <td>6</td>\n",
       "      <td>260.874512</td>\n",
       "    </tr>\n",
       "    <tr>\n",
       "      <td>7</td>\n",
       "      <td>7</td>\n",
       "      <td>502.705597</td>\n",
       "    </tr>\n",
       "    <tr>\n",
       "      <td>8</td>\n",
       "      <td>8</td>\n",
       "      <td>717.574036</td>\n",
       "    </tr>\n",
       "    <tr>\n",
       "      <td>9</td>\n",
       "      <td>9</td>\n",
       "      <td>513.285278</td>\n",
       "    </tr>\n",
       "    <tr>\n",
       "      <td>10</td>\n",
       "      <td>10</td>\n",
       "      <td>61.839954</td>\n",
       "    </tr>\n",
       "    <tr>\n",
       "      <td>11</td>\n",
       "      <td>11</td>\n",
       "      <td>0.000000</td>\n",
       "    </tr>\n",
       "    <tr>\n",
       "      <td>12</td>\n",
       "      <td>12</td>\n",
       "      <td>1806.736816</td>\n",
       "    </tr>\n",
       "    <tr>\n",
       "      <td>13</td>\n",
       "      <td>13</td>\n",
       "      <td>472.331665</td>\n",
       "    </tr>\n",
       "    <tr>\n",
       "      <td>14</td>\n",
       "      <td>14</td>\n",
       "      <td>298.620087</td>\n",
       "    </tr>\n",
       "    <tr>\n",
       "      <td>15</td>\n",
       "      <td>15</td>\n",
       "      <td>308.858490</td>\n",
       "    </tr>\n",
       "    <tr>\n",
       "      <td>16</td>\n",
       "      <td>16</td>\n",
       "      <td>253.261429</td>\n",
       "    </tr>\n",
       "    <tr>\n",
       "      <td>17</td>\n",
       "      <td>17</td>\n",
       "      <td>263.468231</td>\n",
       "    </tr>\n",
       "    <tr>\n",
       "      <td>18</td>\n",
       "      <td>18</td>\n",
       "      <td>464.312622</td>\n",
       "    </tr>\n",
       "    <tr>\n",
       "      <td>19</td>\n",
       "      <td>19</td>\n",
       "      <td>176.441818</td>\n",
       "    </tr>\n",
       "  </tbody>\n",
       "</table>\n",
       "</div>"
      ],
      "text/plain": [
       "    row_id  meter_reading\n",
       "0        0     173.370300\n",
       "1        1      53.512718\n",
       "2        2       6.143042\n",
       "3        3     101.701469\n",
       "4        4    1141.240723\n",
       "5        5      13.651204\n",
       "6        6     260.874512\n",
       "7        7     502.705597\n",
       "8        8     717.574036\n",
       "9        9     513.285278\n",
       "10      10      61.839954\n",
       "11      11       0.000000\n",
       "12      12    1806.736816\n",
       "13      13     472.331665\n",
       "14      14     298.620087\n",
       "15      15     308.858490\n",
       "16      16     253.261429\n",
       "17      17     263.468231\n",
       "18      18     464.312622\n",
       "19      19     176.441818"
      ]
     },
     "execution_count": 156,
     "metadata": {},
     "output_type": "execute_result"
    }
   ],
   "source": [
    "sample_submission.head(20)"
   ]
  },
  {
   "cell_type": "code",
   "execution_count": 157,
   "metadata": {},
   "outputs": [],
   "source": [
    "sample_submission.to_csv('submission_blend_2.csv', index=False, float_format='%.4f')"
   ]
  },
  {
   "cell_type": "markdown",
   "metadata": {},
   "source": [
    "# Future Work\n",
    "\n",
    "- Increase the range of weights\n",
    "- Vary tolerance for sum of weights (currently tol = 0.95)"
   ]
  }
 ],
 "metadata": {
  "kernelspec": {
   "display_name": "Python 3",
   "language": "python",
   "name": "python3"
  },
  "language_info": {
   "codemirror_mode": {
    "name": "ipython",
    "version": 3
   },
   "file_extension": ".py",
   "mimetype": "text/x-python",
   "name": "python",
   "nbconvert_exporter": "python",
   "pygments_lexer": "ipython3",
   "version": "3.7.4"
  }
 },
 "nbformat": 4,
 "nbformat_minor": 1
}
