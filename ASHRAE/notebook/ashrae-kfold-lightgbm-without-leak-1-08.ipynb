{
 "cells": [
  {
   "cell_type": "markdown",
   "metadata": {},
   "source": [
    "## Import Packages"
   ]
  },
  {
   "cell_type": "code",
   "execution_count": 266,
   "metadata": {},
   "outputs": [],
   "source": [
    "import pandas as pd\n",
    "import numpy as np\n",
    "import matplotlib.pyplot as plt\n",
    "import lightgbm as lgb\n",
    "from sklearn.preprocessing import LabelEncoder\n",
    "from sklearn.model_selection import KFold, TimeSeriesSplit\n",
    "from sklearn.metrics import mean_squared_error\n",
    "import datetime\n",
    "from tqdm import tqdm\n",
    "import warnings\n",
    "warnings.filterwarnings('ignore')\n",
    "import gc\n",
    "\n",
    "DATA_PATH = \"./ashrae-energy-prediction/\""
   ]
  },
  {
   "cell_type": "markdown",
   "metadata": {},
   "source": [
    "## Utility Functions"
   ]
  },
  {
   "cell_type": "code",
   "execution_count": 88,
   "metadata": {},
   "outputs": [],
   "source": [
    "# Original code from https://www.kaggle.com/aitude/ashrae-missing-weather-data-handling by @aitude\n",
    "\n",
    "def fill_weather_dataset(weather_df):\n",
    "    \n",
    "    # Find Missing Dates\n",
    "    time_format = \"%Y-%m-%d %H:%M:%S\"\n",
    "    start_date = datetime.datetime.strptime(weather_df['timestamp'].min(),time_format)\n",
    "    end_date = datetime.datetime.strptime(weather_df['timestamp'].max(),time_format)\n",
    "    total_hours = int(((end_date - start_date).total_seconds() + 3600) / 3600)\n",
    "    hours_list = [(end_date - datetime.timedelta(hours=x)).strftime(time_format) for x in range(total_hours)]\n",
    "\n",
    "    missing_hours = []\n",
    "    for site_id in range(16):\n",
    "        site_hours = np.array(weather_df[weather_df['site_id'] == site_id]['timestamp'])\n",
    "        new_rows = pd.DataFrame(np.setdiff1d(hours_list,site_hours),columns=['timestamp'])\n",
    "        new_rows['site_id'] = site_id\n",
    "        weather_df = pd.concat([weather_df,new_rows])\n",
    "\n",
    "        weather_df = weather_df.reset_index(drop=True)           \n",
    "\n",
    "    # Add new Features\n",
    "    weather_df[\"datetime\"] = pd.to_datetime(weather_df[\"timestamp\"])\n",
    "    weather_df[\"day\"] = weather_df[\"datetime\"].dt.day\n",
    "    weather_df[\"week\"] = weather_df[\"datetime\"].dt.week\n",
    "    weather_df[\"month\"] = weather_df[\"datetime\"].dt.month\n",
    "    \n",
    "    # Reset Index for Fast Update\n",
    "    weather_df = weather_df.set_index(['site_id','day','month'])\n",
    "\n",
    "    air_temperature_filler = pd.DataFrame(weather_df.groupby(['site_id','day','month'])['air_temperature'].mean(),columns=[\"air_temperature\"])\n",
    "    weather_df.update(air_temperature_filler,overwrite=False)\n",
    "\n",
    "    # Step 1\n",
    "    cloud_coverage_filler = weather_df.groupby(['site_id','day','month'])['cloud_coverage'].mean()\n",
    "    # Step 2\n",
    "    cloud_coverage_filler = pd.DataFrame(cloud_coverage_filler.fillna(method='ffill'),columns=[\"cloud_coverage\"])\n",
    "\n",
    "    weather_df.update(cloud_coverage_filler,overwrite=False)\n",
    "\n",
    "    due_temperature_filler = pd.DataFrame(weather_df.groupby(['site_id','day','month'])['dew_temperature'].mean(),columns=[\"dew_temperature\"])\n",
    "    weather_df.update(due_temperature_filler,overwrite=False)\n",
    "\n",
    "    # Step 1\n",
    "    sea_level_filler = weather_df.groupby(['site_id','day','month'])['sea_level_pressure'].mean()\n",
    "    # Step 2\n",
    "    sea_level_filler = pd.DataFrame(sea_level_filler.fillna(method='ffill'),columns=['sea_level_pressure'])\n",
    "\n",
    "    weather_df.update(sea_level_filler,overwrite=False)\n",
    "\n",
    "    wind_direction_filler =  pd.DataFrame(weather_df.groupby(['site_id','day','month'])['wind_direction'].mean(),columns=['wind_direction'])\n",
    "    weather_df.update(wind_direction_filler,overwrite=False)\n",
    "\n",
    "    wind_speed_filler =  pd.DataFrame(weather_df.groupby(['site_id','day','month'])['wind_speed'].mean(),columns=['wind_speed'])\n",
    "    weather_df.update(wind_speed_filler,overwrite=False)\n",
    "\n",
    "    # Step 1\n",
    "    precip_depth_filler = weather_df.groupby(['site_id','day','month'])['precip_depth_1_hr'].mean()\n",
    "    # Step 2\n",
    "    precip_depth_filler = pd.DataFrame(precip_depth_filler.fillna(method='ffill'),columns=['precip_depth_1_hr'])\n",
    "\n",
    "    weather_df.update(precip_depth_filler,overwrite=False)\n",
    "\n",
    "    weather_df = weather_df.reset_index()\n",
    "    weather_df = weather_df.drop(['datetime','day','week','month'],axis=1)\n",
    "        \n",
    "    return weather_df\n",
    "\n",
    "# Original code from https://www.kaggle.com/gemartin/load-data-reduce-memory-usage by @gemartin\n",
    "\n",
    "from pandas.api.types import is_datetime64_any_dtype as is_datetime\n",
    "from pandas.api.types import is_categorical_dtype\n",
    "\n",
    "def reduce_mem_usage(df, use_float16=False):\n",
    "    \"\"\"\n",
    "    Iterate through all the columns of a dataframe and modify the data type to reduce memory usage.        \n",
    "    \"\"\"\n",
    "    \n",
    "    start_mem = df.memory_usage().sum() / 1024**2\n",
    "    print(\"Memory usage of dataframe is {:.2f} MB\".format(start_mem))\n",
    "    \n",
    "    for col in df.columns:\n",
    "        if is_datetime(df[col]) or is_categorical_dtype(df[col]):\n",
    "            continue\n",
    "        col_type = df[col].dtype\n",
    "        \n",
    "        if col_type != object:\n",
    "            c_min = df[col].min()\n",
    "            c_max = df[col].max()\n",
    "            if str(col_type)[:3] == \"int\":\n",
    "                if c_min > np.iinfo(np.int8).min and c_max < np.iinfo(np.int8).max:\n",
    "                    df[col] = df[col].astype(np.int8)\n",
    "                elif c_min > np.iinfo(np.int16).min and c_max < np.iinfo(np.int16).max:\n",
    "                    df[col] = df[col].astype(np.int16)\n",
    "                elif c_min > np.iinfo(np.int32).min and c_max < np.iinfo(np.int32).max:\n",
    "                    df[col] = df[col].astype(np.int32)\n",
    "                elif c_min > np.iinfo(np.int64).min and c_max < np.iinfo(np.int64).max:\n",
    "                    df[col] = df[col].astype(np.int64)  \n",
    "            else:\n",
    "                if use_float16 and c_min > np.finfo(np.float16).min and c_max < np.finfo(np.float16).max:\n",
    "                    df[col] = df[col].astype(np.float16)\n",
    "                elif c_min > np.finfo(np.float32).min and c_max < np.finfo(np.float32).max:\n",
    "                    df[col] = df[col].astype(np.float32)\n",
    "                else:\n",
    "                    df[col] = df[col].astype(np.float64)\n",
    "        else:\n",
    "            df[col] = df[col].astype(\"category\")\n",
    "\n",
    "    end_mem = df.memory_usage().sum() / 1024**2\n",
    "    print(\"Memory usage after optimization is: {:.2f} MB\".format(end_mem))\n",
    "    print(\"Decreased by {:.1f}%\".format(100 * (start_mem - end_mem) / start_mem))\n",
    "    \n",
    "    return df\n",
    "\n",
    "\n",
    "def features_engineering(df):\n",
    "    \n",
    "    # Sort by timestamp\n",
    "    df.sort_values(\"timestamp\")\n",
    "    df.reset_index(drop=True)\n",
    "    \n",
    "    # Add more features\n",
    "    df[\"timestamp\"] = pd.to_datetime(df[\"timestamp\"],format=\"%Y-%m-%d %H:%M:%S\")\n",
    "    df[\"hour\"] = df[\"timestamp\"].dt.hour\n",
    "    df[\"weekend\"] = df[\"timestamp\"].dt.weekday\n",
    "    df['square_feet'] =  np.log1p(df['square_feet'])\n",
    "    \n",
    "    # Remove Unused Columns\n",
    "    # drop = [\"timestamp\",\"sea_level_pressure\", \"wind_direction\", \"wind_speed\",\"year_built\",\"floor_count\"]\n",
    "    drop = [\"timestamp\"]\n",
    "    df = df.drop(drop, axis=1)\n",
    "    gc.collect()\n",
    "    \n",
    "    # Encode Categorical Data\n",
    "    #le = LabelEncoder()\n",
    "    #df[\"primary_use\"] = le.fit_transform(df[\"primary_use\"])\n",
    "    \n",
    "    return df"
   ]
  },
  {
   "cell_type": "markdown",
   "metadata": {},
   "source": [
    "## Load Data"
   ]
  },
  {
   "cell_type": "code",
   "execution_count": 295,
   "metadata": {},
   "outputs": [],
   "source": [
    "train_df = pd.read_csv(DATA_PATH + 'train.csv')\n",
    "\n",
    "# Remove outliers\n",
    "train_df = train_df [ train_df['building_id'] != 1099 ]\n",
    "train_df = train_df.query('not (building_id <= 104 & meter == 0 & timestamp <= \"2016-05-20\")')\n",
    "\n",
    "building_df = pd.read_csv(DATA_PATH + 'building_metadata.csv')\n",
    "weather_df = pd.read_csv(DATA_PATH + 'weather_train.csv')"
   ]
  },
  {
   "cell_type": "markdown",
   "metadata": {},
   "source": [
    "## Load Test Data"
   ]
  },
  {
   "cell_type": "code",
   "execution_count": 296,
   "metadata": {},
   "outputs": [
    {
     "name": "stdout",
     "output_type": "stream",
     "text": [
      "Memory usage of dataframe is 954.38 MB\n",
      "Memory usage after optimization is: 199.59 MB\n",
      "Decreased by 79.1%\n"
     ]
    }
   ],
   "source": [
    "test_df = pd.read_csv(DATA_PATH + 'test.csv')\n",
    "row_ids = test_df[\"row_id\"]\n",
    "test_df.drop(\"row_id\", axis=1, inplace=True)\n",
    "test_df = reduce_mem_usage(test_df)"
   ]
  },
  {
   "cell_type": "markdown",
   "metadata": {},
   "source": [
    "## Fill Weather-train Information\n",
    "\n",
    "I'm using [this kernel](https://www.kaggle.com/aitude/ashrae-missing-weather-data-handling) to handle missing weather information."
   ]
  },
  {
   "cell_type": "code",
   "execution_count": 297,
   "metadata": {},
   "outputs": [],
   "source": [
    "weather_df = fill_weather_dataset(weather_df)"
   ]
  },
  {
   "cell_type": "code",
   "execution_count": 298,
   "metadata": {},
   "outputs": [],
   "source": [
    "building_df['age'] = building_df['year_built'].max() - building_df['year_built'] + 1"
   ]
  },
  {
   "cell_type": "code",
   "execution_count": 299,
   "metadata": {},
   "outputs": [],
   "source": [
    "weather_df = weather_df.drop(['sea_level_pressure', 'wind_direction', 'wind_speed'], axis=1)"
   ]
  },
  {
   "cell_type": "code",
   "execution_count": 300,
   "metadata": {},
   "outputs": [],
   "source": [
    "building_df = building_df.drop(['year_built', 'floor_count'], axis=1)"
   ]
  },
  {
   "cell_type": "markdown",
   "metadata": {},
   "source": [
    "## Memory Reduction"
   ]
  },
  {
   "cell_type": "code",
   "execution_count": 301,
   "metadata": {},
   "outputs": [
    {
     "name": "stdout",
     "output_type": "stream",
     "text": [
      "Memory usage of dataframe is 757.31 MB\n",
      "Memory usage after optimization is: 322.24 MB\n",
      "Decreased by 57.4%\n",
      "Memory usage of dataframe is 0.06 MB\n",
      "Memory usage after optimization is: 0.01 MB\n",
      "Decreased by 73.5%\n",
      "Memory usage of dataframe is 6.43 MB\n",
      "Memory usage after optimization is: 1.85 MB\n",
      "Decreased by 71.2%\n"
     ]
    }
   ],
   "source": [
    "train_df = reduce_mem_usage(train_df,use_float16=True)\n",
    "building_df = reduce_mem_usage(building_df,use_float16=True)\n",
    "weather_df = reduce_mem_usage(weather_df,use_float16=True)"
   ]
  },
  {
   "cell_type": "markdown",
   "metadata": {},
   "source": [
    "## Merge building, weather Data to train\n",
    "\n",
    "We need to add building and weather information into training dataset."
   ]
  },
  {
   "cell_type": "code",
   "execution_count": 302,
   "metadata": {},
   "outputs": [
    {
     "data": {
      "text/plain": [
       "0"
      ]
     },
     "execution_count": 302,
     "metadata": {},
     "output_type": "execute_result"
    }
   ],
   "source": [
    "train_df = train_df.merge(building_df, left_on='building_id',right_on='building_id',how='left')\n",
    "train_df = train_df.merge(weather_df,how='left',left_on=['site_id','timestamp'],right_on=['site_id','timestamp'])\n",
    "del weather_df\n",
    "gc.collect()"
   ]
  },
  {
   "cell_type": "markdown",
   "metadata": {},
   "source": [
    "## Merge Building Data to test"
   ]
  },
  {
   "cell_type": "code",
   "execution_count": 303,
   "metadata": {
    "scrolled": true
   },
   "outputs": [
    {
     "data": {
      "text/plain": [
       "20"
      ]
     },
     "execution_count": 303,
     "metadata": {},
     "output_type": "execute_result"
    }
   ],
   "source": [
    "test_df = test_df.merge(building_df,left_on='building_id',right_on='building_id',how='left')\n",
    "del building_df\n",
    "gc.collect()"
   ]
  },
  {
   "cell_type": "markdown",
   "metadata": {},
   "source": [
    "## Fill Weather-test Information"
   ]
  },
  {
   "cell_type": "code",
   "execution_count": 304,
   "metadata": {
    "scrolled": true
   },
   "outputs": [
    {
     "name": "stdout",
     "output_type": "stream",
     "text": [
      "Memory usage of dataframe is 12.83 MB\n",
      "Memory usage after optimization is: 5.84 MB\n",
      "Decreased by 54.5%\n"
     ]
    }
   ],
   "source": [
    "weather_df = pd.read_csv(DATA_PATH + 'weather_test.csv')\n",
    "weather_df = fill_weather_dataset(weather_df)\n",
    "weather_df = weather_df.drop(['sea_level_pressure', 'wind_direction', 'wind_speed'], axis=1)\n",
    "weather_df = reduce_mem_usage(weather_df)"
   ]
  },
  {
   "cell_type": "markdown",
   "metadata": {},
   "source": [
    "## Merge Weather-test Data"
   ]
  },
  {
   "cell_type": "code",
   "execution_count": 305,
   "metadata": {},
   "outputs": [
    {
     "data": {
      "text/plain": [
       "20"
      ]
     },
     "execution_count": 305,
     "metadata": {},
     "output_type": "execute_result"
    }
   ],
   "source": [
    "test_df = test_df.merge(weather_df,how='left',on=['timestamp','site_id'])\n",
    "del weather_df\n",
    "gc.collect()"
   ]
  },
  {
   "cell_type": "markdown",
   "metadata": {},
   "source": [
    "## Features Engineering"
   ]
  },
  {
   "cell_type": "code",
   "execution_count": 306,
   "metadata": {},
   "outputs": [],
   "source": [
    "train_df = features_engineering(train_df)"
   ]
  },
  {
   "cell_type": "code",
   "execution_count": 307,
   "metadata": {},
   "outputs": [],
   "source": [
    "train_df['log_meter_reading'] = np.log1p(train_df[\"meter_reading\"])"
   ]
  },
  {
   "cell_type": "code",
   "execution_count": 308,
   "metadata": {},
   "outputs": [],
   "source": [
    "test_df = features_engineering(test_df)"
   ]
  },
  {
   "cell_type": "markdown",
   "metadata": {},
   "source": [
    "## Target Encoding"
   ]
  },
  {
   "cell_type": "code",
   "execution_count": 283,
   "metadata": {},
   "outputs": [],
   "source": [
    "n_folds = 10\n",
    "kf = TimeSeriesSplit(n_splits=n_folds)"
   ]
  },
  {
   "cell_type": "code",
   "execution_count": 319,
   "metadata": {},
   "outputs": [],
   "source": [
    "i_cols = ['site_id', 'primary_use', 'weekend']\n",
    "for df in [train_df, test_df]:\n",
    "    for col in i_cols:\n",
    "        df['meter_' + col] = df['meter'].astype(str) + '_' + df[col].astype(str)"
   ]
  },
  {
   "cell_type": "code",
   "execution_count": 323,
   "metadata": {},
   "outputs": [],
   "source": [
    "target_mean = train_df['log_meter_reading'].mean()\n",
    "i_cols = ['meter_site_id', 'meter_primary_use', 'meter_weekend']\n",
    "# 1...primary_use\n",
    "# 2...building_id, primary_use\n",
    "# 3...primary_use, weekend, 元除去\n",
    "# 4...meter_site_id, meter_primary_use, meter_weekend\n",
    "# meterとsite_id, primary_use, weekendを組み合わせる→target_encoding→元の列は消す\n",
    "\n",
    "# 7...全てのtarget_encを平均、各個の値は除去\n",
    " # ['target_enc_mean'] = ...\n",
    "    # t = t.drop([''...], axis=0)\n",
    "# i_cols = ['building_id', 'meter', 'site_id', 'primary_use', 'weekend']\n",
    "for col in i_cols:\n",
    "    train_df[col + '_target_enc'] = target_mean\n",
    "    \n",
    "    for i, (previous_index, current_index) in enumerate(kf.split(train_df)):\n",
    "        \n",
    "        if i == 0:\n",
    "            continue\n",
    "            \n",
    "        else:\n",
    "            train_previous = train_df.iloc[previous_index]\n",
    "            # 列番号\n",
    "            col_num = train_df.columns.get_loc(col + '_target_enc')\n",
    "            \n",
    "            temp_dict = train_previous.groupby([col])['log_meter_reading'].agg(['mean']).reset_index().rename(columns={'mean': col + '_target_enc'})\n",
    "            temp_dict.index = temp_dict[col].values\n",
    "            temp_dict = temp_dict[col + '_target_enc'].to_dict()\n",
    "            \n",
    "            train_df.iloc[current_index, col_num] = train_df.iloc[current_index][col].map(temp_dict)\n",
    "    \n",
    "    temp_dict = train_df.groupby([col])['log_meter_reading'].agg(['mean']).reset_index().rename(columns={'mean': col + '_target_enc'})\n",
    "    temp_dict.index = temp_dict[col].values\n",
    "    temp_dict = temp_dict[col + '_target_enc'].to_dict()\n",
    "    test_df[col + '_target_enc'] = test_df[col].map(temp_dict)\n",
    "    \n",
    "    # 元の列除去\n",
    "    train_df = train_df.drop(col, axis=1)\n",
    "    test_df = test_df.drop(col, axis=1)"
   ]
  },
  {
   "cell_type": "code",
   "execution_count": null,
   "metadata": {},
   "outputs": [],
   "source": []
  },
  {
   "cell_type": "code",
   "execution_count": 324,
   "metadata": {},
   "outputs": [
    {
     "data": {
      "text/html": [
       "<div>\n",
       "<style scoped>\n",
       "    .dataframe tbody tr th:only-of-type {\n",
       "        vertical-align: middle;\n",
       "    }\n",
       "\n",
       "    .dataframe tbody tr th {\n",
       "        vertical-align: top;\n",
       "    }\n",
       "\n",
       "    .dataframe thead th {\n",
       "        text-align: right;\n",
       "    }\n",
       "</style>\n",
       "<table border=\"1\" class=\"dataframe\">\n",
       "  <thead>\n",
       "    <tr style=\"text-align: right;\">\n",
       "      <th></th>\n",
       "      <th>building_id</th>\n",
       "      <th>meter</th>\n",
       "      <th>meter_reading</th>\n",
       "      <th>site_id</th>\n",
       "      <th>primary_use</th>\n",
       "      <th>square_feet</th>\n",
       "      <th>age</th>\n",
       "      <th>air_temperature</th>\n",
       "      <th>cloud_coverage</th>\n",
       "      <th>dew_temperature</th>\n",
       "      <th>precip_depth_1_hr</th>\n",
       "      <th>hour</th>\n",
       "      <th>weekend</th>\n",
       "      <th>log_meter_reading</th>\n",
       "      <th>meter_site_id_target_enc</th>\n",
       "      <th>meter_primary_use_target_enc</th>\n",
       "      <th>meter_weekend_target_enc</th>\n",
       "    </tr>\n",
       "  </thead>\n",
       "  <tbody>\n",
       "    <tr>\n",
       "      <td>0</td>\n",
       "      <td>105</td>\n",
       "      <td>0</td>\n",
       "      <td>23.303600</td>\n",
       "      <td>1</td>\n",
       "      <td>0</td>\n",
       "      <td>10.832181</td>\n",
       "      <td>NaN</td>\n",
       "      <td>3.800781</td>\n",
       "      <td>0.0</td>\n",
       "      <td>2.400391</td>\n",
       "      <td>0.0</td>\n",
       "      <td>0</td>\n",
       "      <td>4</td>\n",
       "      <td>3.190624</td>\n",
       "      <td>4.275923</td>\n",
       "      <td>4.275923</td>\n",
       "      <td>4.275923</td>\n",
       "    </tr>\n",
       "    <tr>\n",
       "      <td>1</td>\n",
       "      <td>106</td>\n",
       "      <td>0</td>\n",
       "      <td>0.374600</td>\n",
       "      <td>1</td>\n",
       "      <td>0</td>\n",
       "      <td>8.589514</td>\n",
       "      <td>NaN</td>\n",
       "      <td>3.800781</td>\n",
       "      <td>0.0</td>\n",
       "      <td>2.400391</td>\n",
       "      <td>0.0</td>\n",
       "      <td>0</td>\n",
       "      <td>4</td>\n",
       "      <td>0.318163</td>\n",
       "      <td>4.275923</td>\n",
       "      <td>4.275923</td>\n",
       "      <td>4.275923</td>\n",
       "    </tr>\n",
       "    <tr>\n",
       "      <td>2</td>\n",
       "      <td>106</td>\n",
       "      <td>3</td>\n",
       "      <td>0.000000</td>\n",
       "      <td>1</td>\n",
       "      <td>0</td>\n",
       "      <td>8.589514</td>\n",
       "      <td>NaN</td>\n",
       "      <td>3.800781</td>\n",
       "      <td>0.0</td>\n",
       "      <td>2.400391</td>\n",
       "      <td>0.0</td>\n",
       "      <td>0</td>\n",
       "      <td>4</td>\n",
       "      <td>0.000000</td>\n",
       "      <td>4.275923</td>\n",
       "      <td>4.275923</td>\n",
       "      <td>4.275923</td>\n",
       "    </tr>\n",
       "    <tr>\n",
       "      <td>3</td>\n",
       "      <td>107</td>\n",
       "      <td>0</td>\n",
       "      <td>175.184006</td>\n",
       "      <td>1</td>\n",
       "      <td>0</td>\n",
       "      <td>11.487946</td>\n",
       "      <td>13.0</td>\n",
       "      <td>3.800781</td>\n",
       "      <td>0.0</td>\n",
       "      <td>2.400391</td>\n",
       "      <td>0.0</td>\n",
       "      <td>0</td>\n",
       "      <td>4</td>\n",
       "      <td>5.171529</td>\n",
       "      <td>4.275923</td>\n",
       "      <td>4.275923</td>\n",
       "      <td>4.275923</td>\n",
       "    </tr>\n",
       "    <tr>\n",
       "      <td>4</td>\n",
       "      <td>108</td>\n",
       "      <td>0</td>\n",
       "      <td>91.265297</td>\n",
       "      <td>1</td>\n",
       "      <td>0</td>\n",
       "      <td>11.309352</td>\n",
       "      <td>105.0</td>\n",
       "      <td>3.800781</td>\n",
       "      <td>0.0</td>\n",
       "      <td>2.400391</td>\n",
       "      <td>0.0</td>\n",
       "      <td>0</td>\n",
       "      <td>4</td>\n",
       "      <td>4.524668</td>\n",
       "      <td>4.275923</td>\n",
       "      <td>4.275923</td>\n",
       "      <td>4.275923</td>\n",
       "    </tr>\n",
       "  </tbody>\n",
       "</table>\n",
       "</div>"
      ],
      "text/plain": [
       "   building_id  meter  meter_reading  site_id  primary_use  square_feet  \\\n",
       "0          105      0      23.303600        1            0    10.832181   \n",
       "1          106      0       0.374600        1            0     8.589514   \n",
       "2          106      3       0.000000        1            0     8.589514   \n",
       "3          107      0     175.184006        1            0    11.487946   \n",
       "4          108      0      91.265297        1            0    11.309352   \n",
       "\n",
       "     age  air_temperature  cloud_coverage  dew_temperature  precip_depth_1_hr  \\\n",
       "0    NaN         3.800781             0.0         2.400391                0.0   \n",
       "1    NaN         3.800781             0.0         2.400391                0.0   \n",
       "2    NaN         3.800781             0.0         2.400391                0.0   \n",
       "3   13.0         3.800781             0.0         2.400391                0.0   \n",
       "4  105.0         3.800781             0.0         2.400391                0.0   \n",
       "\n",
       "   hour  weekend  log_meter_reading  meter_site_id_target_enc  \\\n",
       "0     0        4           3.190624                  4.275923   \n",
       "1     0        4           0.318163                  4.275923   \n",
       "2     0        4           0.000000                  4.275923   \n",
       "3     0        4           5.171529                  4.275923   \n",
       "4     0        4           4.524668                  4.275923   \n",
       "\n",
       "   meter_primary_use_target_enc  meter_weekend_target_enc  \n",
       "0                      4.275923                  4.275923  \n",
       "1                      4.275923                  4.275923  \n",
       "2                      4.275923                  4.275923  \n",
       "3                      4.275923                  4.275923  \n",
       "4                      4.275923                  4.275923  "
      ]
     },
     "execution_count": 324,
     "metadata": {},
     "output_type": "execute_result"
    }
   ],
   "source": [
    "train_df.head()"
   ]
  },
  {
   "cell_type": "code",
   "execution_count": 325,
   "metadata": {},
   "outputs": [
    {
     "data": {
      "text/html": [
       "<div>\n",
       "<style scoped>\n",
       "    .dataframe tbody tr th:only-of-type {\n",
       "        vertical-align: middle;\n",
       "    }\n",
       "\n",
       "    .dataframe tbody tr th {\n",
       "        vertical-align: top;\n",
       "    }\n",
       "\n",
       "    .dataframe thead th {\n",
       "        text-align: right;\n",
       "    }\n",
       "</style>\n",
       "<table border=\"1\" class=\"dataframe\">\n",
       "  <thead>\n",
       "    <tr style=\"text-align: right;\">\n",
       "      <th></th>\n",
       "      <th>building_id</th>\n",
       "      <th>meter</th>\n",
       "      <th>site_id</th>\n",
       "      <th>primary_use</th>\n",
       "      <th>square_feet</th>\n",
       "      <th>age</th>\n",
       "      <th>air_temperature</th>\n",
       "      <th>cloud_coverage</th>\n",
       "      <th>dew_temperature</th>\n",
       "      <th>precip_depth_1_hr</th>\n",
       "      <th>hour</th>\n",
       "      <th>weekend</th>\n",
       "      <th>meter_site_id_target_enc</th>\n",
       "      <th>meter_primary_use_target_enc</th>\n",
       "      <th>meter_weekend_target_enc</th>\n",
       "    </tr>\n",
       "  </thead>\n",
       "  <tbody>\n",
       "    <tr>\n",
       "      <td>0</td>\n",
       "      <td>0</td>\n",
       "      <td>0</td>\n",
       "      <td>0</td>\n",
       "      <td>0</td>\n",
       "      <td>8.913685</td>\n",
       "      <td>10.0</td>\n",
       "      <td>17.799999</td>\n",
       "      <td>4.0</td>\n",
       "      <td>11.7</td>\n",
       "      <td>0.282609</td>\n",
       "      <td>0</td>\n",
       "      <td>6</td>\n",
       "      <td>5.238374</td>\n",
       "      <td>4.421944</td>\n",
       "      <td>3.970106</td>\n",
       "    </tr>\n",
       "    <tr>\n",
       "      <td>1</td>\n",
       "      <td>1</td>\n",
       "      <td>0</td>\n",
       "      <td>0</td>\n",
       "      <td>0</td>\n",
       "      <td>7.908755</td>\n",
       "      <td>14.0</td>\n",
       "      <td>17.799999</td>\n",
       "      <td>4.0</td>\n",
       "      <td>11.7</td>\n",
       "      <td>0.282609</td>\n",
       "      <td>0</td>\n",
       "      <td>6</td>\n",
       "      <td>5.238374</td>\n",
       "      <td>4.421944</td>\n",
       "      <td>3.970106</td>\n",
       "    </tr>\n",
       "    <tr>\n",
       "      <td>2</td>\n",
       "      <td>2</td>\n",
       "      <td>0</td>\n",
       "      <td>0</td>\n",
       "      <td>0</td>\n",
       "      <td>8.589886</td>\n",
       "      <td>27.0</td>\n",
       "      <td>17.799999</td>\n",
       "      <td>4.0</td>\n",
       "      <td>11.7</td>\n",
       "      <td>0.282609</td>\n",
       "      <td>0</td>\n",
       "      <td>6</td>\n",
       "      <td>5.238374</td>\n",
       "      <td>4.421944</td>\n",
       "      <td>3.970106</td>\n",
       "    </tr>\n",
       "    <tr>\n",
       "      <td>3</td>\n",
       "      <td>3</td>\n",
       "      <td>0</td>\n",
       "      <td>0</td>\n",
       "      <td>0</td>\n",
       "      <td>10.072639</td>\n",
       "      <td>16.0</td>\n",
       "      <td>17.799999</td>\n",
       "      <td>4.0</td>\n",
       "      <td>11.7</td>\n",
       "      <td>0.282609</td>\n",
       "      <td>0</td>\n",
       "      <td>6</td>\n",
       "      <td>5.238374</td>\n",
       "      <td>4.421944</td>\n",
       "      <td>3.970106</td>\n",
       "    </tr>\n",
       "    <tr>\n",
       "      <td>4</td>\n",
       "      <td>4</td>\n",
       "      <td>0</td>\n",
       "      <td>0</td>\n",
       "      <td>0</td>\n",
       "      <td>11.666573</td>\n",
       "      <td>43.0</td>\n",
       "      <td>17.799999</td>\n",
       "      <td>4.0</td>\n",
       "      <td>11.7</td>\n",
       "      <td>0.282609</td>\n",
       "      <td>0</td>\n",
       "      <td>6</td>\n",
       "      <td>5.238374</td>\n",
       "      <td>4.421944</td>\n",
       "      <td>3.970106</td>\n",
       "    </tr>\n",
       "  </tbody>\n",
       "</table>\n",
       "</div>"
      ],
      "text/plain": [
       "   building_id  meter  site_id  primary_use  square_feet   age  \\\n",
       "0            0      0        0            0     8.913685  10.0   \n",
       "1            1      0        0            0     7.908755  14.0   \n",
       "2            2      0        0            0     8.589886  27.0   \n",
       "3            3      0        0            0    10.072639  16.0   \n",
       "4            4      0        0            0    11.666573  43.0   \n",
       "\n",
       "   air_temperature  cloud_coverage  dew_temperature  precip_depth_1_hr  hour  \\\n",
       "0        17.799999             4.0             11.7           0.282609     0   \n",
       "1        17.799999             4.0             11.7           0.282609     0   \n",
       "2        17.799999             4.0             11.7           0.282609     0   \n",
       "3        17.799999             4.0             11.7           0.282609     0   \n",
       "4        17.799999             4.0             11.7           0.282609     0   \n",
       "\n",
       "   weekend  meter_site_id_target_enc  meter_primary_use_target_enc  \\\n",
       "0        6                  5.238374                      4.421944   \n",
       "1        6                  5.238374                      4.421944   \n",
       "2        6                  5.238374                      4.421944   \n",
       "3        6                  5.238374                      4.421944   \n",
       "4        6                  5.238374                      4.421944   \n",
       "\n",
       "   meter_weekend_target_enc  \n",
       "0                  3.970106  \n",
       "1                  3.970106  \n",
       "2                  3.970106  \n",
       "3                  3.970106  \n",
       "4                  3.970106  "
      ]
     },
     "execution_count": 325,
     "metadata": {},
     "output_type": "execute_result"
    }
   ],
   "source": [
    "test_df.head()"
   ]
  },
  {
   "cell_type": "markdown",
   "metadata": {},
   "source": [
    "## Features & Target Variables"
   ]
  },
  {
   "cell_type": "code",
   "execution_count": 326,
   "metadata": {},
   "outputs": [
    {
     "data": {
      "text/plain": [
       "2994"
      ]
     },
     "execution_count": 326,
     "metadata": {},
     "output_type": "execute_result"
    }
   ],
   "source": [
    "#target = np.log1p(train_df[\"meter_reading\"])\n",
    "target = train_df['log_meter_reading']\n",
    "X = train_df.drop(['meter_reading', 'log_meter_reading'], axis = 1)\n",
    "del train_df\n",
    "gc.collect()"
   ]
  },
  {
   "cell_type": "markdown",
   "metadata": {},
   "source": [
    "##  KFOLD LIGHTGBM Model"
   ]
  },
  {
   "cell_type": "markdown",
   "metadata": {},
   "source": [
    "### 40 min"
   ]
  },
  {
   "cell_type": "code",
   "execution_count": 327,
   "metadata": {
    "scrolled": true
   },
   "outputs": [
    {
     "name": "stdout",
     "output_type": "stream",
     "text": [
      "Fold 1 training...\n",
      "Training until validation scores don't improve for 50 rounds\n",
      "[100]\ttraining's rmse: 0.894069\tvalid_1's rmse: 1.60675\n",
      "[200]\ttraining's rmse: 0.815974\tvalid_1's rmse: 1.55366\n",
      "[300]\ttraining's rmse: 0.780396\tvalid_1's rmse: 1.54565\n",
      "[400]\ttraining's rmse: 0.757547\tvalid_1's rmse: 1.54299\n",
      "[500]\ttraining's rmse: 0.741494\tvalid_1's rmse: 1.54033\n",
      "[600]\ttraining's rmse: 0.728879\tvalid_1's rmse: 1.53828\n",
      "[700]\ttraining's rmse: 0.718247\tvalid_1's rmse: 1.536\n",
      "[800]\ttraining's rmse: 0.709381\tvalid_1's rmse: 1.53487\n",
      "[900]\ttraining's rmse: 0.702393\tvalid_1's rmse: 1.53404\n",
      "[1000]\ttraining's rmse: 0.696077\tvalid_1's rmse: 1.53363\n",
      "[1100]\ttraining's rmse: 0.689983\tvalid_1's rmse: 1.53279\n",
      "[1200]\ttraining's rmse: 0.684044\tvalid_1's rmse: 1.5323\n",
      "[1300]\ttraining's rmse: 0.678839\tvalid_1's rmse: 1.5312\n",
      "[1400]\ttraining's rmse: 0.674159\tvalid_1's rmse: 1.53042\n",
      "Early stopping, best iteration is:\n",
      "[1404]\ttraining's rmse: 0.673869\tvalid_1's rmse: 1.53031\n",
      "Fold 2 training...\n",
      "Training until validation scores don't improve for 50 rounds\n",
      "[100]\ttraining's rmse: 0.894468\tvalid_1's rmse: 1.10083\n",
      "[200]\ttraining's rmse: 0.806273\tvalid_1's rmse: 1.08715\n",
      "[300]\ttraining's rmse: 0.772706\tvalid_1's rmse: 1.08489\n",
      "Early stopping, best iteration is:\n",
      "[258]\ttraining's rmse: 0.785015\tvalid_1's rmse: 1.08409\n",
      "Fold 3 training...\n",
      "Training until validation scores don't improve for 50 rounds\n",
      "[100]\ttraining's rmse: 0.894226\tvalid_1's rmse: 1.06824\n",
      "[200]\ttraining's rmse: 0.807835\tvalid_1's rmse: 1.03658\n",
      "Early stopping, best iteration is:\n",
      "[156]\ttraining's rmse: 0.832461\tvalid_1's rmse: 1.03617\n",
      "Fold 4 training...\n",
      "Training until validation scores don't improve for 50 rounds\n",
      "[100]\ttraining's rmse: 0.869923\tvalid_1's rmse: 1.13816\n",
      "[200]\ttraining's rmse: 0.782788\tvalid_1's rmse: 1.11742\n",
      "[300]\ttraining's rmse: 0.752999\tvalid_1's rmse: 1.11447\n",
      "[400]\ttraining's rmse: 0.73601\tvalid_1's rmse: 1.11215\n",
      "Early stopping, best iteration is:\n",
      "[408]\ttraining's rmse: 0.734692\tvalid_1's rmse: 1.11189\n",
      "Fold 5 training...\n",
      "Training until validation scores don't improve for 50 rounds\n",
      "[100]\ttraining's rmse: 0.905188\tvalid_1's rmse: 1.08834\n",
      "[200]\ttraining's rmse: 0.818495\tvalid_1's rmse: 1.06225\n",
      "Early stopping, best iteration is:\n",
      "[230]\ttraining's rmse: 0.806025\tvalid_1's rmse: 1.06029\n",
      "CV RMSE: 0.21205787338835363\n",
      "RMSE: 1.1790889871767944\n"
     ]
    }
   ],
   "source": [
    "categorical_features = [\"building_id\", \"site_id\", \"meter\", \"primary_use\", \"weekend\"]\n",
    "#categorical_features = ['building_id', 'site_id', 'meter']\n",
    "params = {\n",
    "    \"objective\": \"regression\",\n",
    "    \"boosting\": \"gbdt\",\n",
    "    \"num_leaves\": 128,\n",
    "    \"learning_rate\": 0.05,\n",
    "    \"feature_fraction\": 0.85,\n",
    "    \"reg_lambda\": 2,\n",
    "    \"metric\": \"rmse\",\n",
    "}\n",
    "\n",
    "kf = KFold(n_splits=5, random_state=123)\n",
    "models = []\n",
    "y_pred = np.zeros(X.shape[0])\n",
    "for i, (train_index, valid_index) in enumerate(kf.split(X)):\n",
    "    print(f'Fold {i + 1} training...')\n",
    "    score = 0\n",
    "    \n",
    "    X_train = X.loc[train_index]\n",
    "    y_train = target.loc[train_index]\n",
    "    X_valid = X.loc[valid_index]\n",
    "    y_valid = target.loc[valid_index]\n",
    "    \n",
    "    d_training = lgb.Dataset(X_train, label=y_train,categorical_feature=categorical_features, free_raw_data=False)\n",
    "    d_test = lgb.Dataset(X_valid, label=y_valid,categorical_feature=categorical_features, free_raw_data=False)\n",
    "    \n",
    "    model = lgb.train(params, train_set=d_training, num_boost_round=2000, valid_sets=[d_training,d_test], verbose_eval=100, early_stopping_rounds=50)\n",
    "    models.append(model)\n",
    "    \n",
    "    y_pred_valid = model.predict(X_valid, num_iteration=model.best_iteration)\n",
    "    y_pred[valid_index] = y_pred_valid\n",
    "    \n",
    "    rmse = np.sqrt(mean_squared_error(y_valid, y_pred_valid))\n",
    "    score += rmse / 5\n",
    "    \n",
    "    del X_train, y_train, X_valid, y_valid, d_training, d_test\n",
    "    gc.collect()\n",
    "print(f'CV RMSE: {score}')\n",
    "print(f'RMSE: {np.sqrt(mean_squared_error(target, y_pred))}')"
   ]
  },
  {
   "cell_type": "code",
   "execution_count": 288,
   "metadata": {
    "scrolled": true
   },
   "outputs": [
    {
     "name": "stdout",
     "output_type": "stream",
     "text": [
      "Fold 1 training...\n",
      "Training until validation scores don't improve for 50 rounds\n",
      "[100]\ttraining's rmse: 0.908248\tvalid_1's rmse: 1.08427\n",
      "[200]\ttraining's rmse: 0.806691\tvalid_1's rmse: 1.06048\n",
      "Early stopping, best iteration is:\n",
      "[236]\ttraining's rmse: 0.793428\tvalid_1's rmse: 1.05918\n",
      "Fold 2 training...\n",
      "Training until validation scores don't improve for 50 rounds\n",
      "[100]\ttraining's rmse: 0.900845\tvalid_1's rmse: 0.991259\n",
      "[200]\ttraining's rmse: 0.810171\tvalid_1's rmse: 0.949068\n",
      "[300]\ttraining's rmse: 0.774685\tvalid_1's rmse: 0.933096\n",
      "[400]\ttraining's rmse: 0.754876\tvalid_1's rmse: 0.922781\n",
      "[500]\ttraining's rmse: 0.738819\tvalid_1's rmse: 0.917364\n",
      "[600]\ttraining's rmse: 0.725466\tvalid_1's rmse: 0.910976\n",
      "[700]\ttraining's rmse: 0.715262\tvalid_1's rmse: 0.907585\n",
      "[800]\ttraining's rmse: 0.705717\tvalid_1's rmse: 0.905558\n",
      "[900]\ttraining's rmse: 0.696843\tvalid_1's rmse: 0.903816\n",
      "[1000]\ttraining's rmse: 0.689107\tvalid_1's rmse: 0.901944\n",
      "[1100]\ttraining's rmse: 0.681783\tvalid_1's rmse: 0.90034\n",
      "[1200]\ttraining's rmse: 0.675346\tvalid_1's rmse: 0.898378\n",
      "[1300]\ttraining's rmse: 0.670014\tvalid_1's rmse: 0.897076\n",
      "[1400]\ttraining's rmse: 0.663457\tvalid_1's rmse: 0.895996\n",
      "[1500]\ttraining's rmse: 0.658739\tvalid_1's rmse: 0.895108\n",
      "[1600]\ttraining's rmse: 0.654698\tvalid_1's rmse: 0.894092\n",
      "[1700]\ttraining's rmse: 0.65055\tvalid_1's rmse: 0.893478\n",
      "[1800]\ttraining's rmse: 0.64625\tvalid_1's rmse: 0.893158\n",
      "Early stopping, best iteration is:\n",
      "[1815]\ttraining's rmse: 0.645479\tvalid_1's rmse: 0.892761\n",
      "Fold 3 training...\n",
      "Training until validation scores don't improve for 50 rounds\n",
      "[100]\ttraining's rmse: 0.896303\tvalid_1's rmse: 1.03075\n",
      "[200]\ttraining's rmse: 0.812344\tvalid_1's rmse: 0.980585\n",
      "[300]\ttraining's rmse: 0.779404\tvalid_1's rmse: 0.972295\n",
      "[400]\ttraining's rmse: 0.75881\tvalid_1's rmse: 0.968582\n",
      "[500]\ttraining's rmse: 0.741444\tvalid_1's rmse: 0.963759\n",
      "[600]\ttraining's rmse: 0.727987\tvalid_1's rmse: 0.961766\n",
      "[700]\ttraining's rmse: 0.717174\tvalid_1's rmse: 0.958308\n",
      "[800]\ttraining's rmse: 0.707221\tvalid_1's rmse: 0.955749\n",
      "[900]\ttraining's rmse: 0.698498\tvalid_1's rmse: 0.954306\n",
      "[1000]\ttraining's rmse: 0.691092\tvalid_1's rmse: 0.952901\n",
      "[1100]\ttraining's rmse: 0.68529\tvalid_1's rmse: 0.951426\n",
      "[1200]\ttraining's rmse: 0.679389\tvalid_1's rmse: 0.950105\n",
      "[1300]\ttraining's rmse: 0.673813\tvalid_1's rmse: 0.94942\n",
      "[1400]\ttraining's rmse: 0.668545\tvalid_1's rmse: 0.948454\n",
      "[1500]\ttraining's rmse: 0.663481\tvalid_1's rmse: 0.947447\n",
      "Early stopping, best iteration is:\n",
      "[1527]\ttraining's rmse: 0.662314\tvalid_1's rmse: 0.947135\n",
      "Fold 4 training...\n",
      "Training until validation scores don't improve for 50 rounds\n",
      "[100]\ttraining's rmse: 0.875794\tvalid_1's rmse: 1.12438\n",
      "[200]\ttraining's rmse: 0.796047\tvalid_1's rmse: 1.08572\n",
      "[300]\ttraining's rmse: 0.764157\tvalid_1's rmse: 1.07586\n",
      "[400]\ttraining's rmse: 0.744589\tvalid_1's rmse: 1.07059\n",
      "[500]\ttraining's rmse: 0.729111\tvalid_1's rmse: 1.06874\n",
      "[600]\ttraining's rmse: 0.716162\tvalid_1's rmse: 1.0674\n",
      "Early stopping, best iteration is:\n",
      "[567]\ttraining's rmse: 0.719669\tvalid_1's rmse: 1.06698\n",
      "Fold 5 training...\n",
      "Training until validation scores don't improve for 50 rounds\n",
      "[100]\ttraining's rmse: 0.901266\tvalid_1's rmse: 1.01906\n",
      "[200]\ttraining's rmse: 0.804719\tvalid_1's rmse: 0.996065\n",
      "Early stopping, best iteration is:\n",
      "[229]\ttraining's rmse: 0.792629\tvalid_1's rmse: 0.994711\n",
      "CV RMSE: 0.1989422629743902\n",
      "RMSE: 0.9943687684351855\n"
     ]
    }
   ],
   "source": [
    "#categorical_features = [\"building_id\", \"site_id\", \"meter\", \"primary_use\", \"weekend\"]\n",
    "categorical_features = ['building_id', 'site_id', 'meter']\n",
    "params = {\n",
    "    \"objective\": \"regression\",\n",
    "    \"boosting\": \"gbdt\",\n",
    "    \"num_leaves\": 128,\n",
    "    \"learning_rate\": 0.05,\n",
    "    \"feature_fraction\": 0.85,\n",
    "    \"reg_lambda\": 2,\n",
    "    \"metric\": \"rmse\",\n",
    "}\n",
    "\n",
    "kf = KFold(n_splits=5, random_state=35)\n",
    "models = []\n",
    "y_pred = np.zeros(X.shape[0])\n",
    "for i, (train_index, valid_index) in enumerate(kf.split(X)):\n",
    "    print(f'Fold {i + 1} training...')\n",
    "    score = 0\n",
    "    \n",
    "    X_train = X.loc[train_index]\n",
    "    y_train = target.loc[train_index]\n",
    "    X_valid = X.loc[valid_index]\n",
    "    y_valid = target.loc[valid_index]\n",
    "    \n",
    "    d_training = lgb.Dataset(X_train, label=y_train,categorical_feature=categorical_features, free_raw_data=False)\n",
    "    d_test = lgb.Dataset(X_valid, label=y_valid,categorical_feature=categorical_features, free_raw_data=False)\n",
    "    \n",
    "    model = lgb.train(params, train_set=d_training, num_boost_round=2000, valid_sets=[d_training,d_test], verbose_eval=100, early_stopping_rounds=50)\n",
    "    models.append(model)\n",
    "    \n",
    "    y_pred_valid = model.predict(X_valid, num_iteration=model.best_iteration)\n",
    "    y_pred[valid_index] = y_pred_valid\n",
    "    \n",
    "    rmse = np.sqrt(mean_squared_error(y_valid, y_pred_valid))\n",
    "    score += rmse / 5\n",
    "    \n",
    "    del X_train, y_train, X_valid, y_valid, d_training, d_test\n",
    "    gc.collect()\n",
    "print(f'CV RMSE: {score}')\n",
    "print(f'RMSE: {np.sqrt(mean_squared_error(target, y_pred))}')"
   ]
  },
  {
   "cell_type": "code",
   "execution_count": 214,
   "metadata": {
    "scrolled": true
   },
   "outputs": [
    {
     "name": "stdout",
     "output_type": "stream",
     "text": [
      "Fold 1 training...\n",
      "Training until validation scores don't improve for 50 rounds\n",
      "[100]\ttraining's rmse: 0.928292\tvalid_1's rmse: 1.06303\n",
      "[200]\ttraining's rmse: 0.836491\tvalid_1's rmse: 0.998188\n",
      "[300]\ttraining's rmse: 0.803689\tvalid_1's rmse: 0.984973\n",
      "[400]\ttraining's rmse: 0.785367\tvalid_1's rmse: 0.979291\n",
      "[500]\ttraining's rmse: 0.769536\tvalid_1's rmse: 0.973289\n",
      "[600]\ttraining's rmse: 0.754739\tvalid_1's rmse: 0.968982\n",
      "[700]\ttraining's rmse: 0.743057\tvalid_1's rmse: 0.968563\n",
      "Early stopping, best iteration is:\n",
      "[669]\ttraining's rmse: 0.746264\tvalid_1's rmse: 0.968272\n",
      "Fold 2 training...\n",
      "Training until validation scores don't improve for 50 rounds\n",
      "[100]\ttraining's rmse: 0.922809\tvalid_1's rmse: 0.990148\n",
      "[200]\ttraining's rmse: 0.831335\tvalid_1's rmse: 0.94825\n",
      "[300]\ttraining's rmse: 0.796159\tvalid_1's rmse: 0.936173\n",
      "[400]\ttraining's rmse: 0.775796\tvalid_1's rmse: 0.929366\n",
      "[500]\ttraining's rmse: 0.758444\tvalid_1's rmse: 0.92687\n",
      "[600]\ttraining's rmse: 0.74273\tvalid_1's rmse: 0.924646\n",
      "[700]\ttraining's rmse: 0.731067\tvalid_1's rmse: 0.922471\n",
      "Early stopping, best iteration is:\n",
      "[732]\ttraining's rmse: 0.728033\tvalid_1's rmse: 0.922151\n",
      "Fold 3 training...\n",
      "Training until validation scores don't improve for 50 rounds\n",
      "[100]\ttraining's rmse: 0.914358\tvalid_1's rmse: 1.02449\n",
      "[200]\ttraining's rmse: 0.832797\tvalid_1's rmse: 0.96834\n",
      "[300]\ttraining's rmse: 0.80093\tvalid_1's rmse: 0.952488\n",
      "[400]\ttraining's rmse: 0.780784\tvalid_1's rmse: 0.947299\n",
      "[500]\ttraining's rmse: 0.765601\tvalid_1's rmse: 0.945258\n",
      "[600]\ttraining's rmse: 0.753976\tvalid_1's rmse: 0.942433\n",
      "[700]\ttraining's rmse: 0.744463\tvalid_1's rmse: 0.940857\n",
      "[800]\ttraining's rmse: 0.735024\tvalid_1's rmse: 0.938413\n",
      "[900]\ttraining's rmse: 0.725696\tvalid_1's rmse: 0.937706\n",
      "[1000]\ttraining's rmse: 0.717484\tvalid_1's rmse: 0.937236\n",
      "Early stopping, best iteration is:\n",
      "[975]\ttraining's rmse: 0.719284\tvalid_1's rmse: 0.936655\n",
      "Fold 4 training...\n",
      "Training until validation scores don't improve for 50 rounds\n",
      "[100]\ttraining's rmse: 0.880045\tvalid_1's rmse: 1.11054\n",
      "[200]\ttraining's rmse: 0.803527\tvalid_1's rmse: 1.07338\n",
      "[300]\ttraining's rmse: 0.773078\tvalid_1's rmse: 1.06168\n",
      "[400]\ttraining's rmse: 0.755222\tvalid_1's rmse: 1.05695\n",
      "[500]\ttraining's rmse: 0.743013\tvalid_1's rmse: 1.05495\n",
      "[600]\ttraining's rmse: 0.732552\tvalid_1's rmse: 1.05438\n",
      "Early stopping, best iteration is:\n",
      "[637]\ttraining's rmse: 0.728269\tvalid_1's rmse: 1.05388\n",
      "Fold 5 training...\n",
      "Training until validation scores don't improve for 50 rounds\n",
      "[100]\ttraining's rmse: 0.922908\tvalid_1's rmse: 1.00954\n",
      "[200]\ttraining's rmse: 0.83505\tvalid_1's rmse: 1.00474\n",
      "Early stopping, best iteration is:\n",
      "[152]\ttraining's rmse: 0.864072\tvalid_1's rmse: 0.998369\n",
      "CV RMSE: 0.19967388048375984\n",
      "RMSE: 0.9770002489264309\n"
     ]
    }
   ],
   "source": [
    "categorical_features = [\"building_id\", \"site_id\", \"meter\", \"primary_use\", \"weekend\"]\n",
    "params = {\n",
    "    \"objective\": \"regression\",\n",
    "    \"boosting\": \"gbdt\",\n",
    "    \"num_leaves\": 128,\n",
    "    \"learning_rate\": 0.05,\n",
    "    \"feature_fraction\": 0.85,\n",
    "    \"reg_lambda\": 2,\n",
    "    \"metric\": \"rmse\",\n",
    "}\n",
    "\n",
    "kf = KFold(n_splits=5, random_state=42)\n",
    "models = []\n",
    "y_pred = np.zeros(X.shape[0])\n",
    "for i, (train_index, valid_index) in enumerate(kf.split(X)):\n",
    "    print(f'Fold {i + 1} training...')\n",
    "    score = 0\n",
    "    \n",
    "    X_train = X.loc[train_index]\n",
    "    y_train = target.loc[train_index]\n",
    "    X_valid = X.loc[valid_index]\n",
    "    y_valid = target.loc[valid_index]\n",
    "    \n",
    "    d_training = lgb.Dataset(X_train, label=y_train,categorical_feature=categorical_features, free_raw_data=False)\n",
    "    d_test = lgb.Dataset(X_valid, label=y_valid,categorical_feature=categorical_features, free_raw_data=False)\n",
    "    \n",
    "    model = lgb.train(params, train_set=d_training, num_boost_round=2000, valid_sets=[d_training,d_test], verbose_eval=100, early_stopping_rounds=50)\n",
    "    models.append(model)\n",
    "    \n",
    "    y_pred_valid = model.predict(X_valid, num_iteration=model.best_iteration)\n",
    "    y_pred[valid_index] = y_pred_valid\n",
    "    \n",
    "    rmse = np.sqrt(mean_squared_error(y_valid, y_pred_valid))\n",
    "    score += rmse / 5\n",
    "    \n",
    "    del X_train, y_train, X_valid, y_valid, d_training, d_test\n",
    "    gc.collect()\n",
    "print(f'CV RMSE: {score}')\n",
    "print(f'RMSE: {np.sqrt(mean_squared_error(target, y_pred))}')"
   ]
  },
  {
   "cell_type": "code",
   "execution_count": 176,
   "metadata": {
    "scrolled": true
   },
   "outputs": [
    {
     "name": "stdout",
     "output_type": "stream",
     "text": [
      "Fold 1 training...\n",
      "Training until validation scores don't improve for 50 rounds\n",
      "[100]\ttraining's rmse: 0.944062\tvalid_1's rmse: 1.08708\n",
      "[200]\ttraining's rmse: 0.880738\tvalid_1's rmse: 1.05544\n",
      "[300]\ttraining's rmse: 0.857731\tvalid_1's rmse: 1.05323\n",
      "Early stopping, best iteration is:\n",
      "[276]\ttraining's rmse: 0.861726\tvalid_1's rmse: 1.05245\n",
      "Fold 2 training...\n",
      "Training until validation scores don't improve for 50 rounds\n",
      "[100]\ttraining's rmse: 0.94588\tvalid_1's rmse: 1.01373\n",
      "[200]\ttraining's rmse: 0.878458\tvalid_1's rmse: 0.993536\n",
      "[300]\ttraining's rmse: 0.854656\tvalid_1's rmse: 0.991762\n",
      "Early stopping, best iteration is:\n",
      "[326]\ttraining's rmse: 0.851539\tvalid_1's rmse: 0.991399\n",
      "Fold 3 training...\n",
      "Training until validation scores don't improve for 50 rounds\n",
      "[100]\ttraining's rmse: 0.943418\tvalid_1's rmse: 1.03213\n",
      "[200]\ttraining's rmse: 0.888862\tvalid_1's rmse: 0.990122\n",
      "[300]\ttraining's rmse: 0.869386\tvalid_1's rmse: 0.98252\n",
      "[400]\ttraining's rmse: 0.856909\tvalid_1's rmse: 0.979151\n",
      "[500]\ttraining's rmse: 0.84701\tvalid_1's rmse: 0.976854\n",
      "[600]\ttraining's rmse: 0.839895\tvalid_1's rmse: 0.975818\n",
      "[700]\ttraining's rmse: 0.832543\tvalid_1's rmse: 0.974508\n",
      "[800]\ttraining's rmse: 0.82584\tvalid_1's rmse: 0.973925\n",
      "[900]\ttraining's rmse: 0.817838\tvalid_1's rmse: 0.973658\n",
      "[1000]\ttraining's rmse: 0.811762\tvalid_1's rmse: 0.973248\n",
      "Early stopping, best iteration is:\n",
      "[1025]\ttraining's rmse: 0.809837\tvalid_1's rmse: 0.973096\n",
      "Fold 4 training...\n",
      "Training until validation scores don't improve for 50 rounds\n",
      "[100]\ttraining's rmse: 0.906177\tvalid_1's rmse: 1.13696\n",
      "[200]\ttraining's rmse: 0.849575\tvalid_1's rmse: 1.11899\n",
      "[300]\ttraining's rmse: 0.83053\tvalid_1's rmse: 1.11569\n",
      "[400]\ttraining's rmse: 0.816799\tvalid_1's rmse: 1.11473\n",
      "Early stopping, best iteration is:\n",
      "[374]\ttraining's rmse: 0.820439\tvalid_1's rmse: 1.11427\n",
      "Fold 5 training...\n",
      "Training until validation scores don't improve for 50 rounds\n",
      "[100]\ttraining's rmse: 0.947387\tvalid_1's rmse: 1.04609\n",
      "Early stopping, best iteration is:\n",
      "[143]\ttraining's rmse: 0.899848\tvalid_1's rmse: 1.03998\n",
      "CV RMSE: 0.20799628560855746\n",
      "RMSE: 1.0354318989737208\n"
     ]
    }
   ],
   "source": [
    "categorical_features = [\"building_id\", \"site_id\", \"meter\", \"primary_use\", \"weekend\"]\n",
    "params = {\n",
    "    \"objective\": \"regression\",\n",
    "    \"boosting\": \"gbdt\",\n",
    "    \"num_leaves\": 128,\n",
    "    \"learning_rate\": 0.05,\n",
    "    \"feature_fraction\": 0.85,\n",
    "    \"reg_lambda\": 2,\n",
    "    \"metric\": \"rmse\",\n",
    "}\n",
    "\n",
    "kf = KFold(n_splits=5, random_state=42)\n",
    "models = []\n",
    "y_pred = np.zeros(X.shape[0])\n",
    "for i, (train_index, valid_index) in enumerate(kf.split(X)):\n",
    "    print(f'Fold {i + 1} training...')\n",
    "    score = 0\n",
    "    \n",
    "    X_train = X.loc[train_index]\n",
    "    y_train = target.loc[train_index]\n",
    "    X_valid = X.loc[valid_index]\n",
    "    y_valid = target.loc[valid_index]\n",
    "    \n",
    "    d_training = lgb.Dataset(X_train, label=y_train,categorical_feature=categorical_features, free_raw_data=False)\n",
    "    d_test = lgb.Dataset(X_valid, label=y_valid,categorical_feature=categorical_features, free_raw_data=False)\n",
    "    \n",
    "    model = lgb.train(params, train_set=d_training, num_boost_round=2000, valid_sets=[d_training,d_test], verbose_eval=100, early_stopping_rounds=50)\n",
    "    models.append(model)\n",
    "    \n",
    "    y_pred_valid = model.predict(X_valid, num_iteration=model.best_iteration)\n",
    "    y_pred[valid_index] = y_pred_valid\n",
    "    \n",
    "    rmse = np.sqrt(mean_squared_error(y_valid, y_pred_valid))\n",
    "    score += rmse / 5\n",
    "    \n",
    "    del X_train, y_train, X_valid, y_valid, d_training, d_test\n",
    "    gc.collect()\n",
    "print(f'CV RMSE: {score}')\n",
    "print(f'RMSE: {np.sqrt(mean_squared_error(target, y_pred))}')"
   ]
  },
  {
   "cell_type": "code",
   "execution_count": 44,
   "metadata": {
    "scrolled": true
   },
   "outputs": [
    {
     "name": "stdout",
     "output_type": "stream",
     "text": [
      "Fold 1 training...\n",
      "Training until validation scores don't improve for 50 rounds\n",
      "[100]\ttraining's rmse: 0.540025\tvalid_1's rmse: 1.04524\n",
      "[200]\ttraining's rmse: 0.467257\tvalid_1's rmse: 1.04482\n",
      "Early stopping, best iteration is:\n",
      "[150]\ttraining's rmse: 0.492052\tvalid_1's rmse: 1.04375\n",
      "Fold 2 training...\n",
      "Training until validation scores don't improve for 50 rounds\n",
      "[100]\ttraining's rmse: 0.649371\tvalid_1's rmse: 1.22881\n",
      "[200]\ttraining's rmse: 0.586207\tvalid_1's rmse: 1.22241\n",
      "Early stopping, best iteration is:\n",
      "[204]\ttraining's rmse: 0.584898\tvalid_1's rmse: 1.22202\n",
      "Fold 3 training...\n",
      "Training until validation scores don't improve for 50 rounds\n",
      "[100]\ttraining's rmse: 0.708142\tvalid_1's rmse: 1.01139\n",
      "Early stopping, best iteration is:\n",
      "[70]\ttraining's rmse: 0.757881\tvalid_1's rmse: 0.999231\n",
      "Fold 4 training...\n",
      "Training until validation scores don't improve for 50 rounds\n",
      "[100]\ttraining's rmse: 0.737518\tvalid_1's rmse: 1.19278\n",
      "Early stopping, best iteration is:\n",
      "[76]\ttraining's rmse: 0.772253\tvalid_1's rmse: 1.1896\n",
      "Fold 5 training...\n",
      "Training until validation scores don't improve for 50 rounds\n",
      "[100]\ttraining's rmse: 0.809004\tvalid_1's rmse: 1.03391\n",
      "Early stopping, best iteration is:\n",
      "[81]\ttraining's rmse: 0.835238\tvalid_1's rmse: 1.02987\n",
      "CV RMSE: 0.20597412216242\n",
      "RMSE: 2.156315970522091\n"
     ]
    }
   ],
   "source": [
    "categorical_features = [\"building_id\", \"site_id\", \"meter\", \"primary_use\", \"weekend\"]\n",
    "params = {\n",
    "    \"objective\": \"regression\",\n",
    "    \"boosting\": \"gbdt\",\n",
    "    \"num_leaves\": 1280,\n",
    "    \"learning_rate\": 0.05,\n",
    "    \"feature_fraction\": 0.85,\n",
    "    \"reg_lambda\": 2,\n",
    "    \"metric\": \"rmse\",\n",
    "}\n",
    "\n",
    "kf = TimeSeriesSplit(n_splits=5)\n",
    "#models = []\n",
    "y_pred = np.zeros(X.shape[0])\n",
    "for i, (train_index, valid_index) in enumerate(kf.split(X)):\n",
    "    print(f'Fold {i + 1} training...')\n",
    "    score = 0\n",
    "    \n",
    "    X_train = X.loc[train_index]\n",
    "    y_train = target.loc[train_index]\n",
    "    X_valid = X.loc[valid_index]\n",
    "    y_valid = target.loc[valid_index]\n",
    "    \n",
    "    d_training = lgb.Dataset(X_train, label=y_train,categorical_feature=categorical_features, free_raw_data=False)\n",
    "    d_test = lgb.Dataset(X_valid, label=y_valid,categorical_feature=categorical_features, free_raw_data=False)\n",
    "    \n",
    "    model = lgb.train(params, train_set=d_training, num_boost_round=1000, valid_sets=[d_training,d_test], verbose_eval=100, early_stopping_rounds=50)\n",
    "    #models.append(model)\n",
    "    \n",
    "    y_pred_valid = model.predict(X_valid, num_iteration=model.best_iteration)\n",
    "    y_pred[valid_index] = y_pred_valid\n",
    "    \n",
    "    rmse = np.sqrt(mean_squared_error(y_valid, y_pred_valid))\n",
    "    score += rmse / 5\n",
    "    \n",
    "    del X_train, y_train, X_valid, y_valid, d_training, d_test\n",
    "    gc.collect()\n",
    "\n",
    "print(f'CV RMSE: {score}')\n",
    "print(f'RMSE: {np.sqrt(mean_squared_error(target, y_pred))}')"
   ]
  },
  {
   "cell_type": "code",
   "execution_count": 328,
   "metadata": {},
   "outputs": [
    {
     "data": {
      "text/plain": [
       "20"
      ]
     },
     "execution_count": 328,
     "metadata": {},
     "output_type": "execute_result"
    }
   ],
   "source": [
    "del X, target\n",
    "gc.collect()"
   ]
  },
  {
   "cell_type": "markdown",
   "metadata": {},
   "source": [
    "## Important Features"
   ]
  },
  {
   "cell_type": "code",
   "execution_count": 329,
   "metadata": {},
   "outputs": [
    {
     "data": {
      "image/png": "[encoded data removed]",
      "text/plain": [
       "<Figure size 432x288 with 1 Axes>"
      ]
     },
     "metadata": {
      "needs_background": "light"
     },
     "output_type": "display_data"
    }
   ],
   "source": [
    "lgb.plot_importance(model)\n",
    "plt.show()"
   ]
  },
  {
   "cell_type": "markdown",
   "metadata": {},
   "source": [
    "## Prediction 1時間以上"
   ]
  },
  {
   "cell_type": "code",
   "execution_count": 330,
   "metadata": {},
   "outputs": [
    {
     "name": "stderr",
     "output_type": "stream",
     "text": [
      "100%|██████████| 5/5 [58:51<00:00, 706.34s/it]   \n"
     ]
    }
   ],
   "source": [
    "results = []\n",
    "\"\"\"\n",
    "model_all = lgb.LGBMRegressor(**params, num_boost_round=int(np.floor(model.best_iteration * 1.25)))\n",
    "model_all.fit(X, target)\n",
    "results = np.expm1(model_all.predict(test_df))\n",
    "\"\"\"\n",
    "\n",
    "for model in tqdm(models):\n",
    "    if  results == []:\n",
    "        results = np.expm1(model.predict(test_df, num_iteration=model.best_iteration)) / len(models)\n",
    "    else:\n",
    "        results += np.expm1(model.predict(test_df, num_iteration=model.best_iteration)) / len(models)\n",
    "    del model\n",
    "    gc.collect()\n"
   ]
  },
  {
   "cell_type": "code",
   "execution_count": 331,
   "metadata": {},
   "outputs": [
    {
     "data": {
      "text/plain": [
       "20"
      ]
     },
     "execution_count": 331,
     "metadata": {},
     "output_type": "execute_result"
    }
   ],
   "source": [
    "del test_df\n",
    "gc.collect()"
   ]
  },
  {
   "cell_type": "markdown",
   "metadata": {},
   "source": [
    "## Submission"
   ]
  },
  {
   "cell_type": "code",
   "execution_count": 332,
   "metadata": {},
   "outputs": [],
   "source": [
    "today = str(datetime.date.today())\n",
    "results_df = pd.DataFrame({\"row_id\": row_ids, \"meter_reading\": np.clip(results, 0, a_max=None)})\n",
    "del row_ids,results\n",
    "gc.collect()\n",
    "results_df.to_csv(f\"submission_{today}_TargetEnc_4.csv\", index=False)"
   ]
  },
  {
   "cell_type": "code",
   "execution_count": 333,
   "metadata": {},
   "outputs": [
    {
     "data": {
      "text/html": [
       "<div>\n",
       "<style scoped>\n",
       "    .dataframe tbody tr th:only-of-type {\n",
       "        vertical-align: middle;\n",
       "    }\n",
       "\n",
       "    .dataframe tbody tr th {\n",
       "        vertical-align: top;\n",
       "    }\n",
       "\n",
       "    .dataframe thead th {\n",
       "        text-align: right;\n",
       "    }\n",
       "</style>\n",
       "<table border=\"1\" class=\"dataframe\">\n",
       "  <thead>\n",
       "    <tr style=\"text-align: right;\">\n",
       "      <th></th>\n",
       "      <th>row_id</th>\n",
       "      <th>meter_reading</th>\n",
       "    </tr>\n",
       "  </thead>\n",
       "  <tbody>\n",
       "    <tr>\n",
       "      <td>0</td>\n",
       "      <td>0</td>\n",
       "      <td>199.251543</td>\n",
       "    </tr>\n",
       "    <tr>\n",
       "      <td>1</td>\n",
       "      <td>1</td>\n",
       "      <td>88.056832</td>\n",
       "    </tr>\n",
       "    <tr>\n",
       "      <td>2</td>\n",
       "      <td>2</td>\n",
       "      <td>7.122924</td>\n",
       "    </tr>\n",
       "    <tr>\n",
       "      <td>3</td>\n",
       "      <td>3</td>\n",
       "      <td>325.375114</td>\n",
       "    </tr>\n",
       "    <tr>\n",
       "      <td>4</td>\n",
       "      <td>4</td>\n",
       "      <td>939.313006</td>\n",
       "    </tr>\n",
       "    <tr>\n",
       "      <td>5</td>\n",
       "      <td>5</td>\n",
       "      <td>11.834825</td>\n",
       "    </tr>\n",
       "    <tr>\n",
       "      <td>6</td>\n",
       "      <td>6</td>\n",
       "      <td>111.962977</td>\n",
       "    </tr>\n",
       "    <tr>\n",
       "      <td>7</td>\n",
       "      <td>7</td>\n",
       "      <td>426.439150</td>\n",
       "    </tr>\n",
       "    <tr>\n",
       "      <td>8</td>\n",
       "      <td>8</td>\n",
       "      <td>630.100929</td>\n",
       "    </tr>\n",
       "    <tr>\n",
       "      <td>9</td>\n",
       "      <td>9</td>\n",
       "      <td>436.320014</td>\n",
       "    </tr>\n",
       "    <tr>\n",
       "      <td>10</td>\n",
       "      <td>10</td>\n",
       "      <td>61.419047</td>\n",
       "    </tr>\n",
       "    <tr>\n",
       "      <td>11</td>\n",
       "      <td>11</td>\n",
       "      <td>20.304858</td>\n",
       "    </tr>\n",
       "    <tr>\n",
       "      <td>12</td>\n",
       "      <td>12</td>\n",
       "      <td>936.914099</td>\n",
       "    </tr>\n",
       "    <tr>\n",
       "      <td>13</td>\n",
       "      <td>13</td>\n",
       "      <td>299.161013</td>\n",
       "    </tr>\n",
       "    <tr>\n",
       "      <td>14</td>\n",
       "      <td>14</td>\n",
       "      <td>210.510868</td>\n",
       "    </tr>\n",
       "    <tr>\n",
       "      <td>15</td>\n",
       "      <td>15</td>\n",
       "      <td>231.337023</td>\n",
       "    </tr>\n",
       "    <tr>\n",
       "      <td>16</td>\n",
       "      <td>16</td>\n",
       "      <td>47.963236</td>\n",
       "    </tr>\n",
       "    <tr>\n",
       "      <td>17</td>\n",
       "      <td>17</td>\n",
       "      <td>304.059602</td>\n",
       "    </tr>\n",
       "    <tr>\n",
       "      <td>18</td>\n",
       "      <td>18</td>\n",
       "      <td>597.558825</td>\n",
       "    </tr>\n",
       "    <tr>\n",
       "      <td>19</td>\n",
       "      <td>19</td>\n",
       "      <td>220.824936</td>\n",
       "    </tr>\n",
       "  </tbody>\n",
       "</table>\n",
       "</div>"
      ],
      "text/plain": [
       "    row_id  meter_reading\n",
       "0        0     199.251543\n",
       "1        1      88.056832\n",
       "2        2       7.122924\n",
       "3        3     325.375114\n",
       "4        4     939.313006\n",
       "5        5      11.834825\n",
       "6        6     111.962977\n",
       "7        7     426.439150\n",
       "8        8     630.100929\n",
       "9        9     436.320014\n",
       "10      10      61.419047\n",
       "11      11      20.304858\n",
       "12      12     936.914099\n",
       "13      13     299.161013\n",
       "14      14     210.510868\n",
       "15      15     231.337023\n",
       "16      16      47.963236\n",
       "17      17     304.059602\n",
       "18      18     597.558825\n",
       "19      19     220.824936"
      ]
     },
     "execution_count": 333,
     "metadata": {},
     "output_type": "execute_result"
    }
   ],
   "source": [
    "results_df.head(20)"
   ]
  },
  {
   "cell_type": "markdown",
   "metadata": {},
   "source": [
    "<font color=\"green\">**Give me your feedback and if you find my kernel is clean and helpful, please UPVOTE**</font>"
   ]
  }
 ],
 "metadata": {
  "kernelspec": {
   "display_name": "Python 3",
   "language": "python",
   "name": "python3"
  },
  "language_info": {
   "codemirror_mode": {
    "name": "ipython",
    "version": 3
   },
   "file_extension": ".py",
   "mimetype": "text/x-python",
   "name": "python",
   "nbconvert_exporter": "python",
   "pygments_lexer": "ipython3",
   "version": "3.7.4"
  }
 },
 "nbformat": 4,
 "nbformat_minor": 1
}
